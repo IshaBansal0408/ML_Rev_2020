{
 "cells": [
  {
   "cell_type": "markdown",
   "metadata": {},
   "source": [
    "# Linear Regression"
   ]
  },
  {
   "cell_type": "markdown",
   "metadata": {},
   "source": [
    "**Steps Involved:**\n",
    "\n",
    "    1. Give random value to theta\n",
    "    2. Measure how good theta is - loss function\n",
    "    3. Update theta - Gradient Descent"
   ]
  },
  {
   "cell_type": "code",
   "execution_count": 1,
   "metadata": {},
   "outputs": [],
   "source": [
    "import numpy as np\n",
    "import pandas as pd\n",
    "import matplotlib.pyplot as plt"
   ]
  },
  {
   "cell_type": "markdown",
   "metadata": {},
   "source": [
    "# Step 1 - Data Loading and Visualisation"
   ]
  },
  {
   "cell_type": "code",
   "execution_count": 2,
   "metadata": {},
   "outputs": [],
   "source": [
    "x=pd.read_csv(\"./Training data/Linear_X_Train.csv\")"
   ]
  },
  {
   "cell_type": "code",
   "execution_count": 3,
   "metadata": {},
   "outputs": [],
   "source": [
    "y=pd.read_csv(\"./Training data/Linear_Y_Train.csv\")"
   ]
  },
  {
   "cell_type": "code",
   "execution_count": 4,
   "metadata": {},
   "outputs": [
    {
     "data": {
      "text/html": [
       "<div>\n",
       "<style scoped>\n",
       "    .dataframe tbody tr th:only-of-type {\n",
       "        vertical-align: middle;\n",
       "    }\n",
       "\n",
       "    .dataframe tbody tr th {\n",
       "        vertical-align: top;\n",
       "    }\n",
       "\n",
       "    .dataframe thead th {\n",
       "        text-align: right;\n",
       "    }\n",
       "</style>\n",
       "<table border=\"1\" class=\"dataframe\">\n",
       "  <thead>\n",
       "    <tr style=\"text-align: right;\">\n",
       "      <th></th>\n",
       "      <th>x</th>\n",
       "    </tr>\n",
       "  </thead>\n",
       "  <tbody>\n",
       "    <tr>\n",
       "      <th>0</th>\n",
       "      <td>-0.289307</td>\n",
       "    </tr>\n",
       "    <tr>\n",
       "      <th>1</th>\n",
       "      <td>-0.588810</td>\n",
       "    </tr>\n",
       "    <tr>\n",
       "      <th>2</th>\n",
       "      <td>1.027507</td>\n",
       "    </tr>\n",
       "    <tr>\n",
       "      <th>3</th>\n",
       "      <td>-0.259013</td>\n",
       "    </tr>\n",
       "    <tr>\n",
       "      <th>4</th>\n",
       "      <td>0.782043</td>\n",
       "    </tr>\n",
       "  </tbody>\n",
       "</table>\n",
       "</div>"
      ],
      "text/plain": [
       "          x\n",
       "0 -0.289307\n",
       "1 -0.588810\n",
       "2  1.027507\n",
       "3 -0.259013\n",
       "4  0.782043"
      ]
     },
     "execution_count": 4,
     "metadata": {},
     "output_type": "execute_result"
    }
   ],
   "source": [
    "x.head()"
   ]
  },
  {
   "cell_type": "code",
   "execution_count": 5,
   "metadata": {},
   "outputs": [
    {
     "data": {
      "text/html": [
       "<div>\n",
       "<style scoped>\n",
       "    .dataframe tbody tr th:only-of-type {\n",
       "        vertical-align: middle;\n",
       "    }\n",
       "\n",
       "    .dataframe tbody tr th {\n",
       "        vertical-align: top;\n",
       "    }\n",
       "\n",
       "    .dataframe thead th {\n",
       "        text-align: right;\n",
       "    }\n",
       "</style>\n",
       "<table border=\"1\" class=\"dataframe\">\n",
       "  <thead>\n",
       "    <tr style=\"text-align: right;\">\n",
       "      <th></th>\n",
       "      <th>y</th>\n",
       "    </tr>\n",
       "  </thead>\n",
       "  <tbody>\n",
       "    <tr>\n",
       "      <th>0</th>\n",
       "      <td>-0.091101</td>\n",
       "    </tr>\n",
       "    <tr>\n",
       "      <th>1</th>\n",
       "      <td>-53.467721</td>\n",
       "    </tr>\n",
       "    <tr>\n",
       "      <th>2</th>\n",
       "      <td>75.457009</td>\n",
       "    </tr>\n",
       "    <tr>\n",
       "      <th>3</th>\n",
       "      <td>-12.025286</td>\n",
       "    </tr>\n",
       "    <tr>\n",
       "      <th>4</th>\n",
       "      <td>57.414187</td>\n",
       "    </tr>\n",
       "  </tbody>\n",
       "</table>\n",
       "</div>"
      ],
      "text/plain": [
       "           y\n",
       "0  -0.091101\n",
       "1 -53.467721\n",
       "2  75.457009\n",
       "3 -12.025286\n",
       "4  57.414187"
      ]
     },
     "execution_count": 5,
     "metadata": {},
     "output_type": "execute_result"
    }
   ],
   "source": [
    "y.head()"
   ]
  },
  {
   "cell_type": "code",
   "execution_count": 6,
   "metadata": {},
   "outputs": [
    {
     "data": {
      "text/plain": [
       "(3750, 1)"
      ]
     },
     "execution_count": 6,
     "metadata": {},
     "output_type": "execute_result"
    }
   ],
   "source": [
    "x.shape"
   ]
  },
  {
   "cell_type": "code",
   "execution_count": 7,
   "metadata": {},
   "outputs": [
    {
     "data": {
      "text/plain": [
       "(3750, 1)"
      ]
     },
     "execution_count": 7,
     "metadata": {},
     "output_type": "execute_result"
    }
   ],
   "source": [
    "y.shape"
   ]
  },
  {
   "cell_type": "code",
   "execution_count": 8,
   "metadata": {},
   "outputs": [],
   "source": [
    "plt.style.use(\"seaborn\")"
   ]
  },
  {
   "cell_type": "code",
   "execution_count": 9,
   "metadata": {},
   "outputs": [
    {
     "data": {
      "image/png": "[encoded data removed]",
      "text/plain": [
       "<Figure size 576x396 with 1 Axes>"
      ]
     },
     "metadata": {},
     "output_type": "display_data"
    }
   ],
   "source": [
    "plt.scatter(x,y)\n",
    "plt.xlabel('x values')\n",
    "plt.ylabel('y values')\n",
    "plt.title(\"Data visualisation for Linear Regression\")\n",
    "plt.show()"
   ]
  },
  {
   "cell_type": "code",
   "execution_count": 10,
   "metadata": {},
   "outputs": [],
   "source": [
    "#convert x and y into numpy arrays\n",
    "x=x.values\n",
    "y=y.values"
   ]
  },
  {
   "cell_type": "code",
   "execution_count": 11,
   "metadata": {},
   "outputs": [
    {
     "name": "stdout",
     "output_type": "stream",
     "text": [
      "x data:\n",
      " [[-0.28930742]\n",
      " [-0.58880963]\n",
      " [ 1.02750749]\n",
      " ...\n",
      " [-0.30516366]\n",
      " [ 1.67583291]\n",
      " [-0.49175724]] \n",
      "\n",
      " y data:\n",
      " [[-9.11011171e-02]\n",
      " [-5.34677208e+01]\n",
      " [ 7.54570088e+01]\n",
      " ...\n",
      " [-3.49832749e+01]\n",
      " [ 1.45206092e+02]\n",
      " [-1.71244939e+01]]\n"
     ]
    }
   ],
   "source": [
    "print(\"x data:\\n\",x,'\\n\\n',\"y data:\\n\",y)"
   ]
  },
  {
   "cell_type": "markdown",
   "metadata": {},
   "source": [
    "# Step 2 : Implement Linear Regression"
   ]
  },
  {
   "cell_type": "code",
   "execution_count": 12,
   "metadata": {},
   "outputs": [],
   "source": [
    "#computes the y_hat (prediction) => y_hat = x*theta(1)+theta(0)\n",
    "def hypothesis(x,theta):\n",
    "    #theta here => [theta0,theta1]\n",
    "    yhat = theta[0] + theta[1]*x\n",
    "    return yhat"
   ]
  },
  {
   "cell_type": "code",
   "execution_count": 13,
   "metadata": {},
   "outputs": [],
   "source": [
    "#computes gradient\n",
    "def gradient(x_data,y_data,theta):\n",
    "    n=x_data.shape[0]  #total no of values\n",
    "    grad=np.zeros((2,1)) # two gradient for theta0 and theta1\n",
    "    sum0,sum1=0,0\n",
    "    for i in range(n):\n",
    "        yhat=hypothesis(x_data[i],theta)\n",
    "        yorg=y_data[i]\n",
    "        sum0+=abs(yhat-yorg)\n",
    "        sum1+=abs(yhat-yorg)*x_data[i]\n",
    "    grad[0]=sum0/n\n",
    "    grad[1]=sum1/n\n",
    "    return grad"
   ]
  },
  {
   "cell_type": "code",
   "execution_count": 14,
   "metadata": {},
   "outputs": [],
   "source": [
    "# compute gradient descent\n",
    "def gradient_descent(x_data,y_data,lr=0.1,max_steps=100):\n",
    "    theta=np.zeros((2,1))\n",
    "    error_list=[]\n",
    "    for i in range(max_steps):\n",
    "        #update theta\n",
    "        theta[0] =theta[0] - lr*gradient(x_data,y_data,theta)[0]\n",
    "        theta[1] =theta[1] - lr*gradient(x_data,y_data,theta)[1]\n",
    "        error_list.append(error(x_data,y_data,theta))\n",
    "    return theta,error_list"
   ]
  },
  {
   "cell_type": "code",
   "execution_count": 15,
   "metadata": {},
   "outputs": [],
   "source": [
    "# Check error ( MEAN SQUARE ERROR)\n",
    "def error(x_data,y_data,theta):\n",
    "    n=x_data.shape[0]\n",
    "    total_error=0\n",
    "    for i  in range(n):\n",
    "        yhat = hypothesis(x_data[i],theta)\n",
    "        total_error+=(yhat - y_data[i])**2\n",
    "    return total_error/n "
   ]
  },
  {
   "cell_type": "code",
   "execution_count": 16,
   "metadata": {},
   "outputs": [],
   "source": [
    "final_theta,all_error=gradient_descent(x,y)"
   ]
  },
  {
   "cell_type": "code",
   "execution_count": 17,
   "metadata": {},
   "outputs": [
    {
     "name": "stdout",
     "output_type": "stream",
     "text": [
      "[[-483097.12743934]\n",
      " [-141990.48306685]]\n"
     ]
    }
   ],
   "source": [
    "print(final_theta)"
   ]
  },
  {
   "cell_type": "code",
   "execution_count": 18,
   "metadata": {},
   "outputs": [
    {
     "data": {
      "text/plain": [
       "[array([6684.24925884]),\n",
       " array([6956.22602122]),\n",
       " array([7398.79231893]),\n",
       " array([8025.04792213]),\n",
       " array([8854.37999335]),\n",
       " array([9913.59299411]),\n",
       " array([11237.53415575]),\n",
       " array([12869.76244134]),\n",
       " array([14864.45294373]),\n",
       " array([17287.73013638]),\n",
       " array([20219.91744696]),\n",
       " array([23758.90533266]),\n",
       " array([28022.80851842]),\n",
       " array([33154.2484367]),\n",
       " array([39325.4223212]),\n",
       " array([46742.04374467]),\n",
       " array([55651.83707453]),\n",
       " array([66355.21509397]),\n",
       " array([79212.74501823]),\n",
       " array([94655.76194047]),\n",
       " array([113203.49962585]),\n",
       " array([135482.7269487]),\n",
       " array([162246.05146762]),\n",
       " array([194399.51518295]),\n",
       " array([233029.25503811]),\n",
       " array([279444.63560755]),\n",
       " array([335217.71089278]),\n",
       " array([402241.35878522]),\n",
       " array([482797.28056039]),\n",
       " array([579624.99960962]),\n",
       " array([696020.96356281]),\n",
       " array([835949.93951775]),\n",
       " array([1004178.39486542]),\n",
       " array([1206439.64076685]),\n",
       " array([1449633.10403313]),\n",
       " array([1742067.96841996]),\n",
       " array([2093730.74833277]),\n",
       " array([2516642.48709783]),\n",
       " array([3025252.55323852]),\n",
       " array([3636932.95971469]),\n",
       " array([4372607.9481986]),\n",
       " array([5257440.08047907]),\n",
       " array([6321706.07508601]),\n",
       " array([7601846.52608917]),\n",
       " array([9141718.22550666]),\n",
       " array([10994119.22325527]),\n",
       " array([13222597.54981374]),\n",
       " array([15903591.46417981]),\n",
       " array([19129089.18710601]),\n",
       " array([23009806.20906967]),\n",
       " array([27678991.84743346]),\n",
       " array([33297062.33699739]),\n",
       " array([40057096.0606287]),\n",
       " array([48191476.10065757]),\n",
       " array([57979900.09966006]),\n",
       " array([69759016.05760372]),\n",
       " array([83934471.4361254]),\n",
       " array([1.00994495e+08]),\n",
       " array([1.21526809e+08]),\n",
       " array([1.46239099e+08]),\n",
       " array([1.75983565e+08]),\n",
       " array([2.11785556e+08]),\n",
       " array([2.54879981e+08]),\n",
       " array([3.06753771e+08]),\n",
       " array([3.691983e+08]),\n",
       " array([4.44370243e+08]),\n",
       " array([5.34867684e+08]),\n",
       " array([6.43819024e+08]),\n",
       " array([7.74992841e+08]),\n",
       " array([9.3292743e+08]),\n",
       " array([1.12309052e+09]),\n",
       " array([1.35206987e+09]),\n",
       " array([1.62779968e+09]),\n",
       " array([1.95984024e+09]),\n",
       " array([2.35970972e+09]),\n",
       " array([2.84128349e+09]),\n",
       " array([3.42127772e+09]),\n",
       " array([4.1198367e+09]),\n",
       " array([4.96123541e+09]),\n",
       " array([5.97472055e+09]),\n",
       " array([7.19553807e+09]),\n",
       " array([8.66617443e+09]),\n",
       " array([1.04377976e+10]),\n",
       " array([1.25720759e+10]),\n",
       " array([1.51433254e+10]),\n",
       " array([1.82411396e+10]),\n",
       " array([2.19735104e+10]),\n",
       " array([2.6470591e+10]),\n",
       " array([3.18892752e+10]),\n",
       " array([3.84187018e+10]),\n",
       " array([4.62870187e+10]),\n",
       " array([5.57692614e+10]),\n",
       " array([6.71971371e+10]),\n",
       " array([8.09705407e+10]),\n",
       " array([9.75716757e+10]),\n",
       " array([1.175821e+11]),\n",
       " array([1.41703045e+11]),\n",
       " array([1.70780115e+11]),\n",
       " array([2.05833321e+11]),\n",
       " array([2.48092954e+11])]"
      ]
     },
     "execution_count": 18,
     "metadata": {},
     "output_type": "execute_result"
    }
   ],
   "source": [
    "all_error"
   ]
  },
  {
   "cell_type": "code",
   "execution_count": 19,
   "metadata": {},
   "outputs": [
    {
     "data": {
      "text/plain": [
       "[<matplotlib.lines.Line2D at 0x1fe1c06b190>]"
      ]
     },
     "execution_count": 19,
     "metadata": {},
     "output_type": "execute_result"
    },
    {
     "data": {
      "image/png": "[encoded data removed]",
      "text/plain": [
       "<Figure size 576x396 with 1 Axes>"
      ]
     },
     "metadata": {},
     "output_type": "display_data"
    }
   ],
   "source": [
    "plt.plot(all_error)"
   ]
  },
  {
   "cell_type": "code",
   "execution_count": 22,
   "metadata": {},
   "outputs": [],
   "source": [
    "x_points=[]\n",
    "y_points=[]\n",
    "for i in range(x.shape[0]):\n",
    "    cur_y=final_theta[0]+final_theta[1]*x[i]\n",
    "    y_points.append(cur_y)\n",
    "    x_points.append(x[i])"
   ]
  },
  {
   "cell_type": "code",
   "execution_count": 23,
   "metadata": {},
   "outputs": [],
   "source": [
    "x_points=np.array(x_points)"
   ]
  },
  {
   "cell_type": "code",
   "execution_count": 24,
   "metadata": {},
   "outputs": [],
   "source": [
    "y_points=np.array(y_points)"
   ]
  },
  {
   "cell_type": "code",
   "execution_count": 40,
   "metadata": {},
   "outputs": [
    {
     "data": {
      "image/png": "[encoded data removed]",
      "text/plain": [
       "<Figure size 576x396 with 1 Axes>"
      ]
     },
     "metadata": {},
     "output_type": "display_data"
    }
   ],
   "source": [
    "plt.scatter(x,y)\n",
    "plt.xlabel('x values')\n",
    "plt.ylabel('y values')\n",
    "plt.title(\"Linear Regression\")\n",
    "\n",
    "plt.plot(x_points,y_points,color=\"red\")\n",
    "plt.show()"
   ]
  },
  {
   "cell_type": "code",
   "execution_count": null,
   "metadata": {},
   "outputs": [],
   "source": []
  }
 ],
 "metadata": {
  "kernelspec": {
   "display_name": "Python 3",
   "language": "python",
   "name": "python3"
  },
  "language_info": {
   "codemirror_mode": {
    "name": "ipython",
    "version": 3
   },
   "file_extension": ".py",
   "mimetype": "text/x-python",
   "name": "python",
   "nbconvert_exporter": "python",
   "pygments_lexer": "ipython3",
   "version": "3.8.6"
  }
 },
 "nbformat": 4,
 "nbformat_minor": 4
}
