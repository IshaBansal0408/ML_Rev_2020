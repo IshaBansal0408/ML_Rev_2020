{
 "cells": [
  {
   "cell_type": "code",
   "execution_count": 1,
   "metadata": {},
   "outputs": [],
   "source": [
    "import pandas as pd\n",
    "import numpy as np\n",
    "import matplotlib.pyplot as plt"
   ]
  },
  {
   "cell_type": "code",
   "execution_count": 2,
   "metadata": {},
   "outputs": [],
   "source": [
    "#CREATING DATA\n",
    "mean1=[4,6]\n",
    "covar1=[[2,0.7],[0.7,1]]\n",
    "#mean1=[center_x,center_y]\n",
    "#covar1[[xx,xy][xy,yy]] \n",
    "d1=np.random.multivariate_normal(mean1,covar1,500)"
   ]
  },
  {
   "cell_type": "code",
   "execution_count": 3,
   "metadata": {},
   "outputs": [
    {
     "data": {
      "text/plain": [
       "(500, 2)"
      ]
     },
     "execution_count": 3,
     "metadata": {},
     "output_type": "execute_result"
    }
   ],
   "source": [
    "d1.shape"
   ]
  },
  {
   "cell_type": "code",
   "execution_count": 4,
   "metadata": {},
   "outputs": [
    {
     "name": "stdout",
     "output_type": "stream",
     "text": [
      "[[ 2.69225117  5.69698691]\n",
      " [ 2.20472812  6.12814295]\n",
      " [ 4.92535477  7.14366399]\n",
      " [ 2.69600827  6.38776351]\n",
      " [ 3.68989     4.74713681]\n",
      " [ 2.37018371  6.81995698]\n",
      " [ 3.71983273  6.46966117]\n",
      " [ 3.35741325  4.86378001]\n",
      " [ 1.20711852  4.17853053]\n",
      " [ 3.42342704  4.8354862 ]\n",
      " [ 2.7936721   5.37460402]\n",
      " [ 2.67200187  5.21914809]\n",
      " [ 3.57204789  6.59244728]\n",
      " [ 4.48511202  6.3540885 ]\n",
      " [ 5.22417722  5.29897291]\n",
      " [ 2.63618143  5.70210593]\n",
      " [ 3.81678688  4.87045956]\n",
      " [ 3.54544999  6.73718046]\n",
      " [ 1.18767191  5.56697433]\n",
      " [ 3.63738251  5.03432776]\n",
      " [ 2.82954948  5.28963712]\n",
      " [ 6.91895661  7.78265471]\n",
      " [ 4.51482901  5.80583894]\n",
      " [ 3.1769002   6.81167327]\n",
      " [ 3.14846129  5.92653349]\n",
      " [ 3.59276255  5.88593335]\n",
      " [ 4.8364929   6.0212501 ]\n",
      " [ 4.10705892  5.49568153]\n",
      " [ 2.77165993  4.90469543]\n",
      " [ 4.77625641  6.64980963]\n",
      " [ 3.61214774  6.37506514]\n",
      " [ 3.01561339  5.11068414]\n",
      " [ 1.51422637  4.9252763 ]\n",
      " [ 4.84176395  6.29040083]\n",
      " [ 2.47586848  4.86071134]\n",
      " [ 1.98618242  5.30786799]\n",
      " [ 2.2094763   5.4132652 ]\n",
      " [ 4.13665849  6.80379585]\n",
      " [ 3.28511249  6.42457184]\n",
      " [ 5.01730597  5.64489701]\n",
      " [ 6.08659837  5.87344209]\n",
      " [ 4.25076246  6.70267189]\n",
      " [ 6.68607884  9.06661843]\n",
      " [ 3.4468236   4.35419627]\n",
      " [ 3.55114875  7.0475131 ]\n",
      " [ 6.6577834   7.11948347]\n",
      " [ 4.26659161  6.84303706]\n",
      " [ 3.45613049  6.25082152]\n",
      " [ 3.5390338   5.29808653]\n",
      " [ 3.38723125  4.11023853]\n",
      " [ 3.90319425  4.9232173 ]\n",
      " [ 3.84091699  5.9984235 ]\n",
      " [ 4.15933792  7.09200062]\n",
      " [ 2.47828242  5.55719752]\n",
      " [ 2.34711114  4.48640283]\n",
      " [ 4.09144385  5.28496619]\n",
      " [ 2.24844753  6.33513808]\n",
      " [ 5.04341338  5.88964798]\n",
      " [ 4.5736086   6.30175558]\n",
      " [ 5.21186069  5.69144811]\n",
      " [ 2.37982347  5.52104356]\n",
      " [ 3.26711603  6.18470887]\n",
      " [ 2.83995561  5.9877216 ]\n",
      " [ 2.38817811  5.56964943]\n",
      " [ 2.71922708  5.04631641]\n",
      " [ 7.58544912  7.69808022]\n",
      " [ 4.94849195  8.10485466]\n",
      " [ 5.03560342  6.49941155]\n",
      " [ 4.87166702  6.30421776]\n",
      " [ 5.24917986  6.27626165]\n",
      " [ 3.47866887  4.84318672]\n",
      " [ 6.50532693  6.51146277]\n",
      " [ 6.20847964  6.10891056]\n",
      " [ 3.81005892  7.06890955]\n",
      " [ 2.41506585  4.69644086]\n",
      " [ 4.80626943  5.89647854]\n",
      " [ 5.03504022  5.97506006]\n",
      " [ 3.50830357  5.94912488]\n",
      " [ 3.93419086  7.35381734]\n",
      " [ 2.60018027  5.41172252]\n",
      " [ 1.29176447  4.42362811]\n",
      " [ 2.76720449  6.24791939]\n",
      " [ 3.00924032  5.86621509]\n",
      " [ 4.07884547  5.92454584]\n",
      " [ 2.61191197  7.30245364]\n",
      " [ 1.73701872  4.00921974]\n",
      " [ 5.84576642  5.64176481]\n",
      " [ 3.37398909  6.33598322]\n",
      " [ 5.14867651  6.48806944]\n",
      " [ 3.30008436  7.04830639]\n",
      " [ 3.69788245  5.71122252]\n",
      " [ 3.86989383  6.78901818]\n",
      " [ 3.79589036  5.34841005]\n",
      " [ 3.23777577  6.10358426]\n",
      " [ 4.87641181  6.90507154]\n",
      " [ 5.8822171   6.36582021]\n",
      " [ 0.77118322  3.73923021]\n",
      " [ 4.75572581  6.91557754]\n",
      " [ 4.26526142  5.95012993]\n",
      " [ 5.78801635  6.34443104]\n",
      " [ 5.6091589   7.88204061]\n",
      " [ 7.3980447   8.55324177]\n",
      " [ 4.28180587  6.03076691]\n",
      " [ 5.82033819  5.99939531]\n",
      " [ 4.27073116  4.87556458]\n",
      " [ 4.1055149   7.45580951]\n",
      " [ 5.11384101  5.75417777]\n",
      " [ 1.96385165  5.46508877]\n",
      " [ 4.27285675  6.14723379]\n",
      " [ 3.3577487   5.70322862]\n",
      " [ 4.08037084  6.67650626]\n",
      " [ 6.20269967  7.38888629]\n",
      " [ 5.40476393  6.89684153]\n",
      " [ 5.47162446  5.76587926]\n",
      " [ 4.60931725  5.77465986]\n",
      " [ 2.8559985   6.1942295 ]\n",
      " [ 5.10990061  7.49893661]\n",
      " [ 5.99252049  6.77442304]\n",
      " [ 7.15411595  6.06807976]\n",
      " [ 5.08976775  5.51790099]\n",
      " [ 2.76660423  5.68234834]\n",
      " [ 3.19854558  5.33887017]\n",
      " [ 4.06329138  5.65328405]\n",
      " [ 3.18283494  4.77050645]\n",
      " [ 4.16058454  4.86446001]\n",
      " [ 4.49422469  7.13722591]\n",
      " [ 4.13163251  7.36700549]\n",
      " [ 6.1886676   6.35179827]\n",
      " [ 5.38998728  5.16908355]\n",
      " [ 2.75277125  5.61060535]\n",
      " [ 3.66846138  7.28306281]\n",
      " [ 3.70598216  5.02014902]\n",
      " [ 2.40402797  5.41955146]\n",
      " [ 4.20546836  6.26873099]\n",
      " [ 3.71688705  7.20007235]\n",
      " [ 2.85420564  7.90448432]\n",
      " [ 4.53394644  5.81935593]\n",
      " [ 3.35278152  6.94523576]\n",
      " [ 1.81097346  4.60858991]\n",
      " [ 3.18233767  5.28217395]\n",
      " [ 4.49895547  5.75172502]\n",
      " [ 3.62294132  5.41260589]\n",
      " [ 6.29409445  6.90401159]\n",
      " [ 4.10636134  5.26828776]\n",
      " [ 4.73234368  6.08172354]\n",
      " [ 1.97338419  4.17206464]\n",
      " [ 3.30153901  4.76441542]\n",
      " [-0.4451656   4.07540955]\n",
      " [ 4.12638873  6.6039885 ]\n",
      " [ 4.86879235  5.5810645 ]\n",
      " [ 4.4113302   6.98083345]\n",
      " [ 7.05651335  7.72387137]\n",
      " [ 4.50955733  6.34158316]\n",
      " [ 4.21779498  6.93294481]\n",
      " [ 4.59527038  6.4445572 ]\n",
      " [ 7.41712917  8.76034208]\n",
      " [ 5.76563922  8.14286476]\n",
      " [ 2.29004964  3.83755865]\n",
      " [ 3.71569431  5.192927  ]\n",
      " [ 4.30746579  4.87287439]\n",
      " [ 2.91678318  5.46129863]\n",
      " [ 5.24886553  8.72403826]\n",
      " [ 6.60040641  5.88550368]\n",
      " [ 2.78953487  6.15823076]\n",
      " [ 4.27712612  6.99066377]\n",
      " [ 2.98174582  5.65331477]\n",
      " [ 2.59405644  5.24748254]\n",
      " [ 6.30716711  6.24916691]\n",
      " [ 4.63207719  7.18451221]\n",
      " [ 1.67695162  5.79572673]\n",
      " [ 1.17486372  4.90352689]\n",
      " [ 3.80523226  5.87070607]\n",
      " [ 3.45025821  5.07429143]\n",
      " [ 4.70624991  7.66784211]\n",
      " [ 3.64745927  5.86035903]\n",
      " [ 1.61062461  4.04677408]\n",
      " [ 3.71170228  5.91566514]\n",
      " [ 2.84031577  4.55461521]\n",
      " [ 2.80113913  5.09889447]\n",
      " [ 4.15088852  6.72720952]\n",
      " [ 2.42832332  4.78374775]\n",
      " [ 1.884148    5.70223611]\n",
      " [ 2.68000674  4.47269193]\n",
      " [ 4.12364495  6.04517225]\n",
      " [ 3.08527701  5.8797024 ]\n",
      " [ 1.60870051  5.04818606]\n",
      " [ 3.16928226  6.61863592]\n",
      " [ 2.10736174  5.20825979]\n",
      " [ 3.64582449  5.83792783]\n",
      " [ 1.40577289  4.93608499]\n",
      " [ 5.2878797   7.97446023]\n",
      " [ 2.77648215  3.9652625 ]\n",
      " [ 4.44579824  6.00350775]\n",
      " [ 3.78917984  6.10264618]\n",
      " [ 3.97660229  4.49764065]\n",
      " [ 4.20618086  5.16807376]\n",
      " [ 3.77949841  5.37595955]\n",
      " [ 3.48851143  6.70954324]\n",
      " [ 5.24748611  5.39693694]\n",
      " [ 4.12171841  5.95141069]\n",
      " [ 1.96198398  5.61844103]\n",
      " [ 5.52069652  4.70158217]\n",
      " [ 6.87181994  6.26273807]\n",
      " [ 2.8307902   6.24447276]\n",
      " [ 6.31890621  5.62617049]\n",
      " [ 1.5930066   5.07167267]\n",
      " [ 3.17064637  5.07646202]\n",
      " [ 4.62591132  5.90050646]\n",
      " [ 1.57835214  5.84377812]\n",
      " [ 4.99274826  4.96461461]\n",
      " [ 1.78977491  5.53989393]\n",
      " [ 2.4542388   4.96253414]\n",
      " [ 5.45188484  6.21317478]\n",
      " [ 2.15943608  6.13799682]\n",
      " [ 4.45890254  5.11816288]\n",
      " [ 4.02713414  5.39867998]\n",
      " [ 3.74998455  6.03006024]\n",
      " [ 3.98808995  5.023136  ]\n",
      " [ 3.11577699  4.84330395]\n",
      " [ 3.75316348  5.99851645]\n",
      " [ 3.39262218  5.52454366]\n",
      " [ 3.249929    6.90484114]\n",
      " [ 7.21931932  7.95021883]\n",
      " [ 4.98901161  5.23629503]\n",
      " [ 6.65547979  6.46735189]\n",
      " [ 2.2110118   4.72672484]\n",
      " [ 6.08395271  7.29785556]\n",
      " [ 5.61969807  8.04017598]\n",
      " [ 3.45543356  5.56455267]\n",
      " [ 4.74837908  7.95516074]\n",
      " [ 3.56932122  5.9113958 ]\n",
      " [ 4.16385789  5.9107278 ]\n",
      " [ 3.97962463  5.74303318]\n",
      " [ 5.30346993  6.46750763]\n",
      " [ 4.25066102  6.82741489]\n",
      " [ 4.99424125  7.15643643]\n",
      " [ 6.22531095  6.40165969]\n",
      " [ 4.45569412  6.73528154]\n",
      " [ 2.23693932  2.93666353]\n",
      " [ 5.21183719  7.32918401]\n",
      " [ 6.36715616  7.59696976]\n",
      " [ 3.42729     5.07964561]\n",
      " [ 5.36467666  6.27733715]\n",
      " [ 5.32109585  8.27480883]\n",
      " [ 5.10447472  5.21216857]\n",
      " [ 4.44950807  5.39484672]\n",
      " [ 0.38869028  5.97812719]\n",
      " [ 2.6629665   5.00346866]\n",
      " [ 5.81389556  5.59113471]\n",
      " [ 0.96405467  4.65749867]\n",
      " [ 3.08260725  4.4333037 ]\n",
      " [ 4.07455073  7.83183148]\n",
      " [ 2.91980449  3.10735006]\n",
      " [ 4.73409475  5.57006198]\n",
      " [ 3.86844828  5.60012631]\n",
      " [ 3.70921352  6.31514058]\n",
      " [ 3.2026913   6.91318951]\n",
      " [ 3.09286133  5.05122286]\n",
      " [ 4.10785649  4.78876567]\n",
      " [ 3.96860518  4.26607095]\n",
      " [ 4.93138987  5.84002201]\n",
      " [ 5.68016547  6.80154626]\n",
      " [ 5.23839277  3.73366534]\n",
      " [ 5.56935002  7.44948643]\n",
      " [ 5.06992746  7.37878263]\n",
      " [ 3.01544029  7.16619269]\n",
      " [ 4.64210385  7.06902268]\n",
      " [ 3.94796795  4.820364  ]\n",
      " [ 7.25273405  7.37653929]\n",
      " [ 4.81772466  6.44275018]\n",
      " [ 2.6514433   4.54966762]\n",
      " [ 5.1537139   7.13099275]\n",
      " [ 3.75882334  5.0384238 ]\n",
      " [ 5.51272643  6.11787513]\n",
      " [ 3.93441269  4.62620349]\n",
      " [ 4.81402192  5.98414896]\n",
      " [ 5.3520302   5.15048909]\n",
      " [ 4.12982098  5.99422314]\n",
      " [ 3.05663502  6.33277035]\n",
      " [ 4.38600788  8.18905282]\n",
      " [ 2.36927204  6.11235772]\n",
      " [ 3.48925809  6.90496596]\n",
      " [ 2.8668774   5.63665495]\n",
      " [ 3.95460954  5.68384401]\n",
      " [ 3.82652675  5.25134153]\n",
      " [ 4.33198345  5.70130241]\n",
      " [ 2.01669889  6.3353673 ]\n",
      " [ 5.22428908  5.70921813]\n",
      " [ 3.06622187  5.69399782]\n",
      " [ 4.68627992  7.01241708]\n",
      " [ 4.31867171  6.48230979]\n",
      " [ 1.57287935  5.97904491]\n",
      " [ 3.51299929  6.18935134]\n",
      " [ 4.96588136  6.19335757]\n",
      " [ 4.0202477   7.60441349]\n",
      " [ 5.83682757  7.44018735]\n",
      " [ 2.1565533   4.89188377]\n",
      " [ 3.11035431  5.49018362]\n",
      " [ 3.33001737  4.38152504]\n",
      " [ 5.03921497  6.5471718 ]\n",
      " [ 5.87958708  4.61439439]\n",
      " [ 5.47033696  6.79395578]\n",
      " [ 2.27404431  4.12485563]\n",
      " [ 4.12731922  5.78179758]\n",
      " [ 4.81284296  5.32465593]\n",
      " [ 4.52986769  5.195353  ]\n",
      " [ 3.64739685  4.70670458]\n",
      " [ 2.49725039  4.13808337]\n",
      " [ 5.97566229  7.1838432 ]\n",
      " [ 1.85832257  5.85994944]\n",
      " [ 5.1299373   5.70484066]\n",
      " [ 3.73318805  5.42315445]\n",
      " [ 2.91784136  6.45533631]\n",
      " [ 3.45516402  5.36744974]\n",
      " [ 3.55088229  6.66391589]\n",
      " [ 6.59895599  6.53790523]\n",
      " [ 3.34335851  5.74656159]\n",
      " [ 4.56924997  5.19707453]\n",
      " [ 4.41832448  6.57282345]\n",
      " [ 1.42504801  4.99726786]\n",
      " [ 3.82636055  5.48092332]\n",
      " [ 5.08852411  5.59777576]\n",
      " [ 4.22065687  7.4357905 ]\n",
      " [ 3.14213971  7.38272898]\n",
      " [ 3.43088136  6.11268797]\n",
      " [ 2.37623056  6.59345191]\n",
      " [ 4.10261728  6.22564538]\n",
      " [ 3.72385607  5.50675354]\n",
      " [ 3.90773981  5.06233842]\n",
      " [ 2.43927955  5.01747528]\n",
      " [ 3.35400386  6.39377343]\n",
      " [ 6.03715576  7.00635038]\n",
      " [ 4.83838351  6.70230232]\n",
      " [ 4.33032924  7.31604133]\n",
      " [ 7.13126368  7.0853396 ]\n",
      " [ 3.77098397  6.79601176]\n",
      " [ 5.42560316  6.36843556]\n",
      " [ 5.77804612  6.62296627]\n",
      " [ 5.13092015  7.15428722]\n",
      " [ 2.88848059  4.98163783]\n",
      " [ 5.13248317  6.0836766 ]\n",
      " [ 3.89439035  6.82701132]\n",
      " [ 4.77192518  6.19338225]\n",
      " [ 2.41607983  3.76508677]\n",
      " [ 4.74236355  6.92549409]\n",
      " [ 6.3361907   6.19883394]\n",
      " [ 2.50443434  4.11735432]\n",
      " [ 5.43990274  6.97537781]\n",
      " [ 4.81500828  7.56579915]\n",
      " [ 3.4098377   6.42600677]\n",
      " [ 2.94715873  5.29804261]\n",
      " [ 4.2620569   6.52421457]\n",
      " [ 6.09744596  5.49925895]\n",
      " [ 3.89672869  4.93719194]\n",
      " [ 4.49158023  5.42415888]\n",
      " [ 5.68127908  5.83802246]\n",
      " [ 3.47980906  5.1017521 ]\n",
      " [ 3.11487287  7.25591259]\n",
      " [ 2.61019213  5.77462794]\n",
      " [ 6.1967259   6.0555025 ]\n",
      " [ 0.94420336  5.13542758]\n",
      " [ 5.1539189   7.54527582]\n",
      " [ 2.38642079  3.91675174]\n",
      " [ 5.7529792   6.40239921]\n",
      " [ 3.54749486  6.50539512]\n",
      " [ 2.05639808  6.33833932]\n",
      " [ 3.6565525   6.21015609]\n",
      " [ 4.11283289  5.93786477]\n",
      " [ 3.97511895  5.08169593]\n",
      " [ 4.40681043  6.77816196]\n",
      " [ 3.32668295  6.23800349]\n",
      " [ 3.26934166  6.76186692]\n",
      " [ 3.72610081  6.60936492]\n",
      " [ 5.28349701  5.45403199]\n",
      " [ 3.53079152  6.65899943]\n",
      " [ 5.04392911  7.77250825]\n",
      " [ 5.48305948  7.28094976]\n",
      " [ 2.64192124  5.76960381]\n",
      " [ 3.36084545  5.24991965]\n",
      " [ 3.7515179   5.59676388]\n",
      " [ 5.3531326   6.33740712]\n",
      " [ 4.47247253  4.13952042]\n",
      " [ 3.73904854  5.75974747]\n",
      " [ 3.89169702  6.9243111 ]\n",
      " [ 3.72572992  8.1004264 ]\n",
      " [ 2.6979014   5.62595795]\n",
      " [ 2.15193588  4.60132889]\n",
      " [ 2.38064561  6.98282289]\n",
      " [ 1.72237301  5.92267825]\n",
      " [ 3.24562293  6.54155936]\n",
      " [ 4.17446401  5.79810293]\n",
      " [ 4.0570848   7.27623587]\n",
      " [ 3.15981048  6.68814324]\n",
      " [ 3.85299234  5.82817494]\n",
      " [ 4.71666231  6.31873915]\n",
      " [ 4.79738769  5.61884749]\n",
      " [ 3.09386779  5.81389796]\n",
      " [ 3.87064169  5.37454035]\n",
      " [ 4.38535225  7.03986454]\n",
      " [ 2.28983583  5.94792555]\n",
      " [ 4.77634992  7.50250134]\n",
      " [ 3.26768891  5.58266751]\n",
      " [ 4.81586778  6.92484177]\n",
      " [ 5.69903783  7.10527373]\n",
      " [ 5.07437596  6.16544538]\n",
      " [ 2.94969134  5.97769075]\n",
      " [ 4.08562425  5.81755227]\n",
      " [ 5.06655085  6.85302954]\n",
      " [ 4.77857823  5.62770012]\n",
      " [ 4.44048967  7.07819872]\n",
      " [ 1.18320144  5.05868068]\n",
      " [ 1.98179556  5.38461555]\n",
      " [ 3.04773054  6.81046474]\n",
      " [ 7.23450226  7.51623666]\n",
      " [ 2.17221706  6.42480736]\n",
      " [ 4.59414714  6.61124639]\n",
      " [ 2.93762998  5.76365568]\n",
      " [ 2.20209025  5.83820671]\n",
      " [ 2.17552657  6.0509711 ]\n",
      " [ 3.15069952  6.62774605]\n",
      " [ 6.61985423  7.6225582 ]\n",
      " [ 2.50502859  4.61072968]\n",
      " [ 2.55773641  4.56414569]\n",
      " [ 2.58206494  5.75243055]\n",
      " [ 3.3998173   6.89204805]\n",
      " [ 5.65930998  6.31127392]\n",
      " [ 4.68547115  6.96867886]\n",
      " [ 6.08381297  6.90653339]\n",
      " [ 4.99687724  7.9033367 ]\n",
      " [ 6.68271742  5.91670073]\n",
      " [ 6.5733897   6.04659703]\n",
      " [ 2.25915644  3.94854904]\n",
      " [ 3.7377273   7.6098503 ]\n",
      " [ 5.29749822  5.68310907]\n",
      " [ 5.58015384  6.2919784 ]\n",
      " [ 3.16319709  6.60758909]\n",
      " [ 3.62774989  6.20141044]\n",
      " [ 1.83358075  5.70674609]\n",
      " [ 4.29142757  5.08637563]\n",
      " [ 5.46741931  7.13350121]\n",
      " [ 4.84735874  7.63227127]\n",
      " [ 5.16800858  5.5652234 ]\n",
      " [ 4.66392026  6.3605284 ]\n",
      " [ 3.96451904  7.32714612]\n",
      " [ 5.84694773  6.24611916]\n",
      " [ 1.63465958  4.36510923]\n",
      " [ 5.41437375  6.96529634]\n",
      " [ 3.07011081  5.96131649]\n",
      " [ 4.18480506  6.38528322]\n",
      " [ 2.30857349  6.88175361]\n",
      " [ 3.54154115  6.01108155]\n",
      " [ 3.56503285  6.81366064]\n",
      " [ 3.95608157  6.19586191]\n",
      " [ 4.16058682  8.42872666]\n",
      " [ 4.92498069  6.91810343]\n",
      " [ 5.43134235  5.81187667]\n",
      " [ 4.69716788  6.15950992]\n",
      " [ 3.6523774   4.88343721]\n",
      " [ 0.93208044  5.40843862]\n",
      " [ 3.30506305  4.72708036]\n",
      " [ 2.2436261   5.84803128]\n",
      " [ 7.86589427  5.95574691]\n",
      " [ 1.76521449  6.06513831]\n",
      " [ 3.57240604  5.67308111]\n",
      " [ 4.43580959  7.29640846]\n",
      " [ 5.080399    5.83764077]\n",
      " [ 5.8760599   6.40742217]\n",
      " [ 2.57498666  5.36921284]\n",
      " [ 4.00371838  5.43240599]\n",
      " [ 4.1059301   6.25895815]\n",
      " [ 3.04376366  3.4057699 ]\n",
      " [ 2.39845705  5.44917161]\n",
      " [ 4.96574739  5.03554692]\n",
      " [ 0.41192227  5.77251623]\n",
      " [ 3.58738393  6.22880977]\n",
      " [ 5.10724806  7.22058023]\n",
      " [ 3.45252928  7.23398234]\n",
      " [ 3.261747    3.7818146 ]\n",
      " [ 4.29509155  5.28344672]\n",
      " [ 4.33868932  6.19018689]\n",
      " [ 5.56827089  6.02810969]\n",
      " [ 4.12945002  5.68064114]\n",
      " [ 4.43849809  6.68251985]\n",
      " [ 3.86811822  5.22882091]\n",
      " [ 3.55378341  5.22824673]\n",
      " [ 5.02459747  6.21760776]\n",
      " [ 6.08004708  7.15733777]\n",
      " [ 3.5824449   5.16550109]\n",
      " [ 4.28609537  7.02155582]\n",
      " [ 4.62951194  5.08184859]\n",
      " [ 5.16723377  7.42409566]\n",
      " [ 3.11066187  7.35491746]\n",
      " [ 1.9263525   6.81665819]\n",
      " [ 3.17200662  5.44272012]\n",
      " [ 2.32508425  5.91075123]\n",
      " [ 2.76128183  7.48947451]\n",
      " [ 4.19155494  6.1534236 ]\n",
      " [ 1.23619472  4.08157114]\n",
      " [ 2.96858615  4.84432455]\n",
      " [ 4.14331031  6.42952547]]\n"
     ]
    }
   ],
   "source": [
    "print(d1)"
   ]
  },
  {
   "cell_type": "code",
   "execution_count": 5,
   "metadata": {},
   "outputs": [
    {
     "data": {
      "image/png": "[encoded data removed]",
      "text/plain": [
       "<Figure size 432x288 with 1 Axes>"
      ]
     },
     "metadata": {
      "needs_background": "light"
     },
     "output_type": "display_data"
    }
   ],
   "source": [
    "plt.scatter(d1[:,0],d1[:,1],color=\"Red\")\n",
    "plt.show()"
   ]
  },
  {
   "cell_type": "code",
   "execution_count": 6,
   "metadata": {},
   "outputs": [],
   "source": [
    "mean2=[2,3]\n",
    "covar2=[[1,0.2],[0.2,2]]\n",
    "#mean2=[center_x,center_y]\n",
    "#covar2[[xx,xy][xy,yy]] \n",
    "d2=np.random.multivariate_normal(mean2,covar2,1500)"
   ]
  },
  {
   "cell_type": "code",
   "execution_count": 7,
   "metadata": {},
   "outputs": [
    {
     "data": {
      "image/png": "[encoded data removed]",
      "text/plain": [
       "<Figure size 432x288 with 1 Axes>"
      ]
     },
     "metadata": {
      "needs_background": "light"
     },
     "output_type": "display_data"
    }
   ],
   "source": [
    "plt.scatter(d2[:,0],d2[:,1],color=\"Blue\")\n",
    "plt.show()"
   ]
  },
  {
   "cell_type": "code",
   "execution_count": 8,
   "metadata": {},
   "outputs": [
    {
     "data": {
      "image/png": "[encoded data removed]",
      "text/plain": [
       "<Figure size 432x288 with 1 Axes>"
      ]
     },
     "metadata": {
      "needs_background": "light"
     },
     "output_type": "display_data"
    }
   ],
   "source": [
    "plt.scatter(d1[:,0],d1[:,1],color=\"Red\")\n",
    "plt.scatter(d2[:,0],d2[:,1],color=\"Blue\")\n",
    "plt.show()"
   ]
  },
  {
   "cell_type": "code",
   "execution_count": 9,
   "metadata": {},
   "outputs": [
    {
     "data": {
      "image/png": "[encoded data removed]",
      "text/plain": [
       "<Figure size 432x288 with 1 Axes>"
      ]
     },
     "metadata": {
      "needs_background": "light"
     },
     "output_type": "display_data"
    }
   ],
   "source": [
    "test_point=[4.5,2.5]\n",
    "plt.scatter(test_point[0],test_point[1],marker=\"*\",color=\"Black\")\n",
    "plt.show()"
   ]
  },
  {
   "cell_type": "code",
   "execution_count": 10,
   "metadata": {},
   "outputs": [
    {
     "data": {
      "image/png": "[encoded data removed]",
      "text/plain": [
       "<Figure size 432x288 with 1 Axes>"
      ]
     },
     "metadata": {
      "needs_background": "light"
     },
     "output_type": "display_data"
    }
   ],
   "source": [
    "plt.scatter(d1[:,0],d1[:,1],color=\"Red\")\n",
    "plt.scatter(d2[:,0],d2[:,1],color=\"Blue\")\n",
    "plt.scatter(test_point[0],test_point[1],marker=\"*\",color=\"Black\",s=300)\n",
    "plt.show()"
   ]
  },
  {
   "cell_type": "markdown",
   "metadata": {},
   "source": [
    "# Step1: Creating Final Data"
   ]
  },
  {
   "cell_type": "raw",
   "metadata": {},
   "source": [
    "We create a data with in total of :\n",
    "    rows: d1_rows+d2.rows\n",
    "    columns: Same for both data +1 (d1_columns or d2_columns)\n",
    "                --> We add +1 for a label ( if d1 or d2 )\n",
    "We initially set all data to Zero\n"
   ]
  },
  {
   "cell_type": "code",
   "execution_count": 11,
   "metadata": {},
   "outputs": [
    {
     "name": "stdout",
     "output_type": "stream",
     "text": [
      "Size of data 1:  (500, 2)\n",
      "Size of data 2:  (1500, 2)\n",
      "Size of final data is: (2000,3)\n"
     ]
    }
   ],
   "source": [
    "print(\"Size of data 1: \",d1.shape)\n",
    "print(\"Size of data 2: \",d2.shape)\n",
    "df_rows=d1.shape[0]+d2.shape[0]\n",
    "df_columns=d1.shape[1]+1\n",
    "print(\"Size of final data is: ({},{})\".format(df_rows,df_columns))"
   ]
  },
  {
   "cell_type": "code",
   "execution_count": 12,
   "metadata": {},
   "outputs": [
    {
     "name": "stdout",
     "output_type": "stream",
     "text": [
      "(2000, 3)\n"
     ]
    }
   ],
   "source": [
    "df=np.zeros((df_rows,df_columns))\n",
    "print(df.shape)"
   ]
  },
  {
   "cell_type": "code",
   "execution_count": 13,
   "metadata": {},
   "outputs": [
    {
     "name": "stdout",
     "output_type": "stream",
     "text": [
      "[[0. 0. 0.]\n",
      " [0. 0. 0.]\n",
      " [0. 0. 0.]\n",
      " ...\n",
      " [0. 0. 0.]\n",
      " [0. 0. 0.]\n",
      " [0. 0. 0.]]\n"
     ]
    }
   ],
   "source": [
    "print(df)"
   ]
  },
  {
   "cell_type": "raw",
   "metadata": {},
   "source": [
    "Now we assign first d1_rows of  df_rows with d1 data\n",
    "and remaining rows with d2 data"
   ]
  },
  {
   "cell_type": "code",
   "execution_count": 14,
   "metadata": {},
   "outputs": [],
   "source": [
    "df[0:d1.shape[0],0:2]=d1"
   ]
  },
  {
   "cell_type": "code",
   "execution_count": 15,
   "metadata": {},
   "outputs": [],
   "source": [
    "df[d1.shape[0]:,0:2]=d2"
   ]
  },
  {
   "cell_type": "code",
   "execution_count": 16,
   "metadata": {},
   "outputs": [
    {
     "data": {
      "text/plain": [
       "array([[2.69225117, 5.69698691, 0.        ],\n",
       "       [2.20472812, 6.12814295, 0.        ],\n",
       "       [4.92535477, 7.14366399, 0.        ],\n",
       "       ...,\n",
       "       [3.86338967, 3.26162744, 0.        ],\n",
       "       [1.57648299, 5.2425812 , 0.        ],\n",
       "       [0.56161555, 2.0635748 , 0.        ]])"
      ]
     },
     "execution_count": 16,
     "metadata": {},
     "output_type": "execute_result"
    }
   ],
   "source": [
    "df"
   ]
  },
  {
   "cell_type": "raw",
   "metadata": {},
   "source": [
    "Now we set the d1 data as class 0 and d2 data as class 1\n",
    "so we assign 3rd column of d1_rows of df data as 0\n",
    "and 3rd column of remaining rows as 1"
   ]
  },
  {
   "cell_type": "code",
   "execution_count": 17,
   "metadata": {},
   "outputs": [],
   "source": [
    "df[0:d1.shape[0],2]=0"
   ]
  },
  {
   "cell_type": "code",
   "execution_count": 18,
   "metadata": {},
   "outputs": [
    {
     "data": {
      "text/plain": [
       "array([[2.69225117, 5.69698691, 0.        ],\n",
       "       [2.20472812, 6.12814295, 0.        ],\n",
       "       [4.92535477, 7.14366399, 0.        ],\n",
       "       ...,\n",
       "       [3.86338967, 3.26162744, 0.        ],\n",
       "       [1.57648299, 5.2425812 , 0.        ],\n",
       "       [0.56161555, 2.0635748 , 0.        ]])"
      ]
     },
     "execution_count": 18,
     "metadata": {},
     "output_type": "execute_result"
    }
   ],
   "source": [
    "df"
   ]
  },
  {
   "cell_type": "code",
   "execution_count": 19,
   "metadata": {},
   "outputs": [],
   "source": [
    "df[d1.shape[0]:,2]=1"
   ]
  },
  {
   "cell_type": "code",
   "execution_count": 20,
   "metadata": {},
   "outputs": [
    {
     "data": {
      "text/plain": [
       "array([[2.69225117, 5.69698691, 0.        ],\n",
       "       [2.20472812, 6.12814295, 0.        ],\n",
       "       [4.92535477, 7.14366399, 0.        ],\n",
       "       ...,\n",
       "       [3.86338967, 3.26162744, 1.        ],\n",
       "       [1.57648299, 5.2425812 , 1.        ],\n",
       "       [0.56161555, 2.0635748 , 1.        ]])"
      ]
     },
     "execution_count": 20,
     "metadata": {},
     "output_type": "execute_result"
    }
   ],
   "source": [
    "df"
   ]
  },
  {
   "cell_type": "code",
   "execution_count": 21,
   "metadata": {},
   "outputs": [],
   "source": [
    "#Now we shuffle the data\n",
    "np.random.shuffle(df)"
   ]
  },
  {
   "cell_type": "code",
   "execution_count": 22,
   "metadata": {},
   "outputs": [
    {
     "data": {
      "text/plain": [
       "array([[ 2.28691609,  2.43790799,  1.        ],\n",
       "       [ 4.5736086 ,  6.30175558,  0.        ],\n",
       "       [ 3.45025821,  5.07429143,  0.        ],\n",
       "       ...,\n",
       "       [ 3.5247449 ,  4.12054072,  1.        ],\n",
       "       [ 2.14360877,  2.10889448,  1.        ],\n",
       "       [ 1.3662909 , -0.27994086,  1.        ]])"
      ]
     },
     "execution_count": 22,
     "metadata": {},
     "output_type": "execute_result"
    }
   ],
   "source": [
    "df"
   ]
  },
  {
   "cell_type": "code",
   "execution_count": 23,
   "metadata": {},
   "outputs": [
    {
     "data": {
      "image/png": "[encoded data removed]",
      "text/plain": [
       "<Figure size 432x288 with 1 Axes>"
      ]
     },
     "metadata": {
      "needs_background": "light"
     },
     "output_type": "display_data"
    }
   ],
   "source": [
    "#Now let's plot the final data\n",
    "plt.scatter(df[:,0],df[:,1],color=\"Green\")\n",
    "plt.show()"
   ]
  },
  {
   "cell_type": "code",
   "execution_count": 24,
   "metadata": {},
   "outputs": [
    {
     "data": {
      "image/png": "[encoded data removed]",
      "text/plain": [
       "<Figure size 432x288 with 1 Axes>"
      ]
     },
     "metadata": {
      "needs_background": "light"
     },
     "output_type": "display_data"
    }
   ],
   "source": [
    "#printing Test point again\n",
    "plt.scatter(df[:,0],df[:,1],color=\"Green\")\n",
    "plt.scatter(test_point[0],test_point[1],marker=\"*\",color=\"Black\",s=300)\n",
    "plt.show()"
   ]
  },
  {
   "cell_type": "markdown",
   "metadata": {},
   "source": [
    "# Step2: Training and Testing dataset"
   ]
  },
  {
   "cell_type": "code",
   "execution_count": 25,
   "metadata": {},
   "outputs": [
    {
     "data": {
      "text/plain": [
       "array([[ 2.28691609,  2.43790799,  1.        ],\n",
       "       [ 4.5736086 ,  6.30175558,  0.        ],\n",
       "       [ 3.45025821,  5.07429143,  0.        ],\n",
       "       ...,\n",
       "       [ 3.5247449 ,  4.12054072,  1.        ],\n",
       "       [ 2.14360877,  2.10889448,  1.        ],\n",
       "       [ 1.3662909 , -0.27994086,  1.        ]])"
      ]
     },
     "execution_count": 25,
     "metadata": {},
     "output_type": "execute_result"
    }
   ],
   "source": [
    "df"
   ]
  },
  {
   "cell_type": "raw",
   "metadata": {},
   "source": [
    "Generally we split data into 80:20 \n",
    "Training - 80% of data\n",
    "Testing - 20% of data"
   ]
  },
  {
   "cell_type": "code",
   "execution_count": 26,
   "metadata": {},
   "outputs": [
    {
     "data": {
      "text/plain": [
       "(2000, 3)"
      ]
     },
     "execution_count": 26,
     "metadata": {},
     "output_type": "execute_result"
    }
   ],
   "source": [
    "df.shape"
   ]
  },
  {
   "cell_type": "code",
   "execution_count": 27,
   "metadata": {},
   "outputs": [
    {
     "name": "stdout",
     "output_type": "stream",
     "text": [
      "1600.0\n",
      "1600\n"
     ]
    }
   ],
   "source": [
    "split=(0.8)*(df.shape[0])\n",
    "print(split)\n",
    "split=(int)(split)\n",
    "print(split)"
   ]
  },
  {
   "cell_type": "raw",
   "metadata": {},
   "source": [
    "First 80% of data is training data \n",
    "Next 20% of data is testing data"
   ]
  },
  {
   "cell_type": "code",
   "execution_count": 28,
   "metadata": {},
   "outputs": [],
   "source": [
    "x_train=df[0:split,0:2]\n",
    "x_test=df[split:,0:2]\n",
    "y_train=df[0:split,2:]\n",
    "y_test=df[split:,2:]"
   ]
  },
  {
   "cell_type": "code",
   "execution_count": 29,
   "metadata": {},
   "outputs": [
    {
     "name": "stdout",
     "output_type": "stream",
     "text": [
      "x_train shape:  (1600, 2)\n",
      "y_train shape:  (1600, 1)\n",
      "x_test shape:  (400, 2)\n",
      "y_test shape:  (400, 1)\n"
     ]
    }
   ],
   "source": [
    "print(\"x_train shape: \",x_train.shape)\n",
    "print(\"y_train shape: \",y_train.shape)\n",
    "print(\"x_test shape: \",x_test.shape)\n",
    "print(\"y_test shape: \",y_test.shape)"
   ]
  },
  {
   "cell_type": "raw",
   "metadata": {},
   "source": [
    "Plotting data classwise using for loop\n",
    "\n",
    "Class 0 -> color:Green\n",
    "Class 1 -> color:Red\n",
    "\n",
    "And also printing the test point"
   ]
  },
  {
   "cell_type": "code",
   "execution_count": 30,
   "metadata": {},
   "outputs": [
    {
     "data": {
      "image/png": "[encoded data removed]",
      "text/plain": [
       "<Figure size 432x288 with 1 Axes>"
      ]
     },
     "metadata": {
      "needs_background": "light"
     },
     "output_type": "display_data"
    }
   ],
   "source": [
    "for i,j in zip(x_train,y_train):\n",
    "    if(j==0):\n",
    "        plt.scatter(i[0],i[1],color=\"Green\")\n",
    "    else:\n",
    "        plt.scatter(i[0],i[1],color=\"Red\")\n",
    "plt.scatter(test_point[0],test_point[1],color=\"Black\",marker=\"^\",s=300)\n",
    "plt.show()"
   ]
  },
  {
   "cell_type": "markdown",
   "metadata": {},
   "source": [
    "# Step3 : K-Nearest Neighbors (KNN) Algorithm"
   ]
  },
  {
   "cell_type": "markdown",
   "metadata": {},
   "source": [
    "Steps involved in KNN Algorithm -->\n",
    "\n",
    "We take the test point and find it's distance from each point in\n",
    "the data.\n",
    "\n",
    "Then we find the k nearest points\n",
    "\n",
    "Then we see the which class each of k nearest points belong and \n",
    "count which class has more no of points near to the test point\n",
    "\n",
    "The class which has maximum number of points near to the class ->\n",
    "Wins !"
   ]
  },
  {
   "cell_type": "code",
   "execution_count": 31,
   "metadata": {},
   "outputs": [],
   "source": [
    "def KNN(x_train,y_train,tp,k):\n",
    "    def distance(n1,n2):\n",
    "        return np.sqrt(np.sum((n1-n2)**2))\n",
    "    dis=[]\n",
    "    for i,j in zip(x_train,y_train):\n",
    "        c=distance(i,tp)\n",
    "        dis.append((j,c))\n",
    "    dis=sorted(dis,key=lambda x:x[1])\n",
    "    dis=np.array(dis)\n",
    "    dis=dis[:k]\n",
    "    uni=np.unique(dis[:,0],return_counts=True)\n",
    "    l,cnt=uni\n",
    "    answer=l[cnt.argmax()]    \n",
    "    return((int)(answer))"
   ]
  },
  {
   "cell_type": "code",
   "execution_count": 32,
   "metadata": {},
   "outputs": [
    {
     "data": {
      "text/plain": [
       "1"
      ]
     },
     "execution_count": 32,
     "metadata": {},
     "output_type": "execute_result"
    }
   ],
   "source": [
    "KNN(x_train,y_train,test_point,5)"
   ]
  },
  {
   "cell_type": "markdown",
   "metadata": {},
   "source": [
    "Code Explanation -> \n",
    "\n",
    "1. Made a function to get distance between two points - Eucledian distance give as\n",
    "                points -(x1,y1) and (x2,y2)\n",
    "                distance= root((x1-x2)^2 + (y1-y2)^2)\n",
    "\n",
    "2. Then we make a list (dis) which stores the value of distances along with label in form of separate tuples.\n",
    "\n",
    "                dis=[(tuple1),(tuple2),.....]\n",
    "                tuple=(label,distance from test point)\n",
    "\n",
    "3. We sort the distances according to the distance stored i.e second element of each tuple\n",
    "    a. Convert the list into array for getting maximum \n",
    "    d. Taking only first k elements of the array (Slicing) - k nearest points\n",
    "\n",
    "4. We used \n",
    "    np.unique(<1D array>,returns_count=True)\n",
    "   It returns the number of times each unique item appears.\n",
    "   [<array1>,<array2>]\n",
    "        array1 --> unique elements array\n",
    "        array2 --> count of the unique element\n",
    "\n",
    "5. We separate the array of unique values and counts into two parts :\n",
    "        array1 --> labels\n",
    "        array2 --> counts\n",
    "\n",
    "6. Finally we return the value of label who has the maximum value of count (cnt.argmax())"
   ]
  },
  {
   "cell_type": "code",
   "execution_count": 33,
   "metadata": {},
   "outputs": [],
   "source": [
    "#Apply KNN to all the testing points and get labels for them \n",
    "def get_for_all_points(x_train,y_train,x_test,k):\n",
    "    predictions=[]\n",
    "    for test in x_test:\n",
    "        lb=KNN(x_train,y_train,test,k)\n",
    "        predictions.append(lb)\n",
    "    return predictions        "
   ]
  },
  {
   "cell_type": "code",
   "execution_count": 34,
   "metadata": {},
   "outputs": [],
   "source": [
    "all_pred=get_for_all_points(x_train,y_train,x_test,5)"
   ]
  },
  {
   "cell_type": "code",
   "execution_count": 35,
   "metadata": {},
   "outputs": [
    {
     "name": "stdout",
     "output_type": "stream",
     "text": [
      "[1, 1, 1, 0, 0, 1, 1, 1, 0, 1, 1, 0, 1, 0, 0, 1, 1, 1, 1, 1, 1, 1, 1, 0, 1, 1, 1, 0, 1, 0, 0, 1, 1, 1, 1, 0, 1, 1, 0, 1, 1, 1, 1, 1, 1, 1, 1, 1, 1, 1, 1, 1, 0, 1, 0, 1, 1, 0, 0, 0, 1, 1, 1, 1, 1, 0, 0, 1, 1, 1, 1, 1, 1, 1, 1, 1, 1, 1, 1, 0, 1, 0, 1, 1, 0, 1, 1, 1, 1, 1, 1, 0, 1, 1, 1, 0, 0, 0, 0, 1, 0, 0, 1, 1, 0, 1, 1, 1, 1, 1, 0, 1, 1, 1, 0, 1, 0, 1, 1, 1, 1, 1, 1, 0, 1, 0, 1, 1, 1, 1, 1, 1, 1, 1, 1, 1, 1, 1, 1, 0, 0, 1, 0, 1, 1, 1, 1, 0, 0, 1, 1, 1, 1, 1, 1, 1, 1, 0, 0, 1, 0, 1, 0, 1, 1, 1, 1, 1, 1, 1, 1, 1, 1, 1, 1, 1, 1, 1, 1, 1, 1, 1, 1, 1, 0, 1, 1, 1, 0, 1, 0, 1, 1, 1, 1, 0, 1, 0, 1, 0, 0, 1, 1, 0, 1, 1, 1, 1, 0, 1, 1, 1, 1, 0, 1, 1, 1, 1, 1, 1, 1, 1, 1, 1, 1, 1, 1, 1, 1, 0, 1, 1, 0, 1, 1, 1, 1, 1, 0, 0, 1, 0, 1, 1, 0, 1, 1, 1, 0, 0, 0, 1, 0, 1, 0, 0, 0, 1, 0, 1, 1, 0, 1, 0, 1, 1, 1, 1, 1, 1, 1, 0, 1, 1, 1, 0, 1, 0, 1, 1, 1, 1, 1, 1, 0, 1, 0, 1, 1, 1, 1, 1, 0, 0, 1, 0, 1, 1, 0, 0, 0, 1, 1, 1, 1, 0, 1, 1, 1, 1, 1, 1, 0, 1, 1, 0, 1, 0, 1, 1, 1, 1, 1, 1, 1, 1, 1, 1, 1, 1, 0, 1, 1, 1, 1, 0, 1, 1, 1, 1, 1, 1, 1, 0, 1, 1, 1, 1, 0, 1, 1, 1, 1, 1, 1, 1, 1, 1, 1, 1, 1, 1, 1, 1, 1, 1, 1, 1, 0, 1, 1, 1, 1, 1, 0, 1, 1, 1, 1, 1, 0, 0, 1, 1, 1, 0, 1, 1, 0, 1, 1, 1, 1, 1, 1, 1, 1, 1, 1, 1]\n"
     ]
    }
   ],
   "source": [
    "print(all_pred)"
   ]
  },
  {
   "cell_type": "code",
   "execution_count": 36,
   "metadata": {},
   "outputs": [],
   "source": [
    "# Comparing the values we calculated to the values we originally had\n",
    "def get_accuracy(all_pre,l_test):\n",
    "    c=0\n",
    "    for i,j in zip(all_pre,l_test):\n",
    "        if (i==j):\n",
    "            c+=1\n",
    "        else:\n",
    "            continue\n",
    "    return c/(y_test.shape[0])\n",
    "#return ((all_pre==l_test).sum())/(y_test.shape[0])"
   ]
  },
  {
   "cell_type": "code",
   "execution_count": 37,
   "metadata": {},
   "outputs": [
    {
     "data": {
      "text/plain": [
       "0.9075"
      ]
     },
     "execution_count": 37,
     "metadata": {},
     "output_type": "execute_result"
    }
   ],
   "source": [
    "get_accuracy(all_pred,y_test)"
   ]
  },
  {
   "cell_type": "markdown",
   "metadata": {},
   "source": [
    "# Use sklearn for KNN Algorithm directly"
   ]
  },
  {
   "cell_type": "code",
   "execution_count": 38,
   "metadata": {},
   "outputs": [],
   "source": [
    "from sklearn.neighbors import KNeighborsClassifier"
   ]
  },
  {
   "cell_type": "code",
   "execution_count": 39,
   "metadata": {},
   "outputs": [],
   "source": [
    "knn_sk_learn=KNeighborsClassifier(n_neighbors=5)"
   ]
  },
  {
   "cell_type": "code",
   "execution_count": 40,
   "metadata": {},
   "outputs": [
    {
     "name": "stderr",
     "output_type": "stream",
     "text": [
      "c:\\users\\ajaya\\appdata\\local\\programs\\python\\python37\\lib\\site-packages\\ipykernel_launcher.py:1: DataConversionWarning: A column-vector y was passed when a 1d array was expected. Please change the shape of y to (n_samples, ), for example using ravel().\n",
      "  \"\"\"Entry point for launching an IPython kernel.\n"
     ]
    },
    {
     "data": {
      "text/plain": [
       "KNeighborsClassifier(algorithm='auto', leaf_size=30, metric='minkowski',\n",
       "                     metric_params=None, n_jobs=None, n_neighbors=5, p=2,\n",
       "                     weights='uniform')"
      ]
     },
     "execution_count": 40,
     "metadata": {},
     "output_type": "execute_result"
    }
   ],
   "source": [
    "knn_sk_learn.fit(x_train,y_train)"
   ]
  },
  {
   "cell_type": "code",
   "execution_count": 41,
   "metadata": {},
   "outputs": [
    {
     "data": {
      "text/plain": [
       "90.75"
      ]
     },
     "execution_count": 41,
     "metadata": {},
     "output_type": "execute_result"
    }
   ],
   "source": [
    "knn_sk_learn.score(x_test,y_test)*100"
   ]
  },
  {
   "cell_type": "code",
   "execution_count": null,
   "metadata": {},
   "outputs": [],
   "source": []
  }
 ],
 "metadata": {
  "kernelspec": {
   "display_name": "Python 3",
   "language": "python",
   "name": "python3"
  },
  "language_info": {
   "codemirror_mode": {
    "name": "ipython",
    "version": 3
   },
   "file_extension": ".py",
   "mimetype": "text/x-python",
   "name": "python",
   "nbconvert_exporter": "python",
   "pygments_lexer": "ipython3",
   "version": "3.7.4"
  }
 },
 "nbformat": 4,
 "nbformat_minor": 2
}
