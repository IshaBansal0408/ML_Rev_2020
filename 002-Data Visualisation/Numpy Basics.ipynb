{
 "cells": [
  {
   "cell_type": "code",
   "execution_count": 1,
   "metadata": {},
   "outputs": [],
   "source": [
    "import numpy as np"
   ]
  },
  {
   "cell_type": "code",
   "execution_count": 2,
   "metadata": {},
   "outputs": [],
   "source": [
    "l=[1,2,3,5]\n",
    "n1=np.array(l)"
   ]
  },
  {
   "cell_type": "code",
   "execution_count": 3,
   "metadata": {},
   "outputs": [
    {
     "name": "stdout",
     "output_type": "stream",
     "text": [
      "Information about the array:\n",
      "The array is: [1 2 3 5]\n",
      "Type of array shown is : <class 'numpy.ndarray'>\n",
      "Data type of arrray is : int32\n",
      "Shape of array given is : (4,)\n"
     ]
    }
   ],
   "source": [
    "print(\"Information about the array:\")\n",
    "print(\"The array is:\",n1)\n",
    "print(\"Type of array shown is :\",type(n1))\n",
    "print(\"Data type of arrray is :\",n1.dtype)\n",
    "print(\"Shape of array given is :\",n1.shape)"
   ]
  },
  {
   "cell_type": "code",
   "execution_count": 4,
   "metadata": {},
   "outputs": [
    {
     "name": "stdout",
     "output_type": "stream",
     "text": [
      "[[1 2 3]\n",
      " [4 5 6]\n",
      " [7 8 9]]\n",
      "(3, 3)\n",
      "2\n"
     ]
    }
   ],
   "source": [
    "a = np.array([[1,2,3], [4,5,6], [7,8,9]])\n",
    "print(a)\n",
    "print(a.shape)\n",
    "print(a.ndim)"
   ]
  },
  {
   "cell_type": "code",
   "execution_count": 5,
   "metadata": {},
   "outputs": [
    {
     "name": "stdout",
     "output_type": "stream",
     "text": [
      "[ 0  2  4  6  8 10 12 14 16 18 20 22 24 26 28]\n",
      "1\n"
     ]
    }
   ],
   "source": [
    "n = np.arange(0, 30, 2) # create an array of numbers between [0,30) with an interval of 2\n",
    "print(n)\n",
    "print(n.ndim) #Print the dimention of the array"
   ]
  },
  {
   "cell_type": "code",
   "execution_count": 6,
   "metadata": {},
   "outputs": [
    {
     "name": "stdout",
     "output_type": "stream",
     "text": [
      "[ 0.    1.25  2.5   3.75  5.    6.25  7.5   8.75 10.  ]\n"
     ]
    }
   ],
   "source": [
    "o = np.linspace(0, 10, 9) # create an array of 9 elements between [0,10]. Decide the interval according to n\n",
    "print(o)"
   ]
  },
  {
   "cell_type": "code",
   "execution_count": 7,
   "metadata": {},
   "outputs": [
    {
     "name": "stdout",
     "output_type": "stream",
     "text": [
      "[[1. 1.]\n",
      " [1. 1.]\n",
      " [1. 1.]]\n"
     ]
    }
   ],
   "source": [
    "q = np.ones((3,2))  #Create a 2D array of size (rows,columns) having all 1s\n",
    "print(q)"
   ]
  },
  {
   "cell_type": "code",
   "execution_count": 8,
   "metadata": {},
   "outputs": [
    {
     "name": "stdout",
     "output_type": "stream",
     "text": [
      "[[1 1]\n",
      " [1 1]\n",
      " [1 1]]\n"
     ]
    }
   ],
   "source": [
    "#To have int 1s\n",
    "p = np.ones((3,2), int)\n",
    "print(p)"
   ]
  },
  {
   "cell_type": "code",
   "execution_count": 9,
   "metadata": {},
   "outputs": [
    {
     "data": {
      "text/plain": [
       "array([[1, 0, 0, 0],\n",
       "       [0, 1, 0, 0],\n",
       "       [0, 0, 1, 0],\n",
       "       [0, 0, 0, 1]])"
      ]
     },
     "execution_count": 9,
     "metadata": {},
     "output_type": "execute_result"
    }
   ],
   "source": [
    "np.eye((4),dtype=int) # Identity Matrix of size (x) and datatype -> int... Float by default"
   ]
  },
  {
   "cell_type": "code",
   "execution_count": 10,
   "metadata": {},
   "outputs": [
    {
     "name": "stdout",
     "output_type": "stream",
     "text": [
      "[[1 2 3]\n",
      " [4 5 6]\n",
      " [7 8 9]]\n",
      "[1 5 9]\n"
     ]
    }
   ],
   "source": [
    "X=np.array([[1,2,3],[4,5,6],[7,8,9]])\n",
    "print(X)\n",
    "print(np.diag(X)) # Diagonal element array array"
   ]
  },
  {
   "cell_type": "code",
   "execution_count": 11,
   "metadata": {},
   "outputs": [
    {
     "data": {
      "text/plain": [
       "array([[10, 10, 10],\n",
       "       [10, 10, 10]])"
      ]
     },
     "execution_count": 11,
     "metadata": {},
     "output_type": "execute_result"
    }
   ],
   "source": [
    "np.full((2,3), 10) #Fills the whole array of size (row,column) with value mentioned (here 10)"
   ]
  },
  {
   "cell_type": "code",
   "execution_count": 12,
   "metadata": {},
   "outputs": [
    {
     "name": "stdout",
     "output_type": "stream",
     "text": [
      "[[0.77009619 0.48143306 0.36425687]\n",
      " [0.00334994 0.91494012 0.85903795]]\n"
     ]
    }
   ],
   "source": [
    "#np.random.random((row,column)) returns random floats in the interval [0.0, 1.0)\n",
    "#The output points are in Uniform distribution\n",
    "t1=np.random.random((2,3))\n",
    "print(t1)"
   ]
  },
  {
   "cell_type": "code",
   "execution_count": 13,
   "metadata": {},
   "outputs": [
    {
     "data": {
      "text/plain": [
       "array([[10,  0,  0],\n",
       "       [ 0, 99,  0],\n",
       "       [ 0,  0, 44]])"
      ]
     },
     "execution_count": 13,
     "metadata": {},
     "output_type": "execute_result"
    }
   ],
   "source": [
    "np.diag((10,99,44)) #Creating a matrix with diagonal elements as mentioned and rest 0"
   ]
  },
  {
   "cell_type": "code",
   "execution_count": 14,
   "metadata": {},
   "outputs": [
    {
     "data": {
      "text/plain": [
       "array([10,  0,  0,  0, 99,  0,  0,  0, 44])"
      ]
     },
     "execution_count": 14,
     "metadata": {},
     "output_type": "execute_result"
    }
   ],
   "source": [
    "np.diag((10,99,44)).flatten()"
   ]
  },
  {
   "cell_type": "raw",
   "metadata": {},
   "source": [
    "RESHAPING VS RESIZING"
   ]
  },
  {
   "cell_type": "code",
   "execution_count": 17,
   "metadata": {},
   "outputs": [
    {
     "name": "stdout",
     "output_type": "stream",
     "text": [
      "[ 0  2  4  6  8 10 12 14 16 18 20 22 24 26 28]\n",
      "(15,)\n",
      "Print n after reshaping :  [ 0  2  4  6  8 10 12 14 16 18 20 22 24 26 28]\n",
      "NO CHANGES! It creates a copy and the array remains unchanged\n",
      "After storing it separately :\n",
      "[[ 0  2  4  6  8]\n",
      " [10 12 14 16 18]\n",
      " [20 22 24 26 28]]\n"
     ]
    }
   ],
   "source": [
    "n = np.arange(0,30,2)\n",
    "print(n)\n",
    "print(n.shape)\n",
    "n.reshape(3,5)\n",
    "print(\"Print n after reshaping : \",n)\n",
    "print(\"NO CHANGES! It creates a copy and the array remains unchanged\")\n",
    "l= n.reshape(3,5)\n",
    "print(\"After storing it separately :\",l,sep=\"\\n\")"
   ]
  },
  {
   "cell_type": "code",
   "execution_count": 18,
   "metadata": {},
   "outputs": [
    {
     "name": "stdout",
     "output_type": "stream",
     "text": [
      "[ 0.    1.25  2.5   3.75  5.    6.25  7.5   8.75 10.  ]\n",
      "None\n",
      "[[ 0.    1.25  2.5 ]\n",
      " [ 3.75  5.    6.25]\n",
      " [ 7.5   8.75 10.  ]]\n"
     ]
    }
   ],
   "source": [
    "o = np.linspace(0,10,9)\n",
    "print(o)\n",
    "l = o.resize(3,3) # Inplace as it will return None\n",
    "print(l)\n",
    "print(o)"
   ]
  },
  {
   "cell_type": "raw",
   "metadata": {},
   "source": [
    "STACKING"
   ]
  },
  {
   "cell_type": "code",
   "execution_count": 19,
   "metadata": {},
   "outputs": [
    {
     "data": {
      "text/plain": [
       "array([[  1,   2],\n",
       "       [ 99, 100],\n",
       "       [-45, -47]])"
      ]
     },
     "execution_count": 19,
     "metadata": {},
     "output_type": "execute_result"
    }
   ],
   "source": [
    "np.stack([[1,2], [99,100], [-45, -47]], axis=0)"
   ]
  },
  {
   "cell_type": "code",
   "execution_count": 20,
   "metadata": {},
   "outputs": [
    {
     "data": {
      "text/plain": [
       "array([[  1,  99, -45],\n",
       "       [  2, 100, -47]])"
      ]
     },
     "execution_count": 20,
     "metadata": {},
     "output_type": "execute_result"
    }
   ],
   "source": [
    "np.stack([[1,2], [99,100], [-45, -47]], axis=1)"
   ]
  },
  {
   "cell_type": "code",
   "execution_count": 22,
   "metadata": {},
   "outputs": [
    {
     "data": {
      "text/plain": [
       "array([[  1,   2],\n",
       "       [ 99, 100],\n",
       "       [-45, -47]])"
      ]
     },
     "execution_count": 22,
     "metadata": {},
     "output_type": "execute_result"
    }
   ],
   "source": [
    "np.vstack([[1,2], [99,100], [-45, -47]])"
   ]
  },
  {
   "cell_type": "code",
   "execution_count": 23,
   "metadata": {},
   "outputs": [
    {
     "data": {
      "text/plain": [
       "array([  1,   2,  99, 100, -45, -47])"
      ]
     },
     "execution_count": 23,
     "metadata": {},
     "output_type": "execute_result"
    }
   ],
   "source": [
    "np.hstack([[1,2], [99,100], [-45, -47]])"
   ]
  },
  {
   "cell_type": "code",
   "execution_count": 25,
   "metadata": {},
   "outputs": [
    {
     "name": "stdout",
     "output_type": "stream",
     "text": [
      "[[ 1  2  3  4]\n",
      " [11 12 31 41]]\n",
      "[[ 1  2]\n",
      " [11 12]\n",
      " [ 3  4]\n",
      " [31 41]]\n"
     ]
    }
   ],
   "source": [
    "arr1=np.array([[1,2],[11,12]])\n",
    "arr2=np.array([[3,4],[31,41]])\n",
    "print(np.hstack((arr1,arr2)))\n",
    "print(np.vstack((arr1,arr2)))"
   ]
  },
  {
   "cell_type": "raw",
   "metadata": {},
   "source": [
    "VECTORIZED OPERATIONS"
   ]
  },
  {
   "cell_type": "code",
   "execution_count": 26,
   "metadata": {},
   "outputs": [
    {
     "name": "stdout",
     "output_type": "stream",
     "text": [
      "[1 2 3]\n",
      "[4 5 6]\n"
     ]
    }
   ],
   "source": [
    "n1=np.array([1,2,3])\n",
    "n2=np.array([4,5,6])\n",
    "print(n1,n2,sep=\"\\n\")"
   ]
  },
  {
   "cell_type": "code",
   "execution_count": 28,
   "metadata": {},
   "outputs": [
    {
     "name": "stdout",
     "output_type": "stream",
     "text": [
      "[5 7 9]\n",
      "[-3 -3 -3]\n",
      "[ 4 10 18]\n",
      "[0.25 0.4  0.5 ]\n",
      "[  1  32 729]\n"
     ]
    }
   ],
   "source": [
    "print(n1+n2)\n",
    "print(n1-n2)\n",
    "print(n1*n2)\n",
    "print(n1/n2)\n",
    "print(n1**n2)"
   ]
  },
  {
   "cell_type": "code",
   "execution_count": 29,
   "metadata": {},
   "outputs": [
    {
     "name": "stdout",
     "output_type": "stream",
     "text": [
      "Array*number\n",
      "[3 6 9]\n",
      "List*number\n",
      "[1, 2, 3, 1, 2, 3, 1, 2, 3]\n"
     ]
    }
   ],
   "source": [
    "print(\"Array*number\")\n",
    "print(n1*3)\n",
    "print(\"List*number\")\n",
    "print([1,2,3]*3)"
   ]
  },
  {
   "cell_type": "code",
   "execution_count": 31,
   "metadata": {},
   "outputs": [
    {
     "data": {
      "text/plain": [
       "array([1, 1, 1, 2, 2, 2, 3, 3, 3])"
      ]
     },
     "execution_count": 31,
     "metadata": {},
     "output_type": "execute_result"
    }
   ],
   "source": [
    "np.repeat([1,2,3],3)"
   ]
  },
  {
   "cell_type": "code",
   "execution_count": 33,
   "metadata": {},
   "outputs": [
    {
     "name": "stdout",
     "output_type": "stream",
     "text": [
      "n1: [1 2 3]\n",
      "n2: [4 5 6]\n",
      "Dot product : \n",
      "32\n",
      "32\n"
     ]
    }
   ],
   "source": [
    "print(\"n1:\",n1)\n",
    "print(\"n2:\",n2)\n",
    "print(\"Dot product : \")\n",
    "print(n1.dot(n2))\n",
    "print(n2.dot(n1))"
   ]
  },
  {
   "cell_type": "raw",
   "metadata": {},
   "source": [
    "ARGMAX"
   ]
  },
  {
   "cell_type": "code",
   "execution_count": 38,
   "metadata": {},
   "outputs": [
    {
     "name": "stdout",
     "output_type": "stream",
     "text": [
      "[[1 2 3]\n",
      " [2 2 3]\n",
      " [9 0 8]]\n"
     ]
    }
   ],
   "source": [
    "l = [[1,2,3],[2,2,3],[9,0,8]]\n",
    "q = np.array(l)\n",
    "print(q)"
   ]
  },
  {
   "cell_type": "code",
   "execution_count": 39,
   "metadata": {},
   "outputs": [
    {
     "name": "stdout",
     "output_type": "stream",
     "text": [
      "[2 0 2]\n"
     ]
    }
   ],
   "source": [
    "print(q.argmax(axis=0))"
   ]
  },
  {
   "cell_type": "code",
   "execution_count": 40,
   "metadata": {},
   "outputs": [
    {
     "name": "stdout",
     "output_type": "stream",
     "text": [
      "[2 2 0]\n"
     ]
    }
   ],
   "source": [
    "print(q.argmax(axis=1))"
   ]
  },
  {
   "cell_type": "raw",
   "metadata": {},
   "source": [
    "TYPE CASTING"
   ]
  },
  {
   "cell_type": "code",
   "execution_count": 43,
   "metadata": {},
   "outputs": [
    {
     "data": {
      "text/plain": [
       "dtype('int32')"
      ]
     },
     "execution_count": 43,
     "metadata": {},
     "output_type": "execute_result"
    }
   ],
   "source": [
    "q.dtype"
   ]
  },
  {
   "cell_type": "code",
   "execution_count": 44,
   "metadata": {},
   "outputs": [
    {
     "name": "stdout",
     "output_type": "stream",
     "text": [
      "float32\n"
     ]
    }
   ],
   "source": [
    "q=q.astype('f')\n",
    "print(q.dtype)"
   ]
  },
  {
   "cell_type": "code",
   "execution_count": 45,
   "metadata": {},
   "outputs": [],
   "source": [
    "a = np.array([-4,-3,-1,5,19])"
   ]
  },
  {
   "cell_type": "code",
   "execution_count": 46,
   "metadata": {},
   "outputs": [
    {
     "name": "stdout",
     "output_type": "stream",
     "text": [
      "[-4 -3 -1  5 19]\n",
      "Max: 19\n",
      "Min: -4\n",
      "Mean: 3.2\n",
      "Std: 8.49470423263812\n",
      "Index of Max Value: 4\n",
      "Max Value 19\n",
      "Index of Min Value: 0\n"
     ]
    }
   ],
   "source": [
    "print(a)\n",
    "print(\"Max:\", a.max())\n",
    "print(\"Min:\", a.min())\n",
    "print(\"Mean:\", a.mean())\n",
    "print(\"Std:\", a.std())\n",
    "print(\"Index of Max Value:\", a.argmax())\n",
    "print(\"Max Value\", a[a.argmax()])\n",
    "print(\"Index of Min Value:\", a.argmin())"
   ]
  },
  {
   "cell_type": "code",
   "execution_count": 47,
   "metadata": {},
   "outputs": [],
   "source": [
    "b = np.array([[1,99,20,31],[-1,-24,37,-13],[-7,11,49,4]])"
   ]
  },
  {
   "cell_type": "code",
   "execution_count": 48,
   "metadata": {},
   "outputs": [
    {
     "name": "stdout",
     "output_type": "stream",
     "text": [
      "[[  1  99  20  31]\n",
      " [ -1 -24  37 -13]\n",
      " [ -7  11  49   4]]\n",
      "\n",
      "Max: 99\n",
      "Min: -24\n",
      "Mean: 17.25\n",
      "Std: 32.00813698629355\n",
      "Index of Max Value: 1\n",
      "Index of Min Value: 5\n",
      "\n",
      "\n",
      "-- ALONG AXIS 0 --\n",
      "Max: [ 1 99 49 31]\n",
      "Min: [ -7 -24  20 -13]\n",
      "Mean: [-2.33333333 28.66666667 35.33333333  7.33333333]\n",
      "Std: [ 3.39934634 51.74510175 11.8977122  18.11690432]\n",
      "Index of Max Value: [0 0 2 0]\n",
      "Index of Min Value: [2 1 0 1]\n",
      "[[  1  99  20  31]\n",
      " [ -1 -24  37 -13]\n",
      " [ -7  11  49   4]]\n",
      "\n",
      "-- ALONG AXIS 1 --\n",
      "Max: [99 37 49]\n",
      "Min: [  1 -24  -7]\n",
      "Mean: [37.75 -0.25 14.25]\n",
      "Std: [36.95520938 22.99320552 21.0638909 ]\n",
      "Index of Max Value: [1 2 2]\n",
      "Index of Min Value: [0 1 0]\n"
     ]
    }
   ],
   "source": [
    "print(b, end='\\n\\n')\n",
    "\n",
    "print(\"Max:\", b.max())\n",
    "print(\"Min:\", b.min())\n",
    "print(\"Mean:\", b.mean())\n",
    "print(\"Std:\", b.std())\n",
    "print(\"Index of Max Value:\", b.argmax()) # Returns position of the flattened\n",
    "print(\"Index of Min Value:\", b.argmin())\n",
    "\n",
    "print('\\n\\n-- ALONG AXIS 0 --')\n",
    "print(\"Max:\", b.max(axis=0))\n",
    "print(\"Min:\", b.min(axis=0))\n",
    "print(\"Mean:\", b.mean(axis=0))\n",
    "print(\"Std:\", b.std(axis=0))\n",
    "print(\"Index of Max Value:\", b.argmax(axis=0)) # Returns position of the flattened\n",
    "print(\"Index of Min Value:\", b.argmin(axis=0))\n",
    "print(b)\n",
    "print('\\n-- ALONG AXIS 1 --')\n",
    "print(\"Max:\", b.max(axis=1))\n",
    "print(\"Min:\", b.min(axis=1))\n",
    "print(\"Mean:\", b.mean(axis=1))\n",
    "print(\"Std:\", b.std(axis=1))\n",
    "print(\"Index of Max Value:\", b.argmax(axis=1)) # Returns position of the flattened\n",
    "print(\"Index of Min Value:\", b.argmin(axis=1))"
   ]
  },
  {
   "cell_type": "raw",
   "metadata": {},
   "source": [
    "ARRAY SLICING"
   ]
  },
  {
   "cell_type": "code",
   "execution_count": 49,
   "metadata": {},
   "outputs": [],
   "source": [
    "s=np.array([  0,   1,   4,   9,  16,  25,  36,  49,  64,  81, 100, 121, 144])"
   ]
  },
  {
   "cell_type": "code",
   "execution_count": 50,
   "metadata": {},
   "outputs": [
    {
     "data": {
      "text/plain": [
       "array([  0,   1,   4,   9,  16,  25,  36,  49,  64,  81, 100, 121, 144])"
      ]
     },
     "execution_count": 50,
     "metadata": {},
     "output_type": "execute_result"
    }
   ],
   "source": [
    "s"
   ]
  },
  {
   "cell_type": "code",
   "execution_count": 53,
   "metadata": {},
   "outputs": [
    {
     "name": "stdout",
     "output_type": "stream",
     "text": [
      "0 16 [0 4]\n"
     ]
    }
   ],
   "source": [
    "print(s[0], s[4], s[0:3:2])"
   ]
  },
  {
   "cell_type": "code",
   "execution_count": 54,
   "metadata": {},
   "outputs": [
    {
     "name": "stdout",
     "output_type": "stream",
     "text": [
      "[144 121 100  81  64  49  36  25  16   9   4   1   0]\n",
      "[ 81 100 121 144]\n",
      "[64 36 16  4]\n"
     ]
    }
   ],
   "source": [
    "print(s[::-1])\n",
    "print(s[-4:])\n",
    "print(s[-5:0:-2])"
   ]
  },
  {
   "cell_type": "raw",
   "metadata": {},
   "source": [
    "VERDICT IN NUMPY ARRAY"
   ]
  },
  {
   "cell_type": "code",
   "execution_count": 56,
   "metadata": {},
   "outputs": [],
   "source": [
    "v=np.array([[ 0,  1,  2,  3,  4,  5],\n",
    "       [ 6,  7,  8,  9, 10, 11],\n",
    "       [12, 13, 14, 15, 16, 17],\n",
    "       [18, 19, 20, 21, 22, 23],\n",
    "       [24, 25, 26, 27, 28, 29],\n",
    "       [30, 31, 32, 33, 34, 35]])"
   ]
  },
  {
   "cell_type": "code",
   "execution_count": 57,
   "metadata": {},
   "outputs": [
    {
     "data": {
      "text/plain": [
       "array([[ 0,  1,  2,  3,  4,  5],\n",
       "       [ 6,  7,  8,  9, 10, 11],\n",
       "       [12, 13, 14, 15, 16, 17],\n",
       "       [18, 19, 20, 21, 22, 23],\n",
       "       [24, 25, 26, 27, 28, 29],\n",
       "       [30, 31, 32, 33, 34, 35]])"
      ]
     },
     "execution_count": 57,
     "metadata": {},
     "output_type": "execute_result"
    }
   ],
   "source": [
    "v"
   ]
  },
  {
   "cell_type": "code",
   "execution_count": 58,
   "metadata": {},
   "outputs": [
    {
     "name": "stdout",
     "output_type": "stream",
     "text": [
      "[[ 0  1  2  3  4  5]\n",
      " [ 6  7  8  9 10 11]\n",
      " [12 13 14 15 16 17]\n",
      " [18 19 20 21 22 23]\n",
      " [24 25 26 27 28 29]\n",
      " [30 31 32 33 34 35]]\n"
     ]
    }
   ],
   "source": [
    "print(v)"
   ]
  },
  {
   "cell_type": "code",
   "execution_count": 61,
   "metadata": {},
   "outputs": [
    {
     "name": "stdout",
     "output_type": "stream",
     "text": [
      "[[ 0  1  2  3  4  5]\n",
      " [ 6  7  8  9 10 11]\n",
      " [12 13 14 15 16 17]\n",
      " [18 19 20 21 22 23]\n",
      " [24 25 26 27 28 29]\n",
      " [30 31 32 33 34 35]]\n"
     ]
    },
    {
     "data": {
      "text/plain": [
       "array([[False, False, False, False, False, False],\n",
       "       [False, False, False, False, False, False],\n",
       "       [False, False, False, False, False, False],\n",
       "       [False, False, False, False, False, False],\n",
       "       [False, False, False, False, False, False],\n",
       "       [False,  True,  True,  True,  True,  True]])"
      ]
     },
     "execution_count": 61,
     "metadata": {},
     "output_type": "execute_result"
    }
   ],
   "source": [
    "condition= v>30\n",
    "print(v)\n",
    "condition"
   ]
  },
  {
   "cell_type": "code",
   "execution_count": 62,
   "metadata": {},
   "outputs": [],
   "source": [
    "taking_gre_than_30=v[condition]"
   ]
  },
  {
   "cell_type": "code",
   "execution_count": 63,
   "metadata": {},
   "outputs": [
    {
     "data": {
      "text/plain": [
       "array([31, 32, 33, 34, 35])"
      ]
     },
     "execution_count": 63,
     "metadata": {},
     "output_type": "execute_result"
    }
   ],
   "source": [
    "taking_gre_than_30"
   ]
  },
  {
   "cell_type": "code",
   "execution_count": 64,
   "metadata": {},
   "outputs": [
    {
     "name": "stdout",
     "output_type": "stream",
     "text": [
      "5\n",
      "165\n"
     ]
    }
   ],
   "source": [
    "print((v>30).sum())\n",
    "print((v[condition]).sum())"
   ]
  },
  {
   "cell_type": "code",
   "execution_count": 68,
   "metadata": {},
   "outputs": [
    {
     "data": {
      "text/plain": [
       "array([[ 0,  1,  2,  3,  4,  5],\n",
       "       [ 6,  7,  8,  9, 10, 11],\n",
       "       [12, 13, 14, 15, 16, 17],\n",
       "       [18, 19, 20, 21, 22, 23],\n",
       "       [24, 25, 26, 27, 28, 29],\n",
       "       [30, -1, -1, -1, -1, -1]])"
      ]
     },
     "execution_count": 68,
     "metadata": {},
     "output_type": "execute_result"
    }
   ],
   "source": [
    "# Assigning the elements greater than 30 to a new value\n",
    "v[condition] = -1\n",
    "v"
   ]
  },
  {
   "cell_type": "raw",
   "metadata": {},
   "source": [
    "OTHER OPERATIONS"
   ]
  },
  {
   "cell_type": "code",
   "execution_count": 70,
   "metadata": {},
   "outputs": [
    {
     "name": "stdout",
     "output_type": "stream",
     "text": [
      "a: [2 3 4 5]\n",
      "b: [2 3 4 5]\n"
     ]
    }
   ],
   "source": [
    "a = np.array([1,2,3,4])\n",
    "b = a\n",
    "a += np.array([1,1,1,1])  # inplace\n",
    "print('a:', a)\n",
    "print('b:', b)"
   ]
  },
  {
   "cell_type": "code",
   "execution_count": 71,
   "metadata": {},
   "outputs": [
    {
     "name": "stdout",
     "output_type": "stream",
     "text": [
      "a: [2 3 4 5]\n",
      "b: [1 2 3 4]\n"
     ]
    }
   ],
   "source": [
    "a = np.array([1,2,3,4])\n",
    "b = a\n",
    "a = a + np.array([1,1,1,1])\n",
    "print('a:', a)\n",
    "print('b:', b)"
   ]
  },
  {
   "cell_type": "code",
   "execution_count": 72,
   "metadata": {},
   "outputs": [
    {
     "data": {
      "text/plain": [
       "array([[ 0,  1,  2,  3,  4,  5],\n",
       "       [ 6,  7,  8,  9, 10, 11],\n",
       "       [12, 13, 14, 15, 16, 17],\n",
       "       [18, 19, 20, 21, 22, 23],\n",
       "       [24, 25, 26, 27, 28, 29],\n",
       "       [30, -1, -1, -1, -1, -1]])"
      ]
     },
     "execution_count": 72,
     "metadata": {},
     "output_type": "execute_result"
    }
   ],
   "source": [
    "v"
   ]
  },
  {
   "cell_type": "code",
   "execution_count": 73,
   "metadata": {},
   "outputs": [],
   "source": [
    "v_copy=v.copy()"
   ]
  },
  {
   "cell_type": "code",
   "execution_count": 74,
   "metadata": {},
   "outputs": [
    {
     "data": {
      "text/plain": [
       "array([[ 0,  1,  2,  3,  4,  5],\n",
       "       [ 6,  7,  8,  9, 10, 11],\n",
       "       [12, 13, 14, 15, 16, 17],\n",
       "       [18, 19, 20, 21, 22, 23],\n",
       "       [24, 25, 26, 27, 28, 29],\n",
       "       [30, -1, -1, -1, -1, -1]])"
      ]
     },
     "execution_count": 74,
     "metadata": {},
     "output_type": "execute_result"
    }
   ],
   "source": [
    "v_copy"
   ]
  },
  {
   "cell_type": "code",
   "execution_count": 87,
   "metadata": {},
   "outputs": [
    {
     "name": "stdout",
     "output_type": "stream",
     "text": [
      "9\n"
     ]
    },
    {
     "data": {
      "text/plain": [
       "array([[5, 2, 9],\n",
       "       [3, 3, 1],\n",
       "       [2, 4, 2],\n",
       "       [5, 3, 4]])"
      ]
     },
     "execution_count": 87,
     "metadata": {},
     "output_type": "execute_result"
    }
   ],
   "source": [
    "#RANDOM MODULE\n",
    "import random\n",
    "print(random.randint(0,10)) #CHOOSES A RANDOM VARIABLE IN INTERVAL [0,10)\n",
    "#NUMPY MODULE RANDOM.RANDINT\n",
    "test = np.random.randint(0, 10, (4,3))  #SIZE IS DEFINED\n",
    "test"
   ]
  },
  {
   "cell_type": "code",
   "execution_count": 88,
   "metadata": {},
   "outputs": [
    {
     "name": "stdout",
     "output_type": "stream",
     "text": [
      "[5 2 9]\n",
      "[3 3 1]\n",
      "[2 4 2]\n",
      "[5 3 4]\n"
     ]
    }
   ],
   "source": [
    "for row in test:\n",
    "    print(row)"
   ]
  },
  {
   "cell_type": "code",
   "execution_count": 89,
   "metadata": {},
   "outputs": [
    {
     "name": "stdout",
     "output_type": "stream",
     "text": [
      "Row 0 is [5 2 9]\n",
      "Row 1 is [3 3 1]\n",
      "Row 2 is [2 4 2]\n",
      "Row 3 is [5 3 4]\n"
     ]
    }
   ],
   "source": [
    "for index in range(len(test)):\n",
    "    print(\"Row {} is {}\".format(index, test[index]))"
   ]
  },
  {
   "cell_type": "code",
   "execution_count": 90,
   "metadata": {},
   "outputs": [
    {
     "name": "stdout",
     "output_type": "stream",
     "text": [
      "Row 0 is [5 2 9]\n",
      "Row 1 is [3 3 1]\n",
      "Row 2 is [2 4 2]\n",
      "Row 3 is [5 3 4]\n"
     ]
    }
   ],
   "source": [
    "for i, row in enumerate(test):\n",
    "        print(\"Row {} is {}\".format(i, row))"
   ]
  },
  {
   "cell_type": "code",
   "execution_count": 91,
   "metadata": {},
   "outputs": [],
   "source": [
    "TEST=test**2"
   ]
  },
  {
   "cell_type": "code",
   "execution_count": 92,
   "metadata": {},
   "outputs": [
    {
     "data": {
      "text/plain": [
       "array([[25,  4, 81],\n",
       "       [ 9,  9,  1],\n",
       "       [ 4, 16,  4],\n",
       "       [25,  9, 16]], dtype=int32)"
      ]
     },
     "execution_count": 92,
     "metadata": {},
     "output_type": "execute_result"
    }
   ],
   "source": [
    "TEST"
   ]
  },
  {
   "cell_type": "code",
   "execution_count": 93,
   "metadata": {},
   "outputs": [
    {
     "data": {
      "text/plain": [
       "array([[5, 2, 9],\n",
       "       [3, 3, 1],\n",
       "       [2, 4, 2],\n",
       "       [5, 3, 4]])"
      ]
     },
     "execution_count": 93,
     "metadata": {},
     "output_type": "execute_result"
    }
   ],
   "source": [
    "test"
   ]
  },
  {
   "cell_type": "code",
   "execution_count": 94,
   "metadata": {},
   "outputs": [
    {
     "name": "stdout",
     "output_type": "stream",
     "text": [
      "[5 2 9] + [25  4 81] = [30  6 90]\n",
      "[3 3 1] + [9 9 1] = [12 12  2]\n",
      "[2 4 2] + [ 4 16  4] = [ 6 20  6]\n",
      "[5 3 4] + [25  9 16] = [30 12 20]\n"
     ]
    }
   ],
   "source": [
    "for i,j in zip(test, TEST):\n",
    "    print(i, '+', j, '=', i+j)"
   ]
  },
  {
   "cell_type": "code",
   "execution_count": null,
   "metadata": {},
   "outputs": [],
   "source": []
  }
 ],
 "metadata": {
  "kernelspec": {
   "display_name": "Python 3",
   "language": "python",
   "name": "python3"
  },
  "language_info": {
   "codemirror_mode": {
    "name": "ipython",
    "version": 3
   },
   "file_extension": ".py",
   "mimetype": "text/x-python",
   "name": "python",
   "nbconvert_exporter": "python",
   "pygments_lexer": "ipython3",
   "version": "3.7.4"
  }
 },
 "nbformat": 4,
 "nbformat_minor": 2
}
