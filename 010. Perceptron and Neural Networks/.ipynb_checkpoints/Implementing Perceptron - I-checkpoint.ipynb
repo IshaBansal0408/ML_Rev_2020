{
 "cells": [
  {
   "cell_type": "markdown",
   "id": "f8245a08",
   "metadata": {},
   "source": [
    "# Implementing Perceptron"
   ]
  },
  {
   "cell_type": "code",
   "execution_count": 1,
   "id": "a175db65",
   "metadata": {},
   "outputs": [],
   "source": [
    "import numpy as np\n",
    "import matplotlib.pyplot as plt"
   ]
  },
  {
   "cell_type": "code",
   "execution_count": 2,
   "id": "877ea851",
   "metadata": {},
   "outputs": [],
   "source": [
    "# Creating Dataset\n",
    "from sklearn.datasets import make_blobs"
   ]
  },
  {
   "cell_type": "code",
   "execution_count": 3,
   "id": "40045fc5",
   "metadata": {},
   "outputs": [],
   "source": [
    "x,y=make_blobs(n_samples=500,centers=2,n_features=2,random_state=10)"
   ]
  },
  {
   "cell_type": "code",
   "execution_count": 4,
   "id": "9dcf82b5",
   "metadata": {
    "scrolled": false
   },
   "outputs": [
    {
     "name": "stdout",
     "output_type": "stream",
     "text": [
      "(500, 2) (500,)\n"
     ]
    }
   ],
   "source": [
    "print(x.shape,y.shape)"
   ]
  },
  {
   "cell_type": "code",
   "execution_count": 5,
   "id": "9381bf92",
   "metadata": {},
   "outputs": [
    {
     "data": {
      "image/png": "[encoded data removed]",
      "text/plain": [
       "<Figure size 432x288 with 1 Axes>"
      ]
     },
     "metadata": {},
     "output_type": "display_data"
    }
   ],
   "source": [
    "plt.style.use('ggplot')\n",
    "plt.scatter(x[:,0],x[:,1],c=y,cmap=plt.cm.winter)\n",
    "plt.show()"
   ]
  },
  {
   "cell_type": "markdown",
   "id": "c061b986",
   "metadata": {},
   "source": [
    "# Description of data created:\n",
    "\n",
    "no of samples - 500\n",
    "\n",
    "no of features (classes) - 2 : 0 and 1 : labels"
   ]
  },
  {
   "cell_type": "markdown",
   "id": "e162a10e",
   "metadata": {},
   "source": [
    "# Model Creation"
   ]
  },
  {
   "cell_type": "code",
   "execution_count": 6,
   "id": "1dae114e",
   "metadata": {},
   "outputs": [],
   "source": [
    "def activation(z):\n",
    "    return (1.0)/(1+np.exp(-z))"
   ]
  },
  {
   "cell_type": "code",
   "execution_count": 7,
   "id": "aa443751",
   "metadata": {},
   "outputs": [],
   "source": [
    "def cal_process_output(wt,x_data):\n",
    "    z=np.dot(x_data,wt)\n",
    "    sig_z = activation(z)\n",
    "    return sig_z"
   ]
  },
  {
   "cell_type": "code",
   "execution_count": 8,
   "id": "312fbee5",
   "metadata": {},
   "outputs": [],
   "source": [
    "def cal_loss(x,y,wt):\n",
    "    #Binary Cross entropy : Log Loss\n",
    "    y_hat = cal_process_output(wt,x)\n",
    "    LL = np.mean(-y*np.log(y_hat)-(1-y)*np.log(1-y_hat))\n",
    "    return LL"
   ]
  },
  {
   "cell_type": "code",
   "execution_count": 9,
   "id": "ac9db9a9",
   "metadata": {},
   "outputs": [],
   "source": [
    "def update_values(x,y,wt,lr):\n",
    "    y_hat=cal_process_output(wt,x)\n",
    "    prod = np.dot(x.T,y_hat-y)\n",
    "    no = x.shape[0]\n",
    "    wt = wt - lr*prod/float(no)\n",
    "    return wt"
   ]
  },
  {
   "cell_type": "code",
   "execution_count": 10,
   "id": "c5080710",
   "metadata": {},
   "outputs": [],
   "source": [
    "def train(x,y,lr=0.5,epoch=100):\n",
    "    # add a x0 column to handle bias where bias is always 1\n",
    "    ones = np.ones((x.shape[0],1))\n",
    "    x=np.hstack((ones,x))\n",
    "    \n",
    "    wt = np.zeros(x.shape[1])\n",
    "    \n",
    "    for e in range(epoch):\n",
    "        wt =update_values(x,y,wt,lr)\n",
    "        if e%10==0:\n",
    "            cur_l = cal_loss(x,y,wt)\n",
    "            print(\"Loss at epoch \",e,\" is: \",cur_l)\n",
    "    return wt"
   ]
  },
  {
   "cell_type": "code",
   "execution_count": 11,
   "id": "f811e350",
   "metadata": {},
   "outputs": [
    {
     "name": "stdout",
     "output_type": "stream",
     "text": [
      "Loss at epoch  0  is:  0.0005716427275807647\n",
      "Loss at epoch  10  is:  0.0005380401348680319\n",
      "Loss at epoch  20  is:  0.0005082724670657061\n",
      "Loss at epoch  30  is:  0.00048171316755303334\n",
      "Loss at epoch  40  is:  0.0004578656677465893\n",
      "Loss at epoch  50  is:  0.00043633126162387657\n",
      "Loss at epoch  60  is:  0.00041678607309178294\n",
      "Loss at epoch  70  is:  0.0003989642457925616\n",
      "Loss at epoch  80  is:  0.00038264547659417974\n",
      "Loss at epoch  90  is:  0.00036764563598875856\n"
     ]
    },
    {
     "data": {
      "text/plain": [
       "array([ 0.02204952, -0.30768518,  1.90003958])"
      ]
     },
     "execution_count": 11,
     "metadata": {},
     "output_type": "execute_result"
    }
   ],
   "source": [
    "train(x,y)"
   ]
  },
  {
   "cell_type": "code",
   "execution_count": null,
   "id": "0a4b76f2",
   "metadata": {},
   "outputs": [],
   "source": [
    "Y_ = getPredictions(X,weights,labels=True)\n",
    "training_acc = np.sum(Y_==Y)/Y.shape[0]\n",
    "print(training_acc)"
   ]
  }
 ],
 "metadata": {
  "kernelspec": {
   "display_name": "Python 3",
   "language": "python",
   "name": "python3"
  },
  "language_info": {
   "codemirror_mode": {
    "name": "ipython",
    "version": 3
   },
   "file_extension": ".py",
   "mimetype": "text/x-python",
   "name": "python",
   "nbconvert_exporter": "python",
   "pygments_lexer": "ipython3",
   "version": "3.8.0"
  }
 },
 "nbformat": 4,
 "nbformat_minor": 5
}
