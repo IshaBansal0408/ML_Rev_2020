{
 "cells": [
  {
   "cell_type": "markdown",
   "metadata": {},
   "source": [
    "# 1. Importing Modules"
   ]
  },
  {
   "cell_type": "code",
   "execution_count": 16,
   "metadata": {},
   "outputs": [],
   "source": [
    "import os\n",
    "from pathlib import Path\n",
    "from keras.preprocessing import image\n",
    "import matplotlib.pyplot as plt"
   ]
  },
  {
   "cell_type": "code",
   "execution_count": 17,
   "metadata": {},
   "outputs": [],
   "source": [
    "# Set Base Path\n",
    "p=Path(\"./Dataset/\")"
   ]
  },
  {
   "cell_type": "code",
   "execution_count": 35,
   "metadata": {},
   "outputs": [
    {
     "name": "stdout",
     "output_type": "stream",
     "text": [
      "Dataset\\Charmander\n",
      "Dataset\\Eevee\n",
      "Dataset\\Pikachu\n",
      "Dataset\\Psyduck\n",
      "Dataset\\Vulpix\n"
     ]
    }
   ],
   "source": [
    "# Select a particular folder/files : * means all\n",
    "dir = p.glob(\"*\")\n",
    "for d in dir:\n",
    "    print(d)"
   ]
  },
  {
   "cell_type": "markdown",
   "metadata": {},
   "source": [
    "# 2. Data Preparation\n",
    "\n",
    "### 2.1 Setting Labels for each pokemon"
   ]
  },
  {
   "cell_type": "code",
   "execution_count": 38,
   "metadata": {},
   "outputs": [],
   "source": [
    "label_map = {}\n",
    "dir = p.glob(\"*\")\n",
    "i=0\n",
    "for folder_d in dir:\n",
    "    \n",
    "    # Selecting name of pokemon\n",
    "    label = str(folder_d).split('\\\\')[-1]\n",
    "    \n",
    "    # Assigning labels to the pokemon name\n",
    "    label_map[label]=i\n",
    "    \n",
    "    #Increment Label\n",
    "    i+=1"
   ]
  },
  {
   "cell_type": "code",
   "execution_count": 39,
   "metadata": {},
   "outputs": [
    {
     "data": {
      "text/plain": [
       "{'Charmander': 0, 'Eevee': 1, 'Pikachu': 2, 'Psyduck': 3, 'Vulpix': 4}"
      ]
     },
     "execution_count": 39,
     "metadata": {},
     "output_type": "execute_result"
    }
   ],
   "source": [
    "label_map"
   ]
  },
  {
   "cell_type": "markdown",
   "metadata": {},
   "source": [
    "### 2.2 Setting Image Data"
   ]
  },
  {
   "cell_type": "code",
   "execution_count": 31,
   "metadata": {},
   "outputs": [
    {
     "ename": "SyntaxError",
     "evalue": "unexpected EOF while parsing (<ipython-input-31-51c1b9222b6a>, line 9)",
     "output_type": "error",
     "traceback": [
      "\u001b[1;36m  File \u001b[1;32m\"<ipython-input-31-51c1b9222b6a>\"\u001b[1;36m, line \u001b[1;32m9\u001b[0m\n\u001b[1;33m    #print(img)\u001b[0m\n\u001b[1;37m               ^\u001b[0m\n\u001b[1;31mSyntaxError\u001b[0m\u001b[1;31m:\u001b[0m unexpected EOF while parsing\n"
     ]
    }
   ],
   "source": [
    "# Making list for the whole image data and label\n",
    "Image_data=[]\n",
    "label=[]\n",
    "\n",
    "dir = p.glob(\"*\")\n",
    "for folder_d in dir:\n",
    "    label = str(folder_d).split('\\\\')[-1]\n",
    "    print(\"Current Folder: \", label)\n",
    "    \n",
    "    #Iterate in a folder and pick all images and store the count\n",
    "    # *.jpg selects all the jpg files from the folder_d folder\n",
    "    for img in folder_d.glob(\"*.jpg\"):\n",
    "        \n",
    "        # 1. load image and resize the image\n",
    "        load_image = image.load_img(img,target_size=(100,100))\n",
    "        \n",
    "        # 2. Converting image to array\n",
    "        image_array = image.img_to_array(load_img)\n",
    "\n",
    "        # 3. Append the image array to Image data\n",
    "        Image_data.append(image_array)\n",
    "        \n",
    "        "
   ]
  },
  {
   "cell_type": "code",
   "execution_count": null,
   "metadata": {},
   "outputs": [],
   "source": []
  }
 ],
 "metadata": {
  "kernelspec": {
   "display_name": "Python 3",
   "language": "python",
   "name": "python3"
  },
  "language_info": {
   "codemirror_mode": {
    "name": "ipython",
    "version": 3
   },
   "file_extension": ".py",
   "mimetype": "text/x-python",
   "name": "python",
   "nbconvert_exporter": "python",
   "pygments_lexer": "ipython3",
   "version": "3.8.5"
  }
 },
 "nbformat": 4,
 "nbformat_minor": 4
}
