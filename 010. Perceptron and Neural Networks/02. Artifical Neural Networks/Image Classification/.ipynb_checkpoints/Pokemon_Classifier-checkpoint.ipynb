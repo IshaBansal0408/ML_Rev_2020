{
 "cells": [
  {
   "cell_type": "markdown",
   "metadata": {},
   "source": [
    "# 1. Importing Modules"
   ]
  },
  {
   "cell_type": "code",
   "execution_count": 1,
   "metadata": {},
   "outputs": [],
   "source": [
    "import os\n",
    "from pathlib import Path\n",
    "from keras.preprocessing import image\n",
    "import matplotlib.pyplot as plt"
   ]
  },
  {
   "cell_type": "markdown",
   "metadata": {},
   "source": [
    "# 2. Data Preparation\n",
    "\n",
    "### 2.1 Setting Labels for each pokemon"
   ]
  },
  {
   "cell_type": "code",
   "execution_count": 2,
   "metadata": {},
   "outputs": [],
   "source": [
    "poke_to_label={'Charmander': 0, 'Eevee': 1, 'Pikachu': 2, 'Psyduck': 3, 'Vulpix': 4}"
   ]
  },
  {
   "cell_type": "code",
   "execution_count": 3,
   "metadata": {},
   "outputs": [],
   "source": [
    "label_to_poke = {0:'Charmander',1:'Eevee',2:'Pikachu',3:'Psyduck',4:'Vulpix'}"
   ]
  },
  {
   "cell_type": "markdown",
   "metadata": {},
   "source": [
    "### 2.2 Setting Image Data"
   ]
  },
  {
   "cell_type": "code",
   "execution_count": 4,
   "metadata": {},
   "outputs": [
    {
     "name": "stdout",
     "output_type": "stream",
     "text": [
      "Current Folder:  Charmander\n",
      "Count of Images:  200\n",
      "\n",
      "Current Folder:  Eevee\n",
      "Count of Images:  41\n",
      "\n",
      "Current Folder:  Pikachu\n",
      "Count of Images:  199\n",
      "\n",
      "Current Folder:  Psyduck\n",
      "Count of Images:  158\n",
      "\n",
      "Current Folder:  Vulpix\n",
      "Count of Images:  67\n",
      "\n"
     ]
    }
   ],
   "source": [
    "# Making list for the whole image data and label\n",
    "Image_data=[]\n",
    "Label=[]\n",
    "\n",
    "p = Path(\"./Dataset/\")\n",
    "dir = p.glob(\"*\")\n",
    "\n",
    "for folder_d in dir:\n",
    "    cur_label = str(folder_d).split('\\\\')[-1]\n",
    "    print(\"Current Folder: \", cur_label)\n",
    "    \n",
    "    #Get count of the no of images of each pokemon\n",
    "    cnt=0\n",
    "    \n",
    "    #Iterate in a folder and pick all images and store the count\n",
    "    # *.jpg selects all the jpg files from the folder_d folder\n",
    "    for img_path in folder_d.glob(\"*.jpg\"):\n",
    "        \n",
    "        # 1. load image and resize the images to make them all of same size\n",
    "        loaded_image = image.load_img(img_path,target_size=(40,40))\n",
    "        \n",
    "        # 2. Converting image to array\n",
    "        image_array = image.img_to_array(loaded_image)\n",
    "\n",
    "        # 3. Append the image array to Image data\n",
    "        Image_data.append(image_array)\n",
    "        \n",
    "        # 4. Append the label as well along with the image data\n",
    "        Label.append(poke_to_label[cur_label])\n",
    "        \n",
    "        #5. Increment count by 1\n",
    "        cnt+=1\n",
    "    print(\"Count of Images: \", cnt)\n",
    "    print()\n",
    "        "
   ]
  },
  {
   "cell_type": "code",
   "execution_count": 5,
   "metadata": {},
   "outputs": [
    {
     "name": "stdout",
     "output_type": "stream",
     "text": [
      "665\n",
      "665\n"
     ]
    }
   ],
   "source": [
    "print(len(Image_data))\n",
    "print(len(Label))"
   ]
  },
  {
   "cell_type": "code",
   "execution_count": 6,
   "metadata": {},
   "outputs": [],
   "source": [
    "import numpy as np"
   ]
  },
  {
   "cell_type": "code",
   "execution_count": 7,
   "metadata": {},
   "outputs": [],
   "source": [
    "import random\n",
    "random.seed(0)"
   ]
  },
  {
   "cell_type": "code",
   "execution_count": 8,
   "metadata": {},
   "outputs": [],
   "source": [
    "X_data = np.array(Image_data)\n",
    "Y_data = np.array(Label)\n",
    "\n",
    "# Shuffle Data\n",
    "from sklearn.utils import shuffle\n",
    "X_data,Y_data= shuffle(X_data,Y_data,random_state=2)\n",
    "\n",
    "#normalize the data\n",
    "X_data = X_data/255.0"
   ]
  },
  {
   "cell_type": "code",
   "execution_count": 9,
   "metadata": {},
   "outputs": [
    {
     "data": {
      "text/plain": [
       "(665, 40, 40, 3)"
      ]
     },
     "execution_count": 9,
     "metadata": {},
     "output_type": "execute_result"
    }
   ],
   "source": [
    "X_data.shape\n",
    "# no of images , height , width , no of color channels(RGB)"
   ]
  },
  {
   "cell_type": "code",
   "execution_count": 10,
   "metadata": {},
   "outputs": [
    {
     "data": {
      "text/plain": [
       "(665,)"
      ]
     },
     "execution_count": 10,
     "metadata": {},
     "output_type": "execute_result"
    }
   ],
   "source": [
    "Y_data.shape"
   ]
  },
  {
   "cell_type": "code",
   "execution_count": 11,
   "metadata": {},
   "outputs": [
    {
     "name": "stdout",
     "output_type": "stream",
     "text": [
      "[0 2 4 0 3 2 0 0 3 3 2 3 3 0 1 0 0 2 0 4 2 3 3 0 2 0 2 0 3 3 0 3 4 3 1 0 2\n",
      " 3 2 2 3 2 4 3 2 0 0 0 0 0 1 4 2 2 2 3 0 0 1 4 3 4 2 3 2 2 3 2 2 2 2 2 0 2\n",
      " 1 0 3 2 4 0 0 2 2 0 3 3 0 0 2 2 1 2 0 4 1 2 0 3 1 3 0 4 0 2 0 4 3 0 3 3 3\n",
      " 2 0 0 0 0 0 1 2 3 4 2 2 1 2 2 0 0 2 0 0 2 3 0 1 3 2 2 2 2 4 3 0 2 0 1 2 2\n",
      " 3 3 1 2 0 4 2 0 2 0 1 3 3 1 3 2 3 2 0 0 0 2 2 2 3 3 1 3 0 0 0 2 0 3 2 2 4\n",
      " 3 0 3 0 4 4 0 2 0 0 4 2 3 3 0 0 0 0 2 3 2 0 0 3 3 2 2 3 3 0 2 1 2 3 0 0 2\n",
      " 2 4 0 0 2 2 2 0 0 3 0 2 3 4 0 0 4 3 3 0 3 1 0 0 2 2 4 0 2 0 3 2 1 2 0 4 2\n",
      " 0 2 4 0 4 4 3 2 2 2 2 3 3 2 0 0 0 1 2 3 4 3 2 2 3 3 3 0 0 1 3 0 3 0 2 2 4\n",
      " 4 3 3 0 4 3 0 3 1 0 3 0 3 0 0 0 2 3 2 3 0 0 0 3 0 0 4 4 1 2 3 1 0 2 3 0 3\n",
      " 0 2 2 0 1 2 0 0 2 1 3 4 3 2 2 0 3 4 3 2 0 0 3 0 2 4 0 2 2 0 4 3 3 2 2 2 2\n",
      " 2 0 0 3 4 2 0 3 2 3 3 2 0 4 3 0 1 2 2 3 2 3 4 1 4 4 2 3 4 0 0 2 2 2 2 0 4\n",
      " 3 0 2 2 0 3 2 3 0 3 2 0 3 0 3 0 1 2 0 3 2 2 0 0 3 2 3 2 0 2 2 2 0 0 0 0 4\n",
      " 4 2 2 2 0 3 0 3 1 0 0 2 2 3 0 2 3 2 2 2 2 1 2 4 2 3 0 4 0 3 2 0 3 0 2 0 3\n",
      " 2 1 0 3 3 0 0 4 3 2 2 2 2 0 2 0 0 0 2 1 0 2 2 1 0 2 2 2 0 4 2 0 3 3 2 4 0\n",
      " 3 2 0 2 3 2 0 0 0 0 3 2 2 2 2 2 0 3 3 2 2 0 3 2 4 4 0 0 4 2 3 4 0 3 2 3 3\n",
      " 0 2 2 0 3 1 1 4 4 1 3 4 0 2 3 3 0 3 0 2 0 0 3 0 2 2 3 0 3 3 1 4 4 3 0 4 0\n",
      " 0 2 2 4 0 0 4 0 2 0 0 3 3 3 3 0 0 3 3 2 3 4 2 2 4 2 3 4 2 3 1 2 0 0 1 3 3\n",
      " 3 0 0 1 2 3 2 0 2 2 2 3 3 3 2 0 0 0 4 0 2 2 0 3 4 2 2 2 0 3 2 3 3 3 3 0]\n"
     ]
    }
   ],
   "source": [
    "print(Y_data)"
   ]
  },
  {
   "cell_type": "markdown",
   "metadata": {},
   "source": [
    "# 3. Visualization"
   ]
  },
  {
   "cell_type": "code",
   "execution_count": 12,
   "metadata": {},
   "outputs": [],
   "source": [
    "def draw_image(img,l):\n",
    "    plt.title(label_to_poke[l])\n",
    "    plt.imshow(img)\n",
    "    plt.axis(\"off\")\n",
    "    plt.show()"
   ]
  },
  {
   "cell_type": "code",
   "execution_count": 13,
   "metadata": {},
   "outputs": [
    {
     "data": {
      "image/png": "[encoded data removed]",
      "text/plain": [
       "<Figure size 432x288 with 1 Axes>"
      ]
     },
     "metadata": {
      "needs_background": "light"
     },
     "output_type": "display_data"
    }
   ],
   "source": [
    "draw_image(X_data[0],Y_data[0])"
   ]
  },
  {
   "cell_type": "code",
   "execution_count": 14,
   "metadata": {},
   "outputs": [
    {
     "data": {
      "image/png": "[encoded data removed]",
      "text/plain": [
       "<Figure size 432x288 with 1 Axes>"
      ]
     },
     "metadata": {
      "needs_background": "light"
     },
     "output_type": "display_data"
    },
    {
     "data": {
      "image/png": "[encoded data removed]",
      "text/plain": [
       "<Figure size 432x288 with 1 Axes>"
      ]
     },
     "metadata": {
      "needs_background": "light"
     },
     "output_type": "display_data"
    },
    {
     "data": {
      "image/png": "[encoded data removed]",
      "text/plain": [
       "<Figure size 432x288 with 1 Axes>"
      ]
     },
     "metadata": {
      "needs_background": "light"
     },
     "output_type": "display_data"
    }
   ],
   "source": [
    "for i in range(1,4):\n",
    "    draw_image(X_data[i],Y_data[i])"
   ]
  },
  {
   "cell_type": "markdown",
   "metadata": {},
   "source": [
    "# 4. Create Training and Testing Data"
   ]
  },
  {
   "cell_type": "code",
   "execution_count": 15,
   "metadata": {},
   "outputs": [],
   "source": [
    "split = int(X_data.shape[0]*0.8)\n",
    "x_train = X_data[:split,:]\n",
    "y_train = Y_data[:split]\n",
    "x_test=X_data[split:,:]\n",
    "y_test=Y_data[split:]"
   ]
  },
  {
   "cell_type": "code",
   "execution_count": 16,
   "metadata": {},
   "outputs": [
    {
     "name": "stdout",
     "output_type": "stream",
     "text": [
      "(532, 40, 40, 3) (133, 40, 40, 3)\n",
      "(532,) (133,)\n"
     ]
    }
   ],
   "source": [
    "print(x_train.shape,x_test.shape)\n",
    "print(y_train.shape,y_test.shape)"
   ]
  },
  {
   "cell_type": "markdown",
   "metadata": {},
   "source": [
    "# 5. Building Neural Network"
   ]
  },
  {
   "cell_type": "code",
   "execution_count": 17,
   "metadata": {},
   "outputs": [],
   "source": [
    "class Neural_Network:\n",
    "    \n",
    "    #1. Neural Network Architecture\n",
    "    def __init__(self,isize,layers,osize):\n",
    "        np.random.seed(0)\n",
    "        \n",
    "        model={}\n",
    "        model['w1']=np.random.randn(isize,layers[0]) # matrix for first hidden layer\n",
    "        model['w2']=np.random.randn(model['w1'].shape[1],layers[1]) #matrix for second hidden layer\n",
    "        model['w3']=np.random.randn(model['w2'].shape[1],osize) #matrix for output layer\n",
    "        \n",
    "        model['b1']=np.zeros((1,layers[0])) #bias for first hidden layer\n",
    "        model['b2']=np.zeros((1,layers[1])) #bias for second hidden layer\n",
    "        model['b3']=np.zeros((1,osize)) #bias for output layer\n",
    "        \n",
    "        self.model=model\n",
    "    \n",
    "    #2. Forward Propagation - Passing data to the neural network created\n",
    "    def For_prop(self,inp_x):\n",
    "        \n",
    "        #Unpacking all the values from dictionary\n",
    "        w1,w2,w3 = self.model['w1'],self.model['w2'],self.model['w3']\n",
    "        b1,b2,b3 = self.model['b1'],self.model['b2'],self.model['b3']\n",
    "\n",
    "        #First Hidden Layer\n",
    "        z1 = np.dot(inp_x,w1) + b1\n",
    "        a1 = np.tanh(z1) #Transforms value in range -1 to 1\n",
    "        \n",
    "        #Second Hidden Layer\n",
    "        z2=np.dot(a1,w2) + b2\n",
    "        a2= np.tanh(z2)\n",
    "        \n",
    "        #Output Layer\n",
    "        z3=np.dot(a2,w3) + b3\n",
    "        y_hat = cal_soft(z3) #Softmax Function : defined later\n",
    "        \n",
    "        #Store outputs\n",
    "        self.outputs=(a1,a2,y_hat)\n",
    "        return y_hat\n",
    "    \n",
    "    #3. Back Propagation\n",
    "    def back_prop(self,x,y,lr=0.001):\n",
    "        #Unpacking all the values from dictionary\n",
    "        w1,w2,w3 = self.model['w1'],self.model['w2'],self.model['w3']\n",
    "        a1,a2,y_hat = self.outputs\n",
    "        \n",
    "        m=x.shape[0] #input is of mxn size m data points(no of inp layer neurons) and n features for each m\n",
    "        \n",
    "        #Compute values for final output layer first        \n",
    "        delta3 = y_hat-y\n",
    "        delta3_w = np.dot(a2.T,delta3)\n",
    "        delta3_b = np.sum(delta3,axis=0)\n",
    "        \n",
    "        #second hidden layer\n",
    "        delta2 = (1-np.square(a2))*np.dot(delta3,w3.T)\n",
    "        delta2_w = np.dot(a1.T,delta2)\n",
    "        delta2_b = np.sum(delta2,axis=0)\n",
    "        \n",
    "        #first hidden layer\n",
    "        delta1 = (1-np.square(a1))*np.dot(delta2,w2.T)\n",
    "        delta1_w = np.dot(x.T,delta1)\n",
    "        delta1_b = np.sum(delta1,axis=0)\n",
    "        \n",
    "        #Update Values using Gradient descent\n",
    "        self.model['w1'] -= lr*delta1_w\n",
    "        self.model['b1'] -= lr*delta1_b\n",
    "        self.model['w2'] -= lr*delta2_w\n",
    "        self.model['b2'] -= lr*delta2_b\n",
    "        self.model['w3'] -= lr*delta3_w\n",
    "        self.model['b3'] -= lr*delta3_b\n",
    "    \n",
    "    #4. Predict Function\n",
    "    def predict(self,x):\n",
    "        y_hat=self.For_prop(x)\n",
    "        return np.argmax(y_hat,axis=1)\n",
    "    \n",
    "    #5. A function which provides details about model created\n",
    "    def print_info(self):\n",
    "        \n",
    "        #Unpacking all the values from dictionary\n",
    "        w1,w2,w3 = self.model['w1'],self.model['w2'],self.model['w3']\n",
    "        a1,a2,y_hat = self.outputs\n",
    "        \n",
    "        print(\"W1: \",w1.shape)\n",
    "        print(\"A1: \",a1.shape)\n",
    "        print(\"W2: \",w2.shape)\n",
    "        print(\"A2: \",a2.shape)\n",
    "        print(\"W3: \",w3.shape)\n",
    "        print(\"Y_hat: \",y_hat.shape)\n",
    "#Softmax Function\n",
    "def cal_soft(a):\n",
    "    num=np.exp(a)\n",
    "    den=np.sum(num,axis=1,keepdims=True)\n",
    "    return (num/den)\n",
    "# Loss Function\n",
    "def cal_loss(y_hat,p):\n",
    "    l=(-1)*np.mean(y_hat*np.log(p))\n",
    "    return l\n",
    "# One hot Encoding\n",
    "def one_hot_encoding(output_matrix,depth):\n",
    "    m=output_matrix.shape[0]\n",
    "    y_hot = np.zeros((m,depth))\n",
    "    y_hot[np.arange(m),output_matrix]=1\n",
    "    \n",
    "    return y_hot\n",
    "# Create a training function\n",
    "def train_nnwk(x,y,epochs,lr,logs=True):\n",
    "    losses=[]\n",
    "    class_no = len(np.unique(y))\n",
    "    y_data_onehot=one_hot_encoding(y,class_no)\n",
    "    for i in range(epochs):\n",
    "        y_hat=my_model.For_prop(x)\n",
    "        l=cal_loss(y_data_onehot,y_hat)\n",
    "        my_model.back_prop(x,y_data_onehot,lr)\n",
    "        \n",
    "        if(logs):\n",
    "            if(i%100==0):\n",
    "                print(\"Loss at epoch \",i,\" is: \",l)\n",
    "            losses.append(l)\n",
    "    return losses"
   ]
  },
  {
   "cell_type": "code",
   "execution_count": 18,
   "metadata": {},
   "outputs": [],
   "source": [
    "my_model = Neural_Network(isize=4800,layers=[100,50],osize=5) #4800 features(40X40X3)"
   ]
  },
  {
   "cell_type": "code",
   "execution_count": 19,
   "metadata": {},
   "outputs": [
    {
     "name": "stdout",
     "output_type": "stream",
     "text": [
      "(532, 40, 40, 3)\n"
     ]
    }
   ],
   "source": [
    "print(x_train.shape)"
   ]
  },
  {
   "cell_type": "code",
   "execution_count": 20,
   "metadata": {},
   "outputs": [
    {
     "name": "stdout",
     "output_type": "stream",
     "text": [
      "(532, 4800)\n",
      "(133, 4800)\n"
     ]
    }
   ],
   "source": [
    "x_train = x_train.reshape(x_train.shape[0],-1)\n",
    "print(x_train.shape)\n",
    "\n",
    "x_test = x_test.reshape(x_test.shape[0],-1)\n",
    "print(x_test.shape)"
   ]
  },
  {
   "cell_type": "code",
   "execution_count": 21,
   "metadata": {},
   "outputs": [
    {
     "name": "stdout",
     "output_type": "stream",
     "text": [
      "Loss at epoch  0  is:  2.8735842661582134\n",
      "Loss at epoch  100  is:  0.20562030252977737\n",
      "Loss at epoch  200  is:  0.10194069712802678\n",
      "Loss at epoch  300  is:  0.07396871132893183\n",
      "Loss at epoch  400  is:  0.0582340890106132\n"
     ]
    }
   ],
   "source": [
    "l = train_nnwk(x_train,y_train,500,0.0002)"
   ]
  },
  {
   "cell_type": "code",
   "execution_count": 22,
   "metadata": {},
   "outputs": [
    {
     "data": {
      "image/png": "[encoded data removed]",
      "text/plain": [
       "<Figure size 432x288 with 1 Axes>"
      ]
     },
     "metadata": {
      "needs_background": "light"
     },
     "output_type": "display_data"
    }
   ],
   "source": [
    "plt.plot(l)\n",
    "plt.show()"
   ]
  },
  {
   "cell_type": "markdown",
   "metadata": {},
   "source": [
    "# 6. Getting Accuracy"
   ]
  },
  {
   "cell_type": "code",
   "execution_count": 23,
   "metadata": {},
   "outputs": [
    {
     "name": "stdout",
     "output_type": "stream",
     "text": [
      "Training Accuracy:  0.9398496240601504\n"
     ]
    }
   ],
   "source": [
    "def get_acc(x,y,model):\n",
    "    y_pred = model.predict(x)\n",
    "    acc = np.sum(y_pred==y)/y.shape[0]\n",
    "    return acc\n",
    "print(\"Training Accuracy: \",get_acc(x_train,y_train,my_model))"
   ]
  },
  {
   "cell_type": "code",
   "execution_count": 24,
   "metadata": {},
   "outputs": [
    {
     "name": "stdout",
     "output_type": "stream",
     "text": [
      "Testing Accuracy: 0.43609022556390975\n"
     ]
    }
   ],
   "source": [
    "print(\"Testing Accuracy:\",get_acc(x_test,y_test,my_model))"
   ]
  },
  {
   "cell_type": "markdown",
   "metadata": {},
   "source": [
    "# 7. Results Visualization"
   ]
  },
  {
   "cell_type": "code",
   "execution_count": 25,
   "metadata": {},
   "outputs": [],
   "source": [
    "from sklearn.metrics import confusion_matrix\n",
    "from visualize import plot_confusion_matrix"
   ]
  },
  {
   "cell_type": "code",
   "execution_count": 26,
   "metadata": {},
   "outputs": [
    {
     "name": "stdout",
     "output_type": "stream",
     "text": [
      "[[154   1   3   3   3]\n",
      " [  2  32   0   0   0]\n",
      " [  4   1 160   2   2]\n",
      " [  3   0   0 112   3]\n",
      " [  1   0   2   2  42]]\n"
     ]
    }
   ],
   "source": [
    "y_pred_train = my_model.predict(x_train)\n",
    "cnf_matrix = confusion_matrix(y_pred_train,y_train)\n",
    "print(cnf_matrix)"
   ]
  },
  {
   "cell_type": "code",
   "execution_count": 27,
   "metadata": {},
   "outputs": [
    {
     "name": "stdout",
     "output_type": "stream",
     "text": [
      "Confusion matrix, without normalization\n",
      "[[154   1   3   3   3]\n",
      " [  2  32   0   0   0]\n",
      " [  4   1 160   2   2]\n",
      " [  3   0   0 112   3]\n",
      " [  1   0   2   2  42]]\n"
     ]
    },
    {
     "data": {
      "image/png": "[encoded data removed]",
      "text/plain": [
       "<Figure size 432x288 with 2 Axes>"
      ]
     },
     "metadata": {
      "needs_background": "light"
     },
     "output_type": "display_data"
    }
   ],
   "source": [
    "plot_confusion_matrix(cnf_matrix,classes=['Charmander','Eevee','Pikachu','Psyduck','Vulpix'],title=\"Confusion Matrix\")"
   ]
  },
  {
   "cell_type": "code",
   "execution_count": 28,
   "metadata": {},
   "outputs": [
    {
     "name": "stdout",
     "output_type": "stream",
     "text": [
      "[[21  1  8  4  2]\n",
      " [ 1  0  3  2  4]\n",
      " [ 8  4 16  6  5]\n",
      " [ 3  2  6 19  4]\n",
      " [ 3  0  1  8  2]]\n"
     ]
    }
   ],
   "source": [
    "y_pred_test = my_model.predict(x_test)\n",
    "cnf_matrix = confusion_matrix(y_pred_test,y_test)\n",
    "print(cnf_matrix)"
   ]
  },
  {
   "cell_type": "code",
   "execution_count": 29,
   "metadata": {},
   "outputs": [
    {
     "name": "stdout",
     "output_type": "stream",
     "text": [
      "Confusion matrix, without normalization\n",
      "[[21  1  8  4  2]\n",
      " [ 1  0  3  2  4]\n",
      " [ 8  4 16  6  5]\n",
      " [ 3  2  6 19  4]\n",
      " [ 3  0  1  8  2]]\n"
     ]
    },
    {
     "data": {
      "image/png": "[encoded data removed]",
      "text/plain": [
       "<Figure size 432x288 with 2 Axes>"
      ]
     },
     "metadata": {
      "needs_background": "light"
     },
     "output_type": "display_data"
    }
   ],
   "source": [
    "plot_confusion_matrix(cnf_matrix,classes=['Charmander','Eevee','Pikachu','Psyduck','Vulpix'],title=\"Confusion Matrix\")"
   ]
  },
  {
   "cell_type": "markdown",
   "metadata": {},
   "source": [
    "# 8. Visualizing the Wrong Classifications made by the Model"
   ]
  },
  {
   "cell_type": "code",
   "execution_count": 30,
   "metadata": {},
   "outputs": [
    {
     "data": {
      "image/png": "[encoded data removed]",
      "text/plain": [
       "<Figure size 432x288 with 1 Axes>"
      ]
     },
     "metadata": {
      "needs_background": "light"
     },
     "output_type": "display_data"
    },
    {
     "name": "stdout",
     "output_type": "stream",
     "text": [
      "Prediction 1 Psyduck\n"
     ]
    },
    {
     "data": {
      "image/png": "[encoded data removed]",
      "text/plain": [
       "<Figure size 432x288 with 1 Axes>"
      ]
     },
     "metadata": {
      "needs_background": "light"
     },
     "output_type": "display_data"
    },
    {
     "name": "stdout",
     "output_type": "stream",
     "text": [
      "Prediction 2 Vulpix\n"
     ]
    },
    {
     "data": {
      "image/png": "[encoded data removed]",
      "text/plain": [
       "<Figure size 432x288 with 1 Axes>"
      ]
     },
     "metadata": {
      "needs_background": "light"
     },
     "output_type": "display_data"
    },
    {
     "name": "stdout",
     "output_type": "stream",
     "text": [
      "Prediction 3 Pikachu\n"
     ]
    },
    {
     "data": {
      "image/png": "[encoded data removed]",
      "text/plain": [
       "<Figure size 432x288 with 1 Axes>"
      ]
     },
     "metadata": {
      "needs_background": "light"
     },
     "output_type": "display_data"
    },
    {
     "name": "stdout",
     "output_type": "stream",
     "text": [
      "Prediction 7 Vulpix\n"
     ]
    }
   ],
   "source": [
    "for i in range(10):\n",
    "    if y_test[i] != y_pred_test[i]:\n",
    "        draw_image(x_test[i].reshape(40,40,3),y_test[i])\n",
    "        print(\"Prediction %d %s\"%(i,label_to_poke[y_pred_test[i]]))"
   ]
  },
  {
   "cell_type": "code",
   "execution_count": null,
   "metadata": {},
   "outputs": [],
   "source": []
  }
 ],
 "metadata": {
  "kernelspec": {
   "display_name": "Python 3",
   "language": "python",
   "name": "python3"
  },
  "language_info": {
   "codemirror_mode": {
    "name": "ipython",
    "version": 3
   },
   "file_extension": ".py",
   "mimetype": "text/x-python",
   "name": "python",
   "nbconvert_exporter": "python",
   "pygments_lexer": "ipython3",
   "version": "3.8.5"
  }
 },
 "nbformat": 4,
 "nbformat_minor": 4
}
