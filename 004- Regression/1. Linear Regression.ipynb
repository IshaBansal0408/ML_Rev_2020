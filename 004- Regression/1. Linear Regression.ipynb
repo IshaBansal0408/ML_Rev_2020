{
 "cells": [
  {
   "cell_type": "markdown",
   "metadata": {},
   "source": [
    "# Linear Regression"
   ]
  },
  {
   "cell_type": "markdown",
   "metadata": {},
   "source": [
    "**Steps Involved:**\n",
    "\n",
    "    1. Give random value to theta\n",
    "    2. Measure how good theta is - loss function\n",
    "    3. Update theta - Gradient Descent"
   ]
  },
  {
   "cell_type": "code",
   "execution_count": 1,
   "metadata": {},
   "outputs": [],
   "source": [
    "import numpy as np\n",
    "import pandas as pd\n",
    "import matplotlib.pyplot as plt"
   ]
  },
  {
   "cell_type": "markdown",
   "metadata": {},
   "source": [
    "# Step 1 - Data Loading and Visualisation"
   ]
  },
  {
   "cell_type": "code",
   "execution_count": 2,
   "metadata": {},
   "outputs": [],
   "source": [
    "x=pd.read_csv(\"./Training data/Linear_X_Train.csv\")"
   ]
  },
  {
   "cell_type": "code",
   "execution_count": 3,
   "metadata": {},
   "outputs": [],
   "source": [
    "y=pd.read_csv(\"./Training data/Linear_Y_Train.csv\")"
   ]
  },
  {
   "cell_type": "code",
   "execution_count": 4,
   "metadata": {},
   "outputs": [
    {
     "data": {
      "text/html": [
       "<div>\n",
       "<style scoped>\n",
       "    .dataframe tbody tr th:only-of-type {\n",
       "        vertical-align: middle;\n",
       "    }\n",
       "\n",
       "    .dataframe tbody tr th {\n",
       "        vertical-align: top;\n",
       "    }\n",
       "\n",
       "    .dataframe thead th {\n",
       "        text-align: right;\n",
       "    }\n",
       "</style>\n",
       "<table border=\"1\" class=\"dataframe\">\n",
       "  <thead>\n",
       "    <tr style=\"text-align: right;\">\n",
       "      <th></th>\n",
       "      <th>x</th>\n",
       "    </tr>\n",
       "  </thead>\n",
       "  <tbody>\n",
       "    <tr>\n",
       "      <th>0</th>\n",
       "      <td>-0.289307</td>\n",
       "    </tr>\n",
       "    <tr>\n",
       "      <th>1</th>\n",
       "      <td>-0.588810</td>\n",
       "    </tr>\n",
       "    <tr>\n",
       "      <th>2</th>\n",
       "      <td>1.027507</td>\n",
       "    </tr>\n",
       "    <tr>\n",
       "      <th>3</th>\n",
       "      <td>-0.259013</td>\n",
       "    </tr>\n",
       "    <tr>\n",
       "      <th>4</th>\n",
       "      <td>0.782043</td>\n",
       "    </tr>\n",
       "  </tbody>\n",
       "</table>\n",
       "</div>"
      ],
      "text/plain": [
       "          x\n",
       "0 -0.289307\n",
       "1 -0.588810\n",
       "2  1.027507\n",
       "3 -0.259013\n",
       "4  0.782043"
      ]
     },
     "execution_count": 4,
     "metadata": {},
     "output_type": "execute_result"
    }
   ],
   "source": [
    "x.head()"
   ]
  },
  {
   "cell_type": "code",
   "execution_count": 5,
   "metadata": {},
   "outputs": [
    {
     "data": {
      "text/html": [
       "<div>\n",
       "<style scoped>\n",
       "    .dataframe tbody tr th:only-of-type {\n",
       "        vertical-align: middle;\n",
       "    }\n",
       "\n",
       "    .dataframe tbody tr th {\n",
       "        vertical-align: top;\n",
       "    }\n",
       "\n",
       "    .dataframe thead th {\n",
       "        text-align: right;\n",
       "    }\n",
       "</style>\n",
       "<table border=\"1\" class=\"dataframe\">\n",
       "  <thead>\n",
       "    <tr style=\"text-align: right;\">\n",
       "      <th></th>\n",
       "      <th>y</th>\n",
       "    </tr>\n",
       "  </thead>\n",
       "  <tbody>\n",
       "    <tr>\n",
       "      <th>0</th>\n",
       "      <td>-0.091101</td>\n",
       "    </tr>\n",
       "    <tr>\n",
       "      <th>1</th>\n",
       "      <td>-53.467721</td>\n",
       "    </tr>\n",
       "    <tr>\n",
       "      <th>2</th>\n",
       "      <td>75.457009</td>\n",
       "    </tr>\n",
       "    <tr>\n",
       "      <th>3</th>\n",
       "      <td>-12.025286</td>\n",
       "    </tr>\n",
       "    <tr>\n",
       "      <th>4</th>\n",
       "      <td>57.414187</td>\n",
       "    </tr>\n",
       "  </tbody>\n",
       "</table>\n",
       "</div>"
      ],
      "text/plain": [
       "           y\n",
       "0  -0.091101\n",
       "1 -53.467721\n",
       "2  75.457009\n",
       "3 -12.025286\n",
       "4  57.414187"
      ]
     },
     "execution_count": 5,
     "metadata": {},
     "output_type": "execute_result"
    }
   ],
   "source": [
    "y.head()"
   ]
  },
  {
   "cell_type": "code",
   "execution_count": 6,
   "metadata": {},
   "outputs": [
    {
     "data": {
      "text/plain": [
       "(3750, 1)"
      ]
     },
     "execution_count": 6,
     "metadata": {},
     "output_type": "execute_result"
    }
   ],
   "source": [
    "x.shape"
   ]
  },
  {
   "cell_type": "code",
   "execution_count": 7,
   "metadata": {},
   "outputs": [
    {
     "data": {
      "text/plain": [
       "(3750, 1)"
      ]
     },
     "execution_count": 7,
     "metadata": {},
     "output_type": "execute_result"
    }
   ],
   "source": [
    "y.shape"
   ]
  },
  {
   "cell_type": "code",
   "execution_count": 8,
   "metadata": {},
   "outputs": [],
   "source": [
    "plt.style.use(\"seaborn\")"
   ]
  },
  {
   "cell_type": "code",
   "execution_count": 9,
   "metadata": {},
   "outputs": [
    {
     "data": {
      "image/png": "[encoded data removed]",
      "text/plain": [
       "<Figure size 576x396 with 1 Axes>"
      ]
     },
     "metadata": {},
     "output_type": "display_data"
    }
   ],
   "source": [
    "plt.scatter(x,y)\n",
    "plt.xlabel('x values')\n",
    "plt.ylabel('y values')\n",
    "plt.title(\"Data visualisation for Linear Regression\")\n",
    "plt.show()"
   ]
  },
  {
   "cell_type": "code",
   "execution_count": 10,
   "metadata": {},
   "outputs": [],
   "source": [
    "#convert x and y into numpy arrays\n",
    "x=x.values\n",
    "y=y.values"
   ]
  },
  {
   "cell_type": "code",
   "execution_count": 11,
   "metadata": {},
   "outputs": [
    {
     "name": "stdout",
     "output_type": "stream",
     "text": [
      "x data:\n",
      " [[-0.28930742]\n",
      " [-0.58880963]\n",
      " [ 1.02750749]\n",
      " ...\n",
      " [-0.30516366]\n",
      " [ 1.67583291]\n",
      " [-0.49175724]] \n",
      "\n",
      " y data:\n",
      " [[-9.11011171e-02]\n",
      " [-5.34677208e+01]\n",
      " [ 7.54570088e+01]\n",
      " ...\n",
      " [-3.49832749e+01]\n",
      " [ 1.45206092e+02]\n",
      " [-1.71244939e+01]]\n"
     ]
    }
   ],
   "source": [
    "print(\"x data:\\n\",x,'\\n\\n',\"y data:\\n\",y)"
   ]
  },
  {
   "cell_type": "markdown",
   "metadata": {},
   "source": [
    "# Step 2 : Implement Linear Regression"
   ]
  },
  {
   "cell_type": "code",
   "execution_count": 12,
   "metadata": {},
   "outputs": [],
   "source": [
    "#computes the y_hat (prediction) => y_hat = x*theta(1)+theta(0)\n",
    "def hypothesis(cur_x,theta):\n",
    "    #theta here => [theta0,theta1]\n",
    "    yhat = theta[0] + theta[1]*cur_x\n",
    "    return yhat"
   ]
  },
  {
   "cell_type": "code",
   "execution_count": 13,
   "metadata": {},
   "outputs": [],
   "source": [
    "#computes gradient\n",
    "def gradient(x_data,y_data,theta):\n",
    "    n=x_data.shape[0]  #total no of values\n",
    "    grad=np.zeros((2,)) # two gradient for theta0 and theta1\n",
    "    sum0=0\n",
    "    sum1=0\n",
    "    for i in range(n):\n",
    "        yhat=hypothesis(x_data[i],theta)\n",
    "        yorg=y_data[i]\n",
    "        sum0+=(yhat-yorg)\n",
    "        sum1+=(yhat-yorg)*x_data[i]\n",
    "    grad[0]=sum0/n\n",
    "    grad[1]=sum1/n\n",
    "    return grad"
   ]
  },
  {
   "cell_type": "code",
   "execution_count": 14,
   "metadata": {},
   "outputs": [],
   "source": [
    "# compute gradient descent\n",
    "def gradient_descent(x_data,y_data,lr=0.1,max_steps=100):\n",
    "    theta=np.zeros((2,))\n",
    "    error_list=[]\n",
    "    for i in range(max_steps):\n",
    "        #update theta\n",
    "        error_list.append(error(x_data,y_data,theta))\n",
    "        theta[0] =theta[0] - lr*gradient(x_data,y_data,theta)[0]\n",
    "        theta[1] =theta[1] - lr*gradient(x_data,y_data,theta)[1]\n",
    "    return theta,error_list"
   ]
  },
  {
   "cell_type": "code",
   "execution_count": 15,
   "metadata": {},
   "outputs": [],
   "source": [
    "# Check error ( MEAN SQUARE ERROR)\n",
    "def error(x_data,y_data,theta):\n",
    "    n=x_data.shape[0]\n",
    "    total_error=0\n",
    "    for i  in range(n):\n",
    "        yhat = hypothesis(x_data[i],theta)\n",
    "        total_error+=(yhat - y_data[i])**2\n",
    "    return total_error/n "
   ]
  },
  {
   "cell_type": "code",
   "execution_count": 16,
   "metadata": {},
   "outputs": [],
   "source": [
    "final_theta,all_error=gradient_descent(x,y)"
   ]
  },
  {
   "cell_type": "code",
   "execution_count": 17,
   "metadata": {},
   "outputs": [
    {
     "name": "stdout",
     "output_type": "stream",
     "text": [
      "[ 3.7268819  80.54088829]\n"
     ]
    }
   ],
   "source": [
    "print(final_theta)"
   ]
  },
  {
   "cell_type": "code",
   "execution_count": 18,
   "metadata": {},
   "outputs": [
    {
     "data": {
      "text/plain": [
       "[array([6576.35005246]),\n",
       " array([5382.06423421]),\n",
       " array([4411.4249078]),\n",
       " array([3622.49898615]),\n",
       " array([2981.22563225]),\n",
       " array([2459.93649248]),\n",
       " array([2036.1544417]),\n",
       " array([1691.6183531]),\n",
       " array([1411.49130984]),\n",
       " array([1183.71770886]),\n",
       " array([998.50122209]),\n",
       " array([847.88086646]),\n",
       " array([725.38672084]),\n",
       " array([625.76030708]),\n",
       " array([544.72747427]),\n",
       " array([478.81391522]),\n",
       " array([425.19530243]),\n",
       " array([381.57553886]),\n",
       " array([346.08784227]),\n",
       " array([317.21437543]),\n",
       " array([293.72094072]),\n",
       " array([274.60391172]),\n",
       " array([259.04710613]),\n",
       " array([246.38673527]),\n",
       " array([236.08291572]),\n",
       " array([227.69651315]),\n",
       " array([220.8703189]),\n",
       " array([215.31374768]),\n",
       " array([210.79039701]),\n",
       " array([207.10793235]),\n",
       " array([204.10986286]),\n",
       " array([201.66885373]),\n",
       " array([199.68128784]),\n",
       " array([198.062843]),\n",
       " array([196.74489484]),\n",
       " array([195.67159114]),\n",
       " array([194.79747205]),\n",
       " array([194.08553418]),\n",
       " array([193.50565584]),\n",
       " array([193.03331576]),\n",
       " array([192.64855068]),\n",
       " array([192.3351072]),\n",
       " array([192.0797516]),\n",
       " array([191.87170823]),\n",
       " array([191.70220244]),\n",
       " array([191.56408861]),\n",
       " array([191.4515474]),\n",
       " array([191.35983933]),\n",
       " array([191.28510418]),\n",
       " array([191.2241977]),\n",
       " array([191.1745587]),\n",
       " array([191.1341008]),\n",
       " array([191.10112432]),\n",
       " array([191.07424454]),\n",
       " array([191.05233329]),\n",
       " array([191.03447134]),\n",
       " array([191.01990971]),\n",
       " array([191.00803806]),\n",
       " array([190.99835904]),\n",
       " array([190.99046733]),\n",
       " array([190.98403261]),\n",
       " array([190.97878566]),\n",
       " array([190.97450704]),\n",
       " array([190.97101791]),\n",
       " array([190.96817246]),\n",
       " array([190.96585185]),\n",
       " array([190.96395921]),\n",
       " array([190.96241553]),\n",
       " array([190.96115643]),\n",
       " array([190.9601294]),\n",
       " array([190.95929164]),\n",
       " array([190.95860825]),\n",
       " array([190.95805074]),\n",
       " array([190.95759593]),\n",
       " array([190.95722487]),\n",
       " array([190.95692214]),\n",
       " array([190.95667514]),\n",
       " array([190.95647361]),\n",
       " array([190.95630917]),\n",
       " array([190.95617498]),\n",
       " array([190.95606549]),\n",
       " array([190.95597613]),\n",
       " array([190.95590321]),\n",
       " array([190.9558437]),\n",
       " array([190.95579514]),\n",
       " array([190.9557555]),\n",
       " array([190.95572315]),\n",
       " array([190.95569674]),\n",
       " array([190.95567519]),\n",
       " array([190.9556576]),\n",
       " array([190.95564323]),\n",
       " array([190.95563151]),\n",
       " array([190.95562194]),\n",
       " array([190.95561413]),\n",
       " array([190.95560775]),\n",
       " array([190.95560255]),\n",
       " array([190.95559829]),\n",
       " array([190.95559482]),\n",
       " array([190.95559199]),\n",
       " array([190.95558968])]"
      ]
     },
     "execution_count": 18,
     "metadata": {},
     "output_type": "execute_result"
    }
   ],
   "source": [
    "all_error"
   ]
  },
  {
   "cell_type": "markdown",
   "metadata": {},
   "source": [
    "# Step 3 : Visualisation of final output"
   ]
  },
  {
   "cell_type": "code",
   "execution_count": 19,
   "metadata": {},
   "outputs": [
    {
     "data": {
      "text/plain": [
       "[<matplotlib.lines.Line2D at 0x138503bec10>]"
      ]
     },
     "execution_count": 19,
     "metadata": {},
     "output_type": "execute_result"
    },
    {
     "data": {
      "image/png": "[encoded data removed]",
      "text/plain": [
       "<Figure size 576x396 with 1 Axes>"
      ]
     },
     "metadata": {},
     "output_type": "display_data"
    }
   ],
   "source": [
    "plt.plot(all_error)"
   ]
  },
  {
   "cell_type": "code",
   "execution_count": 20,
   "metadata": {},
   "outputs": [],
   "source": [
    "x_points=[]\n",
    "y_points=[]\n",
    "for i in range(x.shape[0]):\n",
    "    cur_y=final_theta[0]+final_theta[1]*x[i]\n",
    "    y_points.append(cur_y)\n",
    "    x_points.append(x[i])"
   ]
  },
  {
   "cell_type": "code",
   "execution_count": 21,
   "metadata": {},
   "outputs": [],
   "source": [
    "x_points=np.array(x_points)"
   ]
  },
  {
   "cell_type": "code",
   "execution_count": 22,
   "metadata": {},
   "outputs": [],
   "source": [
    "y_points=np.array(y_points)"
   ]
  },
  {
   "cell_type": "code",
   "execution_count": 23,
   "metadata": {},
   "outputs": [
    {
     "data": {
      "image/png": "[encoded data removed]",
      "text/plain": [
       "<Figure size 576x396 with 1 Axes>"
      ]
     },
     "metadata": {},
     "output_type": "display_data"
    }
   ],
   "source": [
    "plt.scatter(x,y,color=\"red\")\n",
    "plt.xlabel('x values')\n",
    "plt.ylabel('y values')\n",
    "plt.title(\"Linear Regression\")\n",
    "\n",
    "plt.plot(x_points,y_points,color=\"black\",label=\"final prediction\")\n",
    "plt.legend()\n",
    "plt.show()"
   ]
  },
  {
   "cell_type": "markdown",
   "metadata": {},
   "source": [
    "# Step 4 : Testing Data"
   ]
  },
  {
   "cell_type": "code",
   "execution_count": 24,
   "metadata": {},
   "outputs": [],
   "source": [
    "x_test=pd.read_csv(\"./Testing Data/Linear_X_test.csv\").values"
   ]
  },
  {
   "cell_type": "code",
   "execution_count": 25,
   "metadata": {},
   "outputs": [
    {
     "data": {
      "text/plain": [
       "(1250, 1)"
      ]
     },
     "execution_count": 25,
     "metadata": {},
     "output_type": "execute_result"
    }
   ],
   "source": [
    "x_test.shape"
   ]
  },
  {
   "cell_type": "code",
   "execution_count": 26,
   "metadata": {},
   "outputs": [],
   "source": [
    "y_test=hypothesis(x_test,final_theta)"
   ]
  },
  {
   "cell_type": "code",
   "execution_count": 27,
   "metadata": {},
   "outputs": [
    {
     "data": {
      "text/plain": [
       "array([[-147.52442937],\n",
       "       [ -66.26572056],\n",
       "       [-200.05625812],\n",
       "       ...,\n",
       "       [  14.03674552],\n",
       "       [ -18.66651255],\n",
       "       [ -51.07518652]])"
      ]
     },
     "execution_count": 27,
     "metadata": {},
     "output_type": "execute_result"
    }
   ],
   "source": [
    "y_test"
   ]
  },
  {
   "cell_type": "code",
   "execution_count": 28,
   "metadata": {},
   "outputs": [
    {
     "data": {
      "text/plain": [
       "(1250, 1)"
      ]
     },
     "execution_count": 28,
     "metadata": {},
     "output_type": "execute_result"
    }
   ],
   "source": [
    "y_test.shape"
   ]
  },
  {
   "cell_type": "markdown",
   "metadata": {},
   "source": [
    "# Step 5 : Creating a csv file"
   ]
  },
  {
   "cell_type": "code",
   "execution_count": 29,
   "metadata": {},
   "outputs": [],
   "source": [
    "# Creating dataframe - only one column\n",
    "df = pd.DataFrame(data=y_test,columns=[\"y\"])\n",
    "# Save to a csv file\n",
    "df.to_csv('./Testing Data/y_pred_test.csv',index=False)"
   ]
  },
  {
   "cell_type": "code",
   "execution_count": 30,
   "metadata": {},
   "outputs": [],
   "source": [
    "y_test_load=pd.read_csv(\"./Testing Data/y_pred_test.csv\").values"
   ]
  },
  {
   "cell_type": "code",
   "execution_count": 31,
   "metadata": {
    "scrolled": true
   },
   "outputs": [
    {
     "data": {
      "text/plain": [
       "array([[-147.52442937],\n",
       "       [ -66.26572056],\n",
       "       [-200.05625812],\n",
       "       ...,\n",
       "       [  14.03674552],\n",
       "       [ -18.66651255],\n",
       "       [ -51.07518652]])"
      ]
     },
     "execution_count": 31,
     "metadata": {},
     "output_type": "execute_result"
    }
   ],
   "source": [
    "y_test"
   ]
  },
  {
   "cell_type": "markdown",
   "metadata": {},
   "source": [
    "# Step 6 : Visualisation of testing dataset"
   ]
  },
  {
   "cell_type": "code",
   "execution_count": 32,
   "metadata": {},
   "outputs": [
    {
     "data": {
      "image/png": "[encoded data removed]",
      "text/plain": [
       "<Figure size 576x396 with 1 Axes>"
      ]
     },
     "metadata": {},
     "output_type": "display_data"
    }
   ],
   "source": [
    "plt.scatter(x_test,y_test,color=\"black\")\n",
    "plt.xlabel('x values')\n",
    "plt.ylabel('y values')\n",
    "plt.title(\"Linear Regression - Testing \")\n",
    "plt.show()"
   ]
  },
  {
   "cell_type": "code",
   "execution_count": 33,
   "metadata": {},
   "outputs": [
    {
     "data": {
      "image/png": "[encoded data removed]",
      "text/plain": [
       "<Figure size 576x396 with 1 Axes>"
      ]
     },
     "metadata": {},
     "output_type": "display_data"
    }
   ],
   "source": [
    "plt.scatter(x_test,y_test,color=\"black\")\n",
    "plt.xlabel('x values')\n",
    "plt.ylabel('y values')\n",
    "plt.title(\"Linear Regression - Testing \")\n",
    "x_points_test=[]\n",
    "y_points_test=[]\n",
    "for i in range(x_test.shape[0]):\n",
    "    cur_y=final_theta[0]+final_theta[1]*x_test[i]\n",
    "    y_points_test.append(cur_y)\n",
    "    x_points_test.append(x_test[i])\n",
    "plt.plot(x_points_test,y_points_test,color=\"yellow\",label=\"final prediction\")\n",
    "plt.legend()\n",
    "plt.show()"
   ]
  },
  {
   "cell_type": "markdown",
   "metadata": {},
   "source": [
    "# Step 7 : Computing Accuracy"
   ]
  },
  {
   "cell_type": "code",
   "execution_count": 34,
   "metadata": {},
   "outputs": [],
   "source": [
    "def R2_Score(y_org,y_pred):\n",
    "    num = np.sum((y_org-y_pred)**2)\n",
    "    denom = np.sum((y_org-y_org.mean())**2)\n",
    "    score=1-(num/denom)\n",
    "    return score*100"
   ]
  },
  {
   "cell_type": "code",
   "execution_count": 35,
   "metadata": {},
   "outputs": [
    {
     "data": {
      "text/plain": [
       "97.0961222102746"
      ]
     },
     "execution_count": 35,
     "metadata": {},
     "output_type": "execute_result"
    }
   ],
   "source": [
    "R2_Score(y,y_points)"
   ]
  },
  {
   "cell_type": "code",
   "execution_count": null,
   "metadata": {},
   "outputs": [],
   "source": []
  }
 ],
 "metadata": {
  "kernelspec": {
   "display_name": "Python 3",
   "language": "python",
   "name": "python3"
  },
  "language_info": {
   "codemirror_mode": {
    "name": "ipython",
    "version": 3
   },
   "file_extension": ".py",
   "mimetype": "text/x-python",
   "name": "python",
   "nbconvert_exporter": "python",
   "pygments_lexer": "ipython3",
   "version": "3.8.6"
  }
 },
 "nbformat": 4,
 "nbformat_minor": 4
}
