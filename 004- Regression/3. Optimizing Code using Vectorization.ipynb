{
 "cells": [
  {
   "cell_type": "markdown",
   "metadata": {},
   "source": [
    "# Optimizing Code using Vectorization"
   ]
  },
  {
   "cell_type": "markdown",
   "metadata": {},
   "source": [
    "- Avoid loops (except for Gradient descent main loop)\n",
    "- Use numpy functions to make algo faster"
   ]
  },
  {
   "cell_type": "code",
   "execution_count": 1,
   "metadata": {},
   "outputs": [],
   "source": [
    "from sklearn.datasets import load_boston\n",
    "import numpy as np\n",
    "import pandas as pd\n",
    "import matplotlib.pyplot as plt"
   ]
  },
  {
   "cell_type": "code",
   "execution_count": 2,
   "metadata": {},
   "outputs": [],
   "source": [
    "# Loading Data\n",
    "boston = load_boston()\n",
    "x=boston.data\n",
    "y=boston.target\n",
    "\n",
    "#Normalizing Data\n",
    "mean = np.mean(x,axis=0)\n",
    "std = np.std(x,axis=0)\n",
    "new_x = (x-mean)/std\n",
    "\n",
    "#dummy feature\n",
    "ones =np.ones((new_x.shape[0],1))\n",
    "new_x=np.hstack((ones,new_x))"
   ]
  },
  {
   "cell_type": "markdown",
   "metadata": {},
   "source": [
    "# Rewriting Functions"
   ]
  },
  {
   "cell_type": "markdown",
   "metadata": {},
   "source": [
    "Function 1 - Hypothesis Function"
   ]
  },
  {
   "cell_type": "raw",
   "metadata": {},
   "source": [
    "def hypothesis(x_data,theta):\n",
    "    yhat=0\n",
    "    n=x_data.shape[0]\n",
    "    for i in range(n):\n",
    "        yhat += theta[i]*x_data[i]\n",
    "    return yhat"
   ]
  },
  {
   "cell_type": "markdown",
   "metadata": {},
   "source": [
    "- One can directly use dot product of x_data and theta to get all yhats"
   ]
  },
  {
   "cell_type": "code",
   "execution_count": 3,
   "metadata": {},
   "outputs": [],
   "source": [
    "def hypothesis(x_data,theta):\n",
    "    return np.dot(x_data,theta)"
   ]
  },
  {
   "cell_type": "markdown",
   "metadata": {},
   "source": [
    "Fucntion 2 - Loss Function"
   ]
  },
  {
   "cell_type": "raw",
   "metadata": {},
   "source": [
    "def loss(x_data,y_data,theta):\n",
    "    error=0.0\n",
    "    n=x_data.shape[0]\n",
    "    for i in range(n):\n",
    "        error+=(hypothesis(x_data[i],theta)-y_data[i])**2\n",
    "    return error/n"
   ]
  },
  {
   "cell_type": "code",
   "execution_count": 4,
   "metadata": {},
   "outputs": [],
   "source": [
    "def loss(x_data,y_data,theta):\n",
    "    error=0.0\n",
    "    yhat=hypothesis(x_data,theta)\n",
    "    error=np.sum((y_data-yhat)**2)\n",
    "    n=x_data.shape[0]\n",
    "    return error/n"
   ]
  },
  {
   "cell_type": "markdown",
   "metadata": {},
   "source": [
    "Function 3 - Gradient Function"
   ]
  },
  {
   "cell_type": "raw",
   "metadata": {},
   "source": [
    "def gradient(x_data,y_data,theta):\n",
    "    m,n=x_data.shape\n",
    "    grad=np.zeros((n,))\n",
    "    for i in range(n):\n",
    "        for j in range(m):\n",
    "            grad[i]+=(hypothesis(x_data[j],theta)-y_data[j])*x_data[j][i]\n",
    "    return grad/m"
   ]
  },
  {
   "cell_type": "code",
   "execution_count": 5,
   "metadata": {},
   "outputs": [],
   "source": [
    "def gradient(x_data,y_data,theta):\n",
    "    yhat=hypothesis(x_data,theta)\n",
    "    grad=np.dot(x_data.T,(yhat-y_data))\n",
    "    n=x_data.shape[0]\n",
    "    return grad/n"
   ]
  },
  {
   "cell_type": "markdown",
   "metadata": {},
   "source": [
    "Function 4 - Gradient Descent"
   ]
  },
  {
   "cell_type": "raw",
   "metadata": {},
   "source": [
    "def grad_d(x_data,y_data,lr=0.1,max_epochs=300):\n",
    "    m,n = x_data.shape\n",
    "    theta=np.zeros((n,))\n",
    "    error_list=[]\n",
    "    for i in range(max_epochs):\n",
    "        e=loss(x_data,y_data,theta)\n",
    "        error_list.append(e)      \n",
    "        for j in range(n):\n",
    "            theta[j]=theta[j]-(lr*gradient(x_data,y_data,theta)[j])\n",
    "    return error_list,theta"
   ]
  },
  {
   "cell_type": "code",
   "execution_count": 6,
   "metadata": {},
   "outputs": [],
   "source": [
    "def grad_d(x_data,y_data,lr=0.1,max_epochs=300):\n",
    "    n= x_data.shape[1]\n",
    "    theta=np.zeros((n,))\n",
    "    error_list=[]\n",
    "    for i in range(max_epochs):\n",
    "        e=loss(x_data,y_data,theta)\n",
    "        error_list.append(e)      \n",
    "        grad=gradient(x_data,y_data,theta)\n",
    "        theta=theta-lr*grad\n",
    "    return error_list,theta"
   ]
  },
  {
   "cell_type": "markdown",
   "metadata": {},
   "source": [
    "# Testing the time and accuracy now"
   ]
  },
  {
   "cell_type": "code",
   "execution_count": 7,
   "metadata": {},
   "outputs": [
    {
     "name": "stdout",
     "output_type": "stream",
     "text": [
      "Success!\n",
      "Time Taken: 0.00700831413269043\n"
     ]
    }
   ],
   "source": [
    "import time\n",
    "start=time.time()\n",
    "\n",
    "errors,final_theta=grad_d(new_x,y)\n",
    "\n",
    "end=time.time()\n",
    "\n",
    "print(\"Success!\")\n",
    "print(\"Time Taken:\",end-start)"
   ]
  },
  {
   "cell_type": "markdown",
   "metadata": {},
   "source": [
    " - now time is very less!"
   ]
  },
  {
   "cell_type": "code",
   "execution_count": 8,
   "metadata": {},
   "outputs": [
    {
     "data": {
      "text/plain": [
       "array([ 2.25328063e+01, -9.03091692e-01,  1.03815625e+00,  1.53477685e-02,\n",
       "        6.99554920e-01, -2.02101672e+00,  2.70014278e+00, -1.93085233e-03,\n",
       "       -3.10234837e+00,  2.34354753e+00, -1.72031485e+00, -2.04614394e+00,\n",
       "        8.47845679e-01, -3.73089521e+00])"
      ]
     },
     "execution_count": 8,
     "metadata": {},
     "output_type": "execute_result"
    }
   ],
   "source": [
    "final_theta"
   ]
  },
  {
   "cell_type": "code",
   "execution_count": 9,
   "metadata": {},
   "outputs": [
    {
     "data": {
      "text/plain": [
       "[592.1469169960474,\n",
       " 462.4604490684581,\n",
       " 375.3852750957273,\n",
       " 307.6933342962929,\n",
       " 253.3916863467937,\n",
       " 209.55988275906446,\n",
       " 174.1302049153625,\n",
       " 145.47824715741686,\n",
       " 122.30009891984596,\n",
       " 103.54456174692926,\n",
       " 88.36328034470081,\n",
       " 76.0713129155594,\n",
       " 66.11549356461222,\n",
       " 58.048967153583966,\n",
       " 51.51067344934865,\n",
       " 46.20881061552669,\n",
       " 41.90750109402471,\n",
       " 38.416036019468415,\n",
       " 35.58019677482985,\n",
       " 33.275250473323695,\n",
       " 31.400294933308405,\n",
       " 29.873691975646693,\n",
       " 28.629378705367408,\n",
       " 27.61388730734379,\n",
       " 26.783936759906144,\n",
       " 26.10448632753721,\n",
       " 25.547161996504908,\n",
       " 25.08898417710861,\n",
       " 24.71133882441255,\n",
       " 24.399145276935652,\n",
       " 24.140183102536817,\n",
       " 23.924547492728305,\n",
       " 23.744208598563592,\n",
       " 23.59265492471798,\n",
       " 23.46460471201707,\n",
       " 23.355772318479683,\n",
       " 23.262679096703383,\n",
       " 23.182500275377258,\n",
       " 23.112940976950796,\n",
       " 23.05213581628629,\n",
       " 22.998567586378826,\n",
       " 22.951001395282688,\n",
       " 22.9084313122499,\n",
       " 22.87003714226488,\n",
       " 22.83514940208474,\n",
       " 22.80322093811317,\n",
       " 22.773803923546087,\n",
       " 22.74653121264121,\n",
       " 22.721101224522535,\n",
       " 22.697265686396175,\n",
       " 22.67481969351143,\n",
       " 22.65359364637799,\n",
       " 22.633446709280474,\n",
       " 22.614261501761476,\n",
       " 22.595939789505692,\n",
       " 22.578398985402433,\n",
       " 22.56156930747654,\n",
       " 22.54539146946374,\n",
       " 22.529814803365436,\n",
       " 22.514795732401407,\n",
       " 22.500296528238636,\n",
       " 22.486284298899054,\n",
       " 22.472730163896646,\n",
       " 22.45960858137696,\n",
       " 22.446896798695185,\n",
       " 22.434574403268602,\n",
       " 22.4226229549157,\n",
       " 22.411025684441583,\n",
       " 22.399767246104748,\n",
       " 22.38883351393122,\n",
       " 22.378211413732533,\n",
       " 22.367888784215975,\n",
       " 22.357854261818897,\n",
       " 22.348097184906386,\n",
       " 22.338607513789544,\n",
       " 22.32937576368471,\n",
       " 22.32039294827238,\n",
       " 22.311650531951095,\n",
       " 22.30314038923622,\n",
       " 22.294854770041425,\n",
       " 22.2867862698142,\n",
       " 22.27892780368666,\n",
       " 22.271272583957156,\n",
       " 22.263814100343527,\n",
       " 22.256546102550615,\n",
       " 22.249462584777742,\n",
       " 22.242557771859154,\n",
       " 22.23582610678535,\n",
       " 22.229262239397965,\n",
       " 22.222861016087286,\n",
       " 22.21661747035124,\n",
       " 22.21052681409892,\n",
       " 22.204584429601606,\n",
       " 22.198785862010332,\n",
       " 22.193126812372455,\n",
       " 22.187603131090523,\n",
       " 22.18221081177555,\n",
       " 22.176945985454438,\n",
       " 22.171804915097017,\n",
       " 22.166783990433387,\n",
       " 22.16187972303634,\n",
       " 22.157088741647,\n",
       " 22.15240778772477,\n",
       " 22.147833711204967,\n",
       " 22.143363466449618,\n",
       " 22.138994108378487,\n",
       " 22.134722788768816,\n",
       " 22.13054675271361,\n",
       " 22.126463335229015,\n",
       " 22.122469958002576,\n",
       " 22.118564126274684,\n",
       " 22.114743425846136,\n",
       " 22.111005520205506,\n",
       " 22.107348147770335,\n",
       " 22.10376911923671,\n",
       " 22.100266315031995,\n",
       " 22.096837682866102,\n",
       " 22.093481235376775,\n",
       " 22.090195047864636,\n",
       " 22.086977256114245,\n",
       " 22.0838260542972,\n",
       " 22.08073969295409,\n",
       " 22.077716477051652,\n",
       " 22.07475476411231,\n",
       " 22.071852962412873,\n",
       " 22.069009529249705,\n",
       " 22.066222969267635,\n",
       " 22.063491832849987,\n",
       " 22.060814714567446,\n",
       " 22.05819025168324,\n",
       " 22.055617122712547,\n",
       " 22.053094046033983,\n",
       " 22.050619778551077,\n",
       " 22.048193114401936,\n",
       " 22.04581288371504,\n",
       " 22.043477951409628,\n",
       " 22.041187216038786,\n",
       " 22.03893960867369,\n",
       " 22.036734091827494,\n",
       " 22.03456965841724,\n",
       " 22.032445330762485,\n",
       " 22.03036015961921,\n",
       " 22.028313223247668,\n",
       " 22.026303626513023,\n",
       " 22.024330500017356,\n",
       " 22.022392999262152,\n",
       " 22.020490303839857,\n",
       " 22.01862161665369,\n",
       " 22.016786163164465,\n",
       " 22.014983190663603,\n",
       " 22.013211967571248,\n",
       " 22.011471782758644,\n",
       " 22.009761944893903,\n",
       " 22.008081781810226,\n",
       " 22.006430639895903,\n",
       " 22.004807883505162,\n",
       " 22.003212894389243,\n",
       " 22.001645071146854,\n",
       " 22.00010382869341,\n",
       " 21.99858859774835,\n",
       " 21.997098824339826,\n",
       " 21.99563396932629,\n",
       " 21.99419350793418,\n",
       " 21.992776929311336,\n",
       " 21.99138373609539,\n",
       " 21.99001344399681,\n",
       " 21.988665581395896,\n",
       " 21.987339688953313,\n",
       " 21.986035319233707,\n",
       " 21.984752036341916,\n",
       " 21.98348941557132,\n",
       " 21.982247043063897,\n",
       " 21.98102451548168,\n",
       " 21.979821439689,\n",
       " 21.978637432445403,\n",
       " 21.977472120108644,\n",
       " 21.976325138347576,\n",
       " 21.975196131864404,\n",
       " 21.97408475412622,\n",
       " 21.972990667105254,\n",
       " 21.971913541027735,\n",
       " 21.970853054130878,\n",
       " 21.969808892427938,\n",
       " 21.968780749480853,\n",
       " 21.967768326180277,\n",
       " 21.966771330532843,\n",
       " 21.965789477455278,\n",
       " 21.964822488575155,\n",
       " 21.963870092038164,\n",
       " 21.96293202232155,\n",
       " 21.962008020053545,\n",
       " 21.961097831838636,\n",
       " 21.96020121008842,\n",
       " 21.959317912857895,\n",
       " 21.95844770368689,\n",
       " 21.957590351446694,\n",
       " 21.956745630191406,\n",
       " 21.955913319014126,\n",
       " 21.95509320190761,\n",
       " 21.95428506762936,\n",
       " 21.953488709571005,\n",
       " 21.95270392563171,\n",
       " 21.951930518095587,\n",
       " 21.951168293512982,\n",
       " 21.95041706258541,\n",
       " 21.9496766400541,\n",
       " 21.94894684459201,\n",
       " 21.94822749869917,\n",
       " 21.947518428601253,\n",
       " 21.946819464151325,\n",
       " 21.946130438734528,\n",
       " 21.945451189175778,\n",
       " 21.944781555650227,\n",
       " 21.944121381596474,\n",
       " 21.94347051363243,\n",
       " 21.9428288014737,\n",
       " 21.94219609785449,\n",
       " 21.941572258450826,\n",
       " 21.940957141806155,\n",
       " 21.940350609259134,\n",
       " 21.939752524873615,\n",
       " 21.939162755370646,\n",
       " 21.938581170062573,\n",
       " 21.93800764078908,\n",
       " 21.93744204185506,\n",
       " 21.936884249970397,\n",
       " 21.936334144191445,\n",
       " 21.93579160586427,\n",
       " 21.93525651856952,\n",
       " 21.934728768068943,\n",
       " 21.934208242253334,\n",
       " 21.933694831092172,\n",
       " 21.93318842658451,\n",
       " 21.932688922711456,\n",
       " 21.932196215389844,\n",
       " 21.931710202427347,\n",
       " 21.93123078347882,\n",
       " 21.930757860003848,\n",
       " 21.930291335225547,\n",
       " 21.929831114090494,\n",
       " 21.929377103229754,\n",
       " 21.928929210921012,\n",
       " 21.928487347051803,\n",
       " 21.92805142308366,\n",
       " 21.92762135201731,\n",
       " 21.92719704835886,\n",
       " 21.926778428086802,\n",
       " 21.926365408620025,\n",
       " 21.9259579087866,\n",
       " 21.925555848793486,\n",
       " 21.92515915019699,\n",
       " 21.92476773587406,\n",
       " 21.924381529994317,\n",
       " 21.92400045799282,\n",
       " 21.92362444654357,\n",
       " 21.92325342353375,\n",
       " 21.92288731803851,\n",
       " 21.922526060296565,\n",
       " 21.922169581686326,\n",
       " 21.921817814702685,\n",
       " 21.92147069293435,\n",
       " 21.921128151041852,\n",
       " 21.920790124736037,\n",
       " 21.92045655075708,\n",
       " 21.920127366854135,\n",
       " 21.919802511765404,\n",
       " 21.919481925198706,\n",
       " 21.919165547812586,\n",
       " 21.91885332119786,\n",
       " 21.9185451878596,\n",
       " 21.918241091199565,\n",
       " 21.917940975499107,\n",
       " 21.917644785902393,\n",
       " 21.917352468400164,\n",
       " 21.917063969813753,\n",
       " 21.916779237779576,\n",
       " 21.91649822073394,\n",
       " 21.91622086789826,\n",
       " 21.915947129264573,\n",
       " 21.91567695558139,\n",
       " 21.91541029833994,\n",
       " 21.915147109760674,\n",
       " 21.914887342780094,\n",
       " 21.91463095103788,\n",
       " 21.914377888864347,\n",
       " 21.91412811126811,\n",
       " 21.91388157392412,\n",
       " 21.913638233161908,\n",
       " 21.91339804595408,\n",
       " 21.91316096990513,\n",
       " 21.912926963240448,\n",
       " 21.912695984795572,\n",
       " 21.912467994005695,\n",
       " 21.91224295089542,\n",
       " 21.912020816068654,\n",
       " 21.91180155069882,\n",
       " 21.9115851165192,\n",
       " 21.911371475813542,\n",
       " 21.91116059140683,\n",
       " 21.910952426656223]"
      ]
     },
     "execution_count": 9,
     "metadata": {},
     "output_type": "execute_result"
    }
   ],
   "source": [
    "errors"
   ]
  },
  {
   "cell_type": "code",
   "execution_count": 10,
   "metadata": {},
   "outputs": [
    {
     "data": {
      "text/plain": [
       "[<matplotlib.lines.Line2D at 0x1acf018d190>]"
      ]
     },
     "execution_count": 10,
     "metadata": {},
     "output_type": "execute_result"
    },
    {
     "data": {
      "image/png": "[encoded data removed]",
      "text/plain": [
       "<Figure size 432x288 with 1 Axes>"
      ]
     },
     "metadata": {
      "needs_background": "light"
     },
     "output_type": "display_data"
    }
   ],
   "source": [
    "plt.plot(errors)"
   ]
  },
  {
   "cell_type": "code",
   "execution_count": 11,
   "metadata": {},
   "outputs": [],
   "source": [
    "ypred=hypothesis(new_x,final_theta)"
   ]
  },
  {
   "cell_type": "code",
   "execution_count": 12,
   "metadata": {},
   "outputs": [],
   "source": [
    "def r2_score(yo,yp):\n",
    "    num=np.sum((yo-yp)**2)\n",
    "    denom=np.sum((yo-yo.mean())**2)\n",
    "    score=1-(num/denom)\n",
    "    return score*100"
   ]
  },
  {
   "cell_type": "code",
   "execution_count": 13,
   "metadata": {},
   "outputs": [
    {
     "data": {
      "text/plain": [
       "74.04541323942743"
      ]
     },
     "execution_count": 13,
     "metadata": {},
     "output_type": "execute_result"
    }
   ],
   "source": [
    "r2_score(y,ypred)"
   ]
  },
  {
   "cell_type": "code",
   "execution_count": 14,
   "metadata": {},
   "outputs": [],
   "source": [
    "# Same Accuracy but Faster!"
   ]
  },
  {
   "cell_type": "code",
   "execution_count": null,
   "metadata": {},
   "outputs": [],
   "source": []
  }
 ],
 "metadata": {
  "kernelspec": {
   "display_name": "Python 3",
   "language": "python",
   "name": "python3"
  },
  "language_info": {
   "codemirror_mode": {
    "name": "ipython",
    "version": 3
   },
   "file_extension": ".py",
   "mimetype": "text/x-python",
   "name": "python",
   "nbconvert_exporter": "python",
   "pygments_lexer": "ipython3",
   "version": "3.8.6"
  }
 },
 "nbformat": 4,
 "nbformat_minor": 4
}
