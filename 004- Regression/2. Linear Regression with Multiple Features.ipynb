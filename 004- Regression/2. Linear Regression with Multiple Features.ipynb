{
 "cells": [
  {
   "cell_type": "markdown",
   "metadata": {},
   "source": [
    "# Linear Regression on Muliple Features"
   ]
  },
  {
   "cell_type": "code",
   "execution_count": 1,
   "metadata": {},
   "outputs": [],
   "source": [
    "from sklearn.datasets import load_boston\n",
    "import numpy as np\n",
    "import pandas as pd\n",
    "import matplotlib.pyplot as plt"
   ]
  },
  {
   "cell_type": "markdown",
   "metadata": {},
   "source": [
    "Data loading and preparation"
   ]
  },
  {
   "cell_type": "code",
   "execution_count": 2,
   "metadata": {},
   "outputs": [],
   "source": [
    "boston = load_boston()\n",
    "x=boston.data\n",
    "y=boston.target\n",
    "mean = np.mean(x,axis=0)\n",
    "std = np.std(x,axis=0)\n",
    "new_x = (x-mean)/std"
   ]
  },
  {
   "cell_type": "code",
   "execution_count": 3,
   "metadata": {},
   "outputs": [
    {
     "data": {
      "text/plain": [
       "(506, 13)"
      ]
     },
     "execution_count": 3,
     "metadata": {},
     "output_type": "execute_result"
    }
   ],
   "source": [
    "new_x.shape"
   ]
  },
  {
   "cell_type": "code",
   "execution_count": 4,
   "metadata": {
    "scrolled": true
   },
   "outputs": [
    {
     "data": {
      "text/plain": [
       "array([[-0.41978194,  0.28482986, -1.2879095 , ..., -1.45900038,\n",
       "         0.44105193, -1.0755623 ],\n",
       "       [-0.41733926, -0.48772236, -0.59338101, ..., -0.30309415,\n",
       "         0.44105193, -0.49243937],\n",
       "       [-0.41734159, -0.48772236, -0.59338101, ..., -0.30309415,\n",
       "         0.39642699, -1.2087274 ],\n",
       "       ...,\n",
       "       [-0.41344658, -0.48772236,  0.11573841, ...,  1.17646583,\n",
       "         0.44105193, -0.98304761],\n",
       "       [-0.40776407, -0.48772236,  0.11573841, ...,  1.17646583,\n",
       "         0.4032249 , -0.86530163],\n",
       "       [-0.41500016, -0.48772236,  0.11573841, ...,  1.17646583,\n",
       "         0.44105193, -0.66905833]])"
      ]
     },
     "execution_count": 4,
     "metadata": {},
     "output_type": "execute_result"
    }
   ],
   "source": [
    "new_x"
   ]
  },
  {
   "cell_type": "code",
   "execution_count": 5,
   "metadata": {},
   "outputs": [
    {
     "data": {
      "image/png": "[encoded data removed]",
      "text/plain": [
       "<Figure size 432x288 with 1 Axes>"
      ]
     },
     "metadata": {
      "needs_background": "light"
     },
     "output_type": "display_data"
    }
   ],
   "source": [
    "plt.scatter(new_x[:,5],y)\n",
    "plt.show()"
   ]
  },
  {
   "cell_type": "markdown",
   "metadata": {},
   "source": [
    "Adding a dummy feature"
   ]
  },
  {
   "cell_type": "code",
   "execution_count": 6,
   "metadata": {},
   "outputs": [
    {
     "data": {
      "text/plain": [
       "(506, 13)"
      ]
     },
     "execution_count": 6,
     "metadata": {},
     "output_type": "execute_result"
    }
   ],
   "source": [
    "new_x.shape"
   ]
  },
  {
   "cell_type": "code",
   "execution_count": 7,
   "metadata": {},
   "outputs": [],
   "source": [
    "ones =np.ones((new_x.shape[0],1))"
   ]
  },
  {
   "cell_type": "code",
   "execution_count": 8,
   "metadata": {},
   "outputs": [],
   "source": [
    "new_x=np.hstack((ones,new_x))"
   ]
  },
  {
   "cell_type": "code",
   "execution_count": 9,
   "metadata": {
    "scrolled": true
   },
   "outputs": [
    {
     "data": {
      "text/plain": [
       "(506, 14)"
      ]
     },
     "execution_count": 9,
     "metadata": {},
     "output_type": "execute_result"
    }
   ],
   "source": [
    "new_x.shape"
   ]
  },
  {
   "cell_type": "code",
   "execution_count": 10,
   "metadata": {
    "scrolled": true
   },
   "outputs": [
    {
     "data": {
      "text/plain": [
       "array([[ 1.        , -0.41978194,  0.28482986, -1.2879095 , -0.27259857,\n",
       "        -0.14421743,  0.41367189, -0.12001342,  0.1402136 , -0.98284286,\n",
       "        -0.66660821, -1.45900038,  0.44105193, -1.0755623 ],\n",
       "       [ 1.        , -0.41733926, -0.48772236, -0.59338101, -0.27259857,\n",
       "        -0.74026221,  0.19427445,  0.36716642,  0.55715988, -0.8678825 ,\n",
       "        -0.98732948, -0.30309415,  0.44105193, -0.49243937]])"
      ]
     },
     "execution_count": 10,
     "metadata": {},
     "output_type": "execute_result"
    }
   ],
   "source": [
    "new_x[:2,:]"
   ]
  },
  {
   "cell_type": "markdown",
   "metadata": {},
   "source": [
    "Get Hypothesis"
   ]
  },
  {
   "cell_type": "code",
   "execution_count": 11,
   "metadata": {},
   "outputs": [],
   "source": [
    "def hypothesis(x_data,theta):\n",
    "    yhat=0\n",
    "    n=x_data.shape[0]\n",
    "    for i in range(n):\n",
    "        yhat += theta[i]*x_data[i]\n",
    "    return yhat"
   ]
  },
  {
   "cell_type": "markdown",
   "metadata": {},
   "source": [
    "Loss Function"
   ]
  },
  {
   "cell_type": "code",
   "execution_count": 12,
   "metadata": {},
   "outputs": [],
   "source": [
    "def loss(x_data,y_data,theta):\n",
    "    error=0.0\n",
    "    n=x_data.shape[0]\n",
    "    for i in range(n):\n",
    "        error+=(hypothesis(x_data[i],theta)-y_data[i])**2\n",
    "    return error/n"
   ]
  },
  {
   "cell_type": "markdown",
   "metadata": {},
   "source": [
    "Gradient"
   ]
  },
  {
   "cell_type": "code",
   "execution_count": 13,
   "metadata": {},
   "outputs": [],
   "source": [
    "def gradient(x_data,y_data,theta):\n",
    "    #here x_data is a matrix and y_data is a vector\n",
    "    m,n=x_data.shape\n",
    "    #m data points and n features\n",
    "    grad=np.zeros((n,))\n",
    "    #theta is also a vector of 14 values so grad also needs to be a vector of 14 values\n",
    "    for i in range(n): # feature number\n",
    "        for j in range(m): # data in feature\n",
    "            grad[i]+=(hypothesis(x_data[j],theta)-y_data[j])*x_data[j][i]\n",
    "    return grad/m"
   ]
  },
  {
   "cell_type": "markdown",
   "metadata": {},
   "source": [
    "Gradient Descent"
   ]
  },
  {
   "cell_type": "code",
   "execution_count": 14,
   "metadata": {},
   "outputs": [],
   "source": [
    "def grad_d(x_data,y_data,lr=0.1,max_epochs=300):\n",
    "    m,n = x_data.shape\n",
    "    theta=np.zeros((n,))\n",
    "    error_list=[]\n",
    "    for i in range(max_epochs):\n",
    "        e=loss(x_data,y_data,theta)\n",
    "        error_list.append(e)      \n",
    "        for j in range(n):\n",
    "            theta[j]=theta[j]-(lr*gradient(x_data,y_data,theta)[j])\n",
    "    return error_list,theta"
   ]
  },
  {
   "cell_type": "code",
   "execution_count": 15,
   "metadata": {},
   "outputs": [
    {
     "name": "stdout",
     "output_type": "stream",
     "text": [
      "Success!\n",
      "Time Taken: 191.8844382762909\n"
     ]
    }
   ],
   "source": [
    "import time\n",
    "start=time.time()\n",
    "\n",
    "errors,final_theta=grad_d(new_x,y)\n",
    "\n",
    "end=time.time()\n",
    "\n",
    "print(\"Success!\")\n",
    "print(\"Time Taken:\",end-start)"
   ]
  },
  {
   "cell_type": "code",
   "execution_count": 16,
   "metadata": {},
   "outputs": [
    {
     "data": {
      "text/plain": [
       "[592.1469169960473,\n",
       " 466.54569330560287,\n",
       " 377.43147407673746,\n",
       " 308.7149521540236,\n",
       " 254.03548557388925,\n",
       " 210.04757237720992,\n",
       " 174.5286118530477,\n",
       " 145.80991561210527,\n",
       " 122.57631664574117,\n",
       " 103.77366461927987,\n",
       " 88.5523834497301,\n",
       " 76.22658411983201,\n",
       " 66.24220878417641,\n",
       " 58.1515804455952,\n",
       " 51.59291428794987,\n",
       " 46.27378947169186,\n",
       " 41.957809614057766,\n",
       " 38.453835610224516,\n",
       " 35.60729401120197,\n",
       " 33.29315995563935,\n",
       " 31.410291078991712,\n",
       " 29.876851425665944,\n",
       " 28.62661493564598,\n",
       " 27.605978840961352,\n",
       " 26.77155016045884,\n",
       " 26.088194951952676,\n",
       " 25.527461308972367,\n",
       " 25.06630427670675,\n",
       " 24.68605471558473,\n",
       " 24.371585310870913,\n",
       " 24.110635935268522,\n",
       " 23.893267839112173,\n",
       " 23.711422007428787,\n",
       " 23.558561757017653,\n",
       " 23.42938346876794,\n",
       " 23.319582437059616,\n",
       " 23.225663311353106,\n",
       " 23.144786619459538,\n",
       " 23.07464448979449,\n",
       " 23.01336000558479,\n",
       " 22.95940568756079,\n",
       " 22.911537461576817,\n",
       " 22.868741162956244,\n",
       " 22.830189191736956,\n",
       " 22.795205387877235,\n",
       " 22.763236563476724,\n",
       " 22.733829426797726,\n",
       " 22.706611873787367,\n",
       " 22.681277817762265,\n",
       " 22.657574885707657,\n",
       " 22.635294437361626,\n",
       " 22.614263466643685,\n",
       " 22.59433802868731,\n",
       " 22.57539790350398,\n",
       " 22.55734226218073,\n",
       " 22.54008614594648,\n",
       " 22.523557604431275,\n",
       " 22.50769536858725,\n",
       " 22.49244695734869,\n",
       " 22.47776713623267,\n",
       " 22.463616661574026,\n",
       " 22.449961256640826,\n",
       " 22.4367707760459,\n",
       " 22.424018523113013,\n",
       " 22.411680691532155,\n",
       " 22.399735908054954,\n",
       " 22.38816485736472,\n",
       " 22.37694997381566,\n",
       " 22.36607518761671,\n",
       " 22.35552571537447,\n",
       " 22.34528788680565,\n",
       " 22.335349000965817,\n",
       " 22.325697206589844,\n",
       " 22.31632140215008,\n",
       " 22.30721115205947,\n",
       " 22.29835661611304,\n",
       " 22.289748489802584,\n",
       " 22.281377953576634,\n",
       " 22.273236629476585,\n",
       " 22.265316543867556,\n",
       " 22.257610095218904,\n",
       " 22.250110026080296,\n",
       " 22.242809398554936,\n",
       " 22.23570157269711,\n",
       " 22.228780187366315,\n",
       " 22.22203914315135,\n",
       " 22.21547258704803,\n",
       " 22.209074898629975,\n",
       " 22.20284067749477,\n",
       " 22.19676473180902,\n",
       " 22.190842067802404,\n",
       " 22.18506788008798,\n",
       " 22.179437542704964,\n",
       " 22.17394660079801,\n",
       " 22.168590762860088,\n",
       " 22.163365893476936,\n",
       " 22.158268006521514,\n",
       " 22.153293258753585,\n",
       " 22.148437943786373,\n",
       " 22.143698486387102,\n",
       " 22.139071437083523,\n",
       " 22.13455346705099,\n",
       " 22.130141363258623,\n",
       " 22.125832023855764,\n",
       " 22.12162245378072,\n",
       " 22.117509760578237,\n",
       " 22.113491150410493,\n",
       " 22.109563924250857,\n",
       " 22.10572547424845,\n",
       " 22.101973280254025,\n",
       " 22.09830490649761,\n",
       " 22.094717998409955,\n",
       " 22.091210279579855,\n",
       " 22.087779548840082,\n",
       " 22.08442367747562,\n",
       " 22.08114060654785,\n",
       " 22.07792834432892,\n",
       " 22.074784963841378,\n",
       " 22.071708600497377,\n",
       " 22.068697449833333,\n",
       " 22.06574976533544,\n",
       " 22.062863856351697,\n",
       " 22.060038086086745,\n",
       " 22.05727086967586,\n",
       " 22.05456067233428,\n",
       " 22.051906007578875,\n",
       " 22.04930543551893,\n",
       " 22.04675756121283,\n",
       " 22.044261033088258,\n",
       " 22.041814541422735,\n",
       " 22.039416816882547,\n",
       " 22.0370666291165,\n",
       " 22.034762785404,\n",
       " 22.0325041293533,\n",
       " 22.030289539649075,\n",
       " 22.028117928847067,\n",
       " 22.025988242213522,\n",
       " 22.02389945660786,\n",
       " 22.021850579407126,\n",
       " 22.019840647469945,\n",
       " 22.01786872613865,\n",
       " 22.015933908278384,\n",
       " 22.0140353133514,\n",
       " 22.012172086524863,\n",
       " 22.010343397811674,\n",
       " 22.00854844124209,\n",
       " 22.006786434065884,\n",
       " 22.005056615982806,\n",
       " 22.003358248401142,\n",
       " 22.001690613723056,\n",
       " 22.00005301465515,\n",
       " 21.99844477354417,\n",
       " 21.99686523173586,\n",
       " 21.99531374895756,\n",
       " 21.993789702721667,\n",
       " 21.99229248775098,\n",
       " 21.99082151542415,\n",
       " 21.989376213240636,\n",
       " 21.987956024304456,\n",
       " 21.986560406826175,\n",
       " 21.985188833642393,\n",
       " 21.983840791751803,\n",
       " 21.982515781867573,\n",
       " 21.981213317985237,\n",
       " 21.97993292696563,\n",
       " 21.978674148132335,\n",
       " 21.977436532882713,\n",
       " 21.97621964431277,\n",
       " 21.97502305685461,\n",
       " 21.973846355926486,\n",
       " 21.972689137594724,\n",
       " 21.97155100824729,\n",
       " 21.970431584278398,\n",
       " 21.96933049178384,\n",
       " 21.968247366266805,\n",
       " 21.96718185235342,\n",
       " 21.96613360351793,\n",
       " 21.965102281817483,\n",
       " 21.964087557635263,\n",
       " 21.96308910943265,\n",
       " 21.962106623509506,\n",
       " 21.961139793772592,\n",
       " 21.96018832151141,\n",
       " 21.959251915181817,\n",
       " 21.958330290196706,\n",
       " 21.957423168723395,\n",
       " 21.956530279487986,\n",
       " 21.95565135758599,\n",
       " 21.954786144299266,\n",
       " 21.953934386918814,\n",
       " 21.95309583857338,\n",
       " 21.95227025806404,\n",
       " 21.951457409703252,\n",
       " 21.950657063160055,\n",
       " 21.949868993309952,\n",
       " 21.949092980089194,\n",
       " 21.948328808354525,\n",
       " 21.947576267746733,\n",
       " 21.94683515255896,\n",
       " 21.94610526160912,\n",
       " 21.945386398116227,\n",
       " 21.94467836958091,\n",
       " 21.943980987669484,\n",
       " 21.94329406810162,\n",
       " 21.942617430541926,\n",
       " 21.941950898494575,\n",
       " 21.941294299201033,\n",
       " 21.940647463541787,\n",
       " 21.940010225940142,\n",
       " 21.939382424269652,\n",
       " 21.938763899764204,\n",
       " 21.938154496930817,\n",
       " 21.937554063465118,\n",
       " 21.936962450169688,\n",
       " 21.936379510874296,\n",
       " 21.9358051023592,\n",
       " 21.935239084280393,\n",
       " 21.934681319097216,\n",
       " 21.934131672002128,\n",
       " 21.933590010852527,\n",
       " 21.933056206104734,\n",
       " 21.93253013074986,\n",
       " 21.932011660251607,\n",
       " 21.931500672485775,\n",
       " 21.930997047681842,\n",
       " 21.930500668365884,\n",
       " 21.930011419305483,\n",
       " 21.929529187456133,\n",
       " 21.929053861909072,\n",
       " 21.928585333840758,\n",
       " 21.928123496463922,\n",
       " 21.92766824497963,\n",
       " 21.927219476531135,\n",
       " 21.926777090158808,\n",
       " 21.92634098675646,\n",
       " 21.92591106902872,\n",
       " 21.925487241449897,\n",
       " 21.92506941022365,\n",
       " 21.924657483244125,\n",
       " 21.924251370057963,\n",
       " 21.923850981827297,\n",
       " 21.923456231294054,\n",
       " 21.923067032744957,\n",
       " 21.922683301977575,\n",
       " 21.92230495626733,\n",
       " 21.921931914335353,\n",
       " 21.92156409631725,\n",
       " 21.92120142373276,\n",
       " 21.92084381945586,\n",
       " 21.92049120768637,\n",
       " 21.9201435139215,\n",
       " 21.91980066492875,\n",
       " 21.91946258871917,\n",
       " 21.91912921452175,\n",
       " 21.91880047275771,\n",
       " 21.918476295016333,\n",
       " 21.9181566140308,\n",
       " 21.91784136365484,\n",
       " 21.917530478840224,\n",
       " 21.917223895614146,\n",
       " 21.916921551058234,\n",
       " 21.916623383286865,\n",
       " 21.916329331427058,\n",
       " 21.916039335598242,\n",
       " 21.915753336892735,\n",
       " 21.91547127735687,\n",
       " 21.915193099972175,\n",
       " 21.91491874863737,\n",
       " 21.914648168150627,\n",
       " 21.914381304192368,\n",
       " 21.914118103308414,\n",
       " 21.913858512893313,\n",
       " 21.913602481174763,\n",
       " 21.913349957197415,\n",
       " 21.91310089080784,\n",
       " 21.912855232639586,\n",
       " 21.912612934098437,\n",
       " 21.91237394734834,\n",
       " 21.912138225297305,\n",
       " 21.911905721583828,\n",
       " 21.911676390563645,\n",
       " 21.911450187296627,\n",
       " 21.911227067534192,\n",
       " 21.911006987706802,\n",
       " 21.91078990491175,\n",
       " 21.910575776901542,\n",
       " 21.9103645620719,\n",
       " 21.910156219450677,\n",
       " 21.9099507086867,\n",
       " 21.909747990038863,\n",
       " 21.90954802436543,\n",
       " 21.909350773113786,\n",
       " 21.909156198310097,\n",
       " 21.9089642625494,\n",
       " 21.908774928985885,\n",
       " 21.908588161323305,\n",
       " 21.90840392380564,\n",
       " 21.908222181207858,\n",
       " 21.908042898827144,\n",
       " 21.907866042473948]"
      ]
     },
     "execution_count": 16,
     "metadata": {},
     "output_type": "execute_result"
    }
   ],
   "source": [
    "errors"
   ]
  },
  {
   "cell_type": "code",
   "execution_count": 17,
   "metadata": {},
   "outputs": [
    {
     "data": {
      "image/png": "[encoded data removed]",
      "text/plain": [
       "<Figure size 432x288 with 1 Axes>"
      ]
     },
     "metadata": {
      "needs_background": "light"
     },
     "output_type": "display_data"
    }
   ],
   "source": [
    "plt.plot(errors)\n",
    "plt.show()"
   ]
  },
  {
   "cell_type": "code",
   "execution_count": 18,
   "metadata": {},
   "outputs": [
    {
     "name": "stdout",
     "output_type": "stream",
     "text": [
      "[ 2.25328063e+01 -9.04193768e-01  1.04286109e+00  2.89644222e-02\n",
      "  6.97739477e-01 -2.02383117e+00  2.69785214e+00  1.91508238e-04\n",
      " -3.10263611e+00  2.37380082e+00 -1.75821720e+00 -2.04660686e+00\n",
      "  8.47538074e-01 -3.73225307e+00]\n"
     ]
    }
   ],
   "source": [
    "print(final_theta)"
   ]
  },
  {
   "cell_type": "markdown",
   "metadata": {},
   "source": [
    "# Predictions"
   ]
  },
  {
   "cell_type": "code",
   "execution_count": 21,
   "metadata": {},
   "outputs": [],
   "source": [
    "ypred=[]\n",
    "m=new_x.shape[0]\n",
    "for i in range(m):\n",
    "    pred=hypothesis(new_x[i],final_theta)\n",
    "    ypred.append(pred)\n",
    "ypred=np.array(ypred)"
   ]
  },
  {
   "cell_type": "code",
   "execution_count": 22,
   "metadata": {},
   "outputs": [
    {
     "data": {
      "text/plain": [
       "array([30.16779278, 24.99563162, 30.56750749, 28.62168514, 27.9612994 ,\n",
       "       25.24659803, 22.96842558, 19.49887775, 11.4833025 , 18.88191436,\n",
       "       18.9731634 , 21.54398165, 20.89318508, 19.59842069, 19.32175544,\n",
       "       19.34297631, 20.59338716, 16.9552011 , 16.23159847, 18.44349089,\n",
       "       12.55359478, 17.7074303 , 15.88226813, 13.84020449, 15.71387303,\n",
       "       13.41938853, 15.49630646, 14.75562096, 19.59655922, 20.93583908,\n",
       "       11.49519316, 18.09237528,  8.87852384, 14.31482346, 13.75735032,\n",
       "       23.7817538 , 22.31384998, 23.09051513, 22.9107193 , 31.28536267,\n",
       "       34.157675  , 27.99572558, 25.15789049, 24.56773707, 22.875054  ,\n",
       "       22.02211643, 20.35879016, 17.95257441,  9.01388365, 17.11982061,\n",
       "       21.17629343, 23.85374302, 27.57277293, 23.95348209, 15.6724733 ,\n",
       "       30.98340606, 24.92921385, 32.93373828, 21.64740172, 20.94019461,\n",
       "       17.71518154, 18.34480176, 23.84261669, 22.4412911 , 23.35225563,\n",
       "       30.37280288, 25.52474347, 21.21826605, 17.51446448, 20.88328437,\n",
       "       25.2027101 , 21.72642576, 24.54396262, 24.04039486, 25.61434169,\n",
       "       24.05385975, 23.01665708, 23.44021745, 21.34672709, 22.50697595,\n",
       "       28.40903559, 26.97231133, 26.02788454, 25.03774998, 24.79273365,\n",
       "       27.7961683 , 22.1710533 , 25.88339985, 30.7710158 , 30.94614842,\n",
       "       27.214526  , 27.50140424, 28.73813469, 28.88394733, 26.81774817,\n",
       "       28.73911908, 24.82514943, 35.92760357, 35.27790927, 32.38732514,\n",
       "       24.73868199, 25.75745942, 19.9422489 , 20.45168505, 21.57193392,\n",
       "       18.66816646, 17.32220958, 20.89221966, 22.79069591, 19.91599899,\n",
       "       20.81331329, 26.70530759, 20.92744499, 20.87577393, 25.33465884,\n",
       "       20.58863004, 23.54794629, 23.84626223, 20.50201633, 20.95513007,\n",
       "       21.51554645, 22.06496849, 20.14961039, 15.9646387 , 20.14785464,\n",
       "       22.07297816, 14.21156092, 15.25069051, 19.03076679, 14.13026789,\n",
       "       20.12402763, 19.49716997, 20.14711363, 15.83202726, 13.33390217,\n",
       "       17.35543144, 15.96053282, 19.45364657, 13.89725364, 16.53749864,\n",
       "       13.67233465,  4.0663023 , 14.70925499, 12.20383415,  8.7665956 ,\n",
       "       12.11481695, 15.86462236,  8.55498763,  9.76716168, 14.85657659,\n",
       "       20.89161016, 18.3268468 , 20.20384907, 17.33050028, 22.48523241,\n",
       "       20.24311912, 13.65886944, 33.24883069, 28.9912471 , 25.62067969,\n",
       "       32.74230571, 36.78253478, 40.63513358, 41.94844537, 24.7587109 ,\n",
       "       25.35824865, 37.22725801, 23.06968018, 26.38642308, 26.64116484,\n",
       "       22.52748801, 24.25966065, 22.97496803, 29.0926782 , 26.53550555,\n",
       "       30.7765831 , 25.65169042, 29.15803821, 31.47485498, 32.87218864,\n",
       "       34.68763537, 27.69156261, 33.82017714, 30.90387277, 22.61478635,\n",
       "       24.69481651, 35.86615733, 33.5826805 , 32.56800531, 34.68650341,\n",
       "       30.93775247, 30.45154814, 33.09638438, 32.14811516, 31.58078036,\n",
       "       40.78531205, 36.22137904, 32.76316388, 34.79918521, 30.29954441,\n",
       "       30.85640139, 29.38493949, 37.22656377, 41.85162896, 43.01469616,\n",
       "       22.6370324 , 23.62420325, 17.77517844, 23.49116137, 16.96422155,\n",
       "       22.36706387, 17.02974767, 22.73262022, 25.17339026, 11.08917928,\n",
       "       24.45119384, 26.5075069 , 28.19590551, 24.80261084, 29.57760227,\n",
       "       33.17555737, 23.7564516 , 32.13824923, 29.66572327, 38.34087083,\n",
       "       39.79811928, 37.54142463, 32.33543371, 35.44906204, 31.18543757,\n",
       "       24.39767081, 33.23330937, 38.02329748, 37.13912511, 31.7114326 ,\n",
       "       25.18735771, 30.09002787, 32.66683755, 28.38033924, 28.37209326,\n",
       "       27.24435281, 23.66036813, 24.05402791, 27.35854088, 16.26229368,\n",
       "       13.34649813, 19.99072994, 19.81123913, 21.26408486, 24.08190665,\n",
       "       24.20213236, 25.03600349, 24.93276715, 30.00209079, 24.02630286,\n",
       "       21.75505682, 37.37976103, 43.31610068, 36.44679294, 34.93501663,\n",
       "       34.78588446, 37.14191269, 40.99092943, 34.41898589, 35.79875225,\n",
       "       28.17915503, 31.20138037, 40.83687583, 39.29054394, 25.64636207,\n",
       "       22.18916493, 27.10946758, 28.40009921, 35.47060259, 36.06610152,\n",
       "       33.68914323, 35.58143517, 34.80717378, 30.24578383, 35.17114222,\n",
       "       38.66904351, 34.19434661, 40.27783021, 44.63449995, 31.62490454,\n",
       "       27.45140013, 20.07151188, 26.91532538, 27.0814237 , 26.80922326,\n",
       "       33.27999246, 34.25814015, 31.67525541, 25.70908868, 24.30362717,\n",
       "       28.3554914 , 27.24418877, 19.4043451 , 29.16040728, 31.98774501,\n",
       "       30.81916064, 28.88298855, 28.83308882, 32.76073646, 33.0545975 ,\n",
       "       30.58410111, 35.39153616, 32.52187371, 28.64006916, 23.57707404,\n",
       "       18.5342353 , 26.88228952, 23.26344644, 25.53556929, 25.48067472,\n",
       "       20.51957669, 17.61068131, 18.37010291, 24.29950366, 21.33507423,\n",
       "       24.87138333, 24.85039308, 22.84420359, 19.40434962, 25.10926943,\n",
       "       24.67570463, 23.67681561, 19.32951167, 21.50746936, 24.60326939,\n",
       "       21.93004235, 20.06572315, 23.42779538, 22.05657327, 21.47226388,\n",
       "       20.53100409, 20.06183928, 19.17902794, 22.07782751, 21.15472755,\n",
       "       21.3242126 , 30.46397238, 22.49474603, 27.80664738, 28.67007386,\n",
       "       16.74424182, 14.98021453, 25.3158603 , 27.49084626, 22.40248104,\n",
       "       20.6917525 , 20.77797138, 17.10433108, 25.11736307, 14.38123267,\n",
       "       16.65843481, 19.6810511 , 22.75140164, 22.2326974 , 19.17309053,\n",
       "       22.6321184 , 18.89935473, 18.15496343, 20.24983953, 37.58537838,\n",
       "       14.13642794, 15.45156769, 10.70235891, 23.66387496, 32.63303621,\n",
       "       34.60730328, 24.87053699, 25.99284546,  6.0648641 ,  0.71616767,\n",
       "       25.31874827, 17.73727725, 20.21146618, 15.84234471, 16.81716881,\n",
       "       14.57350003, 18.46368424, 13.37362257, 13.00534567,  3.23544354,\n",
       "        8.03139286,  6.09438548,  5.60446096,  6.40184816, 14.14225638,\n",
       "       17.1499341 , 17.25631246,  9.83244332, 20.17756462, 17.90141514,\n",
       "       20.26924568, 19.25560852, 16.27815119,  6.58515888, 10.87321989,\n",
       "       11.88985286, 17.79169484, 18.23075549, 12.9573875 ,  7.4294285 ,\n",
       "        8.32290577,  7.98546563, 19.91011245, 13.62937788, 19.82624811,\n",
       "       15.24998812, 16.93171582,  1.65560257, 11.76182934, -4.24244016,\n",
       "        9.5946355 , 13.3701836 ,  6.89196547,  6.28391741, 14.62982436,\n",
       "       19.57381344, 18.07739442, 18.45062362, 13.12741612, 14.5567046 ,\n",
       "        9.90645709, 16.29990402, 14.12443703, 14.23220064, 13.02156718,\n",
       "       18.10421975, 18.65861688, 21.46745297, 17.00393697, 15.94236385,\n",
       "       13.36998848, 14.5268499 ,  8.82661141,  4.88204976, 13.03003808,\n",
       "       12.71187627, 17.27960581, 18.70009074, 18.04330965, 11.49864036,\n",
       "       11.97766346, 17.65478999, 18.10186176, 17.48284237, 17.19856532,\n",
       "       16.50956006, 19.38294361, 18.54225545, 22.48948324, 15.2749232 ,\n",
       "       15.79911679, 12.64807835, 12.84783296, 17.16065629, 18.47106369,\n",
       "       19.02402509, 20.12912288, 19.74003421, 22.38911566, 20.27925815,\n",
       "       17.8326198 , 14.3150352 , 16.86521068, 16.93941842, 18.53344397,\n",
       "       20.08707713, 22.87467705, 22.38566885, 25.53992457, 16.29349751,\n",
       "       16.04251145, 20.4732388 , 11.47788341, 19.14533035, 21.81394572,\n",
       "       23.3863126 , 27.02140657, 28.50041429, 20.99372096, 19.38555519,\n",
       "       22.15968868, 19.57982762, 21.25227442, 12.33452387,  8.70780681,\n",
       "        4.14704149, 14.25140989, 16.42652008, 20.74149447, 20.74536711,\n",
       "       17.02559661, 14.11961896, 19.21890455, 21.41733294, 18.55682535,\n",
       "       20.5806555 , 23.57797909, 22.3980202 , 27.66321144, 26.16048148,\n",
       "       22.35891292])"
      ]
     },
     "execution_count": 22,
     "metadata": {},
     "output_type": "execute_result"
    }
   ],
   "source": [
    "ypred"
   ]
  },
  {
   "cell_type": "code",
   "execution_count": 23,
   "metadata": {},
   "outputs": [
    {
     "data": {
      "text/plain": [
       "array([24. , 21.6, 34.7, 33.4, 36.2, 28.7, 22.9, 27.1, 16.5, 18.9, 15. ,\n",
       "       18.9, 21.7, 20.4, 18.2, 19.9, 23.1, 17.5, 20.2, 18.2, 13.6, 19.6,\n",
       "       15.2, 14.5, 15.6, 13.9, 16.6, 14.8, 18.4, 21. , 12.7, 14.5, 13.2,\n",
       "       13.1, 13.5, 18.9, 20. , 21. , 24.7, 30.8, 34.9, 26.6, 25.3, 24.7,\n",
       "       21.2, 19.3, 20. , 16.6, 14.4, 19.4, 19.7, 20.5, 25. , 23.4, 18.9,\n",
       "       35.4, 24.7, 31.6, 23.3, 19.6, 18.7, 16. , 22.2, 25. , 33. , 23.5,\n",
       "       19.4, 22. , 17.4, 20.9, 24.2, 21.7, 22.8, 23.4, 24.1, 21.4, 20. ,\n",
       "       20.8, 21.2, 20.3, 28. , 23.9, 24.8, 22.9, 23.9, 26.6, 22.5, 22.2,\n",
       "       23.6, 28.7, 22.6, 22. , 22.9, 25. , 20.6, 28.4, 21.4, 38.7, 43.8,\n",
       "       33.2, 27.5, 26.5, 18.6, 19.3, 20.1, 19.5, 19.5, 20.4, 19.8, 19.4,\n",
       "       21.7, 22.8, 18.8, 18.7, 18.5, 18.3, 21.2, 19.2, 20.4, 19.3, 22. ,\n",
       "       20.3, 20.5, 17.3, 18.8, 21.4, 15.7, 16.2, 18. , 14.3, 19.2, 19.6,\n",
       "       23. , 18.4, 15.6, 18.1, 17.4, 17.1, 13.3, 17.8, 14. , 14.4, 13.4,\n",
       "       15.6, 11.8, 13.8, 15.6, 14.6, 17.8, 15.4, 21.5, 19.6, 15.3, 19.4,\n",
       "       17. , 15.6, 13.1, 41.3, 24.3, 23.3, 27. , 50. , 50. , 50. , 22.7,\n",
       "       25. , 50. , 23.8, 23.8, 22.3, 17.4, 19.1, 23.1, 23.6, 22.6, 29.4,\n",
       "       23.2, 24.6, 29.9, 37.2, 39.8, 36.2, 37.9, 32.5, 26.4, 29.6, 50. ,\n",
       "       32. , 29.8, 34.9, 37. , 30.5, 36.4, 31.1, 29.1, 50. , 33.3, 30.3,\n",
       "       34.6, 34.9, 32.9, 24.1, 42.3, 48.5, 50. , 22.6, 24.4, 22.5, 24.4,\n",
       "       20. , 21.7, 19.3, 22.4, 28.1, 23.7, 25. , 23.3, 28.7, 21.5, 23. ,\n",
       "       26.7, 21.7, 27.5, 30.1, 44.8, 50. , 37.6, 31.6, 46.7, 31.5, 24.3,\n",
       "       31.7, 41.7, 48.3, 29. , 24. , 25.1, 31.5, 23.7, 23.3, 22. , 20.1,\n",
       "       22.2, 23.7, 17.6, 18.5, 24.3, 20.5, 24.5, 26.2, 24.4, 24.8, 29.6,\n",
       "       42.8, 21.9, 20.9, 44. , 50. , 36. , 30.1, 33.8, 43.1, 48.8, 31. ,\n",
       "       36.5, 22.8, 30.7, 50. , 43.5, 20.7, 21.1, 25.2, 24.4, 35.2, 32.4,\n",
       "       32. , 33.2, 33.1, 29.1, 35.1, 45.4, 35.4, 46. , 50. , 32.2, 22. ,\n",
       "       20.1, 23.2, 22.3, 24.8, 28.5, 37.3, 27.9, 23.9, 21.7, 28.6, 27.1,\n",
       "       20.3, 22.5, 29. , 24.8, 22. , 26.4, 33.1, 36.1, 28.4, 33.4, 28.2,\n",
       "       22.8, 20.3, 16.1, 22.1, 19.4, 21.6, 23.8, 16.2, 17.8, 19.8, 23.1,\n",
       "       21. , 23.8, 23.1, 20.4, 18.5, 25. , 24.6, 23. , 22.2, 19.3, 22.6,\n",
       "       19.8, 17.1, 19.4, 22.2, 20.7, 21.1, 19.5, 18.5, 20.6, 19. , 18.7,\n",
       "       32.7, 16.5, 23.9, 31.2, 17.5, 17.2, 23.1, 24.5, 26.6, 22.9, 24.1,\n",
       "       18.6, 30.1, 18.2, 20.6, 17.8, 21.7, 22.7, 22.6, 25. , 19.9, 20.8,\n",
       "       16.8, 21.9, 27.5, 21.9, 23.1, 50. , 50. , 50. , 50. , 50. , 13.8,\n",
       "       13.8, 15. , 13.9, 13.3, 13.1, 10.2, 10.4, 10.9, 11.3, 12.3,  8.8,\n",
       "        7.2, 10.5,  7.4, 10.2, 11.5, 15.1, 23.2,  9.7, 13.8, 12.7, 13.1,\n",
       "       12.5,  8.5,  5. ,  6.3,  5.6,  7.2, 12.1,  8.3,  8.5,  5. , 11.9,\n",
       "       27.9, 17.2, 27.5, 15. , 17.2, 17.9, 16.3,  7. ,  7.2,  7.5, 10.4,\n",
       "        8.8,  8.4, 16.7, 14.2, 20.8, 13.4, 11.7,  8.3, 10.2, 10.9, 11. ,\n",
       "        9.5, 14.5, 14.1, 16.1, 14.3, 11.7, 13.4,  9.6,  8.7,  8.4, 12.8,\n",
       "       10.5, 17.1, 18.4, 15.4, 10.8, 11.8, 14.9, 12.6, 14.1, 13. , 13.4,\n",
       "       15.2, 16.1, 17.8, 14.9, 14.1, 12.7, 13.5, 14.9, 20. , 16.4, 17.7,\n",
       "       19.5, 20.2, 21.4, 19.9, 19. , 19.1, 19.1, 20.1, 19.9, 19.6, 23.2,\n",
       "       29.8, 13.8, 13.3, 16.7, 12. , 14.6, 21.4, 23. , 23.7, 25. , 21.8,\n",
       "       20.6, 21.2, 19.1, 20.6, 15.2,  7. ,  8.1, 13.6, 20.1, 21.8, 24.5,\n",
       "       23.1, 19.7, 18.3, 21.2, 17.5, 16.8, 22.4, 20.6, 23.9, 22. , 11.9])"
      ]
     },
     "execution_count": 23,
     "metadata": {},
     "output_type": "execute_result"
    }
   ],
   "source": [
    "y"
   ]
  },
  {
   "cell_type": "markdown",
   "metadata": {},
   "source": [
    "# R2 Score"
   ]
  },
  {
   "cell_type": "code",
   "execution_count": 24,
   "metadata": {},
   "outputs": [],
   "source": [
    "def r2_score(yo,yp):\n",
    "    num=np.sum((yo-yp)**2)\n",
    "    denom=np.sum((yo-yo.mean())**2)\n",
    "    score=1-(num/denom)\n",
    "    return score*100"
   ]
  },
  {
   "cell_type": "code",
   "execution_count": 25,
   "metadata": {},
   "outputs": [
    {
     "data": {
      "text/plain": [
       "74.04903250387042"
      ]
     },
     "execution_count": 25,
     "metadata": {},
     "output_type": "execute_result"
    }
   ],
   "source": [
    "r2_score(y,ypred)"
   ]
  },
  {
   "cell_type": "markdown",
   "metadata": {},
   "source": [
    "# Conclusions"
   ]
  },
  {
   "cell_type": "markdown",
   "metadata": {},
   "source": [
    " - descent accuracy \n",
    " - took 192 seconds even with just 506 examples : slow method"
   ]
  },
  {
   "cell_type": "code",
   "execution_count": null,
   "metadata": {},
   "outputs": [],
   "source": []
  },
  {
   "cell_type": "code",
   "execution_count": null,
   "metadata": {},
   "outputs": [],
   "source": []
  }
 ],
 "metadata": {
  "kernelspec": {
   "display_name": "Python 3",
   "language": "python",
   "name": "python3"
  },
  "language_info": {
   "codemirror_mode": {
    "name": "ipython",
    "version": 3
   },
   "file_extension": ".py",
   "mimetype": "text/x-python",
   "name": "python",
   "nbconvert_exporter": "python",
   "pygments_lexer": "ipython3",
   "version": "3.8.6"
  }
 },
 "nbformat": 4,
 "nbformat_minor": 4
}
